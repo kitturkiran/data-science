{
  "cells": [
    {
      "cell_type": "code",
      "execution_count": null,
      "metadata": {
        "id": "7Mo5xmpNUubX"
      },
      "outputs": [],
      "source": [
        "import pandas as pd\n",
        "import numpy as np\n",
        "from sklearn.metrics import pairwise_distances\n",
        "from scipy.spatial.distance import cosine,correlation"
      ]
    },
    {
      "cell_type": "code",
      "execution_count": null,
      "metadata": {
        "id": "Bf4_bjVrVTCc"
      },
      "outputs": [],
      "source": [
        "books=pd.read_csv(\"book.csv\",encoding='latin')"
      ]
    },
    {
      "cell_type": "code",
      "execution_count": null,
      "metadata": {
        "id": "4vFqJUL0VpDt"
      },
      "outputs": [],
      "source": [
        "books.head()"
      ]
    },
    {
      "cell_type": "code",
      "source": [
        "books.info()"
      ],
      "metadata": {
        "id": "bnyj4J4zdRJV"
      },
      "execution_count": null,
      "outputs": []
    },
    {
      "cell_type": "code",
      "source": [
        "books.isna().sum()\n"
      ],
      "metadata": {
        "id": "QNBEGvdhdV-l"
      },
      "execution_count": null,
      "outputs": []
    },
    {
      "cell_type": "code",
      "source": [
        "books=books.iloc[:,0:4]"
      ],
      "metadata": {
        "id": "gRAXxGu488ZQ"
      },
      "execution_count": null,
      "outputs": []
    },
    {
      "cell_type": "code",
      "source": [
        "books"
      ],
      "metadata": {
        "id": "1yh5-63L9G7Y"
      },
      "execution_count": null,
      "outputs": []
    },
    {
      "cell_type": "code",
      "source": [
        "books1=books[['User.ID','Book.Title']].drop_duplicates()"
      ],
      "metadata": {
        "id": "Ujew4iod5AKZ"
      },
      "execution_count": null,
      "outputs": []
    },
    {
      "cell_type": "code",
      "source": [
        "books1['book_Rating']=books['Book.Rating']"
      ],
      "metadata": {
        "id": "p4jSpJp_5AZD"
      },
      "execution_count": null,
      "outputs": []
    },
    {
      "cell_type": "code",
      "source": [
        "books1"
      ],
      "metadata": {
        "id": "umnYlHGWs2Wr"
      },
      "execution_count": null,
      "outputs": []
    },
    {
      "cell_type": "code",
      "source": [
        "books1=books1.rename({\"User.ID\":\"user_id\",\"Book.Title\":\"book_title\",\"book.rating\":\"book_rating\"},axis=1)"
      ],
      "metadata": {
        "id": "flYhi4trbg93"
      },
      "execution_count": null,
      "outputs": []
    },
    {
      "cell_type": "code",
      "source": [
        "books1"
      ],
      "metadata": {
        "id": "Nxm9tbeSb6ET"
      },
      "execution_count": null,
      "outputs": []
    },
    {
      "cell_type": "code",
      "source": [
        "books_pivot=books1.pivot(index=\"user_id\",columns=\"book_title\",values=\"book_Rating\").reset_index(drop=True)"
      ],
      "metadata": {
        "id": "OG3QOlrhrDIh"
      },
      "execution_count": null,
      "outputs": []
    },
    {
      "cell_type": "code",
      "source": [
        "books_pivot"
      ],
      "metadata": {
        "id": "kE4YWAsEaw8b"
      },
      "execution_count": null,
      "outputs": []
    },
    {
      "cell_type": "code",
      "source": [
        "books_pivot.index = books1[\"user_id\"].unique()"
      ],
      "metadata": {
        "id": "LAe4jxjybAti"
      },
      "execution_count": null,
      "outputs": []
    },
    {
      "cell_type": "code",
      "source": [
        "books_pivot"
      ],
      "metadata": {
        "id": "tAlB0U4vCsA1"
      },
      "execution_count": null,
      "outputs": []
    },
    {
      "cell_type": "code",
      "source": [
        "#Impute those NaNs with 0 values\n",
        "books_pivot.fillna(0, inplace=True)"
      ],
      "metadata": {
        "id": "aDXOUICODWcm"
      },
      "execution_count": null,
      "outputs": []
    },
    {
      "cell_type": "code",
      "source": [
        "books_user = 1 - pairwise_distances( books_pivot.values,metric='cosine')"
      ],
      "metadata": {
        "id": "d1aUECpUDjlK"
      },
      "execution_count": null,
      "outputs": []
    },
    {
      "cell_type": "code",
      "source": [
        "books_user"
      ],
      "metadata": {
        "id": "05rH196yD4hr"
      },
      "execution_count": null,
      "outputs": []
    },
    {
      "cell_type": "code",
      "source": [
        "#Store the results in a dataframes\n",
        "books_user_df = pd.DataFrame(books_user)"
      ],
      "metadata": {
        "id": "_CIm-GEcEEoK"
      },
      "execution_count": null,
      "outputs": []
    },
    {
      "cell_type": "code",
      "source": [
        "books_user_df"
      ],
      "metadata": {
        "id": "YIQ85N9-EULg"
      },
      "execution_count": null,
      "outputs": []
    },
    {
      "cell_type": "code",
      "source": [
        "#Set the index and column names to user ids \n",
        "books_user_df.index = books1[\"user_id\"].unique()\n",
        "books_user_df.columns = books1[\"user_id\"].unique()"
      ],
      "metadata": {
        "id": "eeVwzgKBEWXF"
      },
      "execution_count": null,
      "outputs": []
    },
    {
      "cell_type": "code",
      "source": [
        "#Most Similar Users\n",
        "books_user_df.idxmax(axis=1)"
      ],
      "metadata": {
        "id": "_t561uAWE7i5"
      },
      "execution_count": null,
      "outputs": []
    },
    {
      "cell_type": "code",
      "source": [
        "books1[(books1[\"user_id\"]==276736) | (books1[\"user_id\"]==2767)]"
      ],
      "metadata": {
        "id": "9aKli2u8FMsS"
      },
      "execution_count": null,
      "outputs": []
    }
  ],
  "metadata": {
    "colab": {
      "name": "Recommendation engine assignment.ipynb",
      "provenance": [],
      "collapsed_sections": []
    },
    "kernelspec": {
      "display_name": "Python 3",
      "name": "python3"
    },
    "language_info": {
      "name": "python"
    }
  },
  "nbformat": 4,
  "nbformat_minor": 0
}