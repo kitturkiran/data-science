{
  "nbformat": 4,
  "nbformat_minor": 0,
  "metadata": {
    "colab": {
      "name": "SVM assignment.ipynb",
      "provenance": [],
      "collapsed_sections": []
    },
    "kernelspec": {
      "name": "python3",
      "display_name": "Python 3"
    },
    "language_info": {
      "name": "python"
    }
  },
  "cells": [
    {
      "cell_type": "code",
      "execution_count": null,
      "metadata": {
        "id": "dpULPsRQJV0x"
      },
      "outputs": [],
      "source": [
        "import pandas as pd\n",
        "import numpy as np\n",
        "from sklearn.svm import SVC\n",
        "from sklearn.model_selection import KFold,train_test_split,cross_val_score,GridSearchCV\n",
        "from sklearn.metrics import accuracy_score, confusion_matrix\n",
        "import matplotlib.pyplot as plt\n",
        "import seaborn as sns"
      ]
    },
    {
      "cell_type": "code",
      "source": [
        "data=pd.read_csv(\"forestfires.csv\")"
      ],
      "metadata": {
        "id": "-OyuHqCKRard"
      },
      "execution_count": null,
      "outputs": []
    },
    {
      "cell_type": "code",
      "source": [
        "data.head()"
      ],
      "metadata": {
        "id": "0xqCRoXERkSp"
      },
      "execution_count": null,
      "outputs": []
    },
    {
      "cell_type": "code",
      "source": [
        "data.shape"
      ],
      "metadata": {
        "id": "0Dt9E6yTRk_P"
      },
      "execution_count": null,
      "outputs": []
    },
    {
      "cell_type": "code",
      "source": [
        "data.info()"
      ],
      "metadata": {
        "id": "otDvOMeqVmg0"
      },
      "execution_count": null,
      "outputs": []
    },
    {
      "cell_type": "code",
      "source": [
        "data.isna().sum()#there are no null values."
      ],
      "metadata": {
        "id": "w-62JTC2Voxd"
      },
      "execution_count": null,
      "outputs": []
    },
    {
      "cell_type": "code",
      "source": [
        "data.corr()"
      ],
      "metadata": {
        "id": "GagkjsaDV0Jh"
      },
      "execution_count": null,
      "outputs": []
    },
    {
      "cell_type": "code",
      "source": [
        "data.describe()"
      ],
      "metadata": {
        "id": "wDcLX2iRWHkf"
      },
      "execution_count": null,
      "outputs": []
    },
    {
      "cell_type": "code",
      "source": [
        "sns.pairplot(data=data,hue=\"size_catergory\")"
      ],
      "metadata": {
        "id": "JkC1hoe49IBa"
      },
      "execution_count": null,
      "outputs": []
    },
    {
      "cell_type": "code",
      "source": [
        "plt.figure(figsize=(10,6))#in the month of augest and september there is fire in forest for small and large areas.\n",
        "sns.countplot(x = 'month', hue = 'size_category', data = data)"
      ],
      "metadata": {
        "id": "j3W0iHwbX5TP"
      },
      "execution_count": null,
      "outputs": []
    },
    {
      "cell_type": "code",
      "source": [
        "\n",
        "sns.histplot(x=\"FFMC\",bins=50,hue=\"size_category\",data=data)#wecan see that at higher FFMC we have small and large area fire burned."
      ],
      "metadata": {
        "id": "oZ8NUQZSYmt7"
      },
      "execution_count": null,
      "outputs": []
    },
    {
      "cell_type": "code",
      "source": [
        "sns.scatterplot(x ='temp',hue ='size_category', data = data)"
      ],
      "metadata": {
        "id": "fApcNwlqYngo"
      },
      "execution_count": null,
      "outputs": []
    },
    {
      "cell_type": "code",
      "source": [
        "\n",
        "sns.countplot(x=\"rain\",hue=\"size_category\",data=data)#shows that if rain properly fire will catch less."
      ],
      "metadata": {
        "id": "dvrALA1msN_x"
      },
      "execution_count": null,
      "outputs": []
    },
    {
      "cell_type": "code",
      "source": [
        "sns.scatterplot(x=\"wind\",y=\"size_category\",data=data)# show that winds is less effect to catch fire."
      ],
      "metadata": {
        "id": "So--SgQ8vwh5"
      },
      "execution_count": null,
      "outputs": []
    },
    {
      "cell_type": "code",
      "source": [
        "sns.scatterplot(x=\"area\",y=\"size_category\",data=data)# if forest is large that change of catching fire for large area is higher."
      ],
      "metadata": {
        "id": "30oiLtp5we4h"
      },
      "execution_count": null,
      "outputs": []
    },
    {
      "cell_type": "code",
      "source": [
        "\n",
        "sns.histplot(x=\"DMC\",bins=50,hue=\"size_category\",data=data)"
      ],
      "metadata": {
        "id": "XEKn9T0KwyCG"
      },
      "execution_count": null,
      "outputs": []
    },
    {
      "cell_type": "code",
      "source": [
        "\n",
        "sns.histplot(x=\"ISI\",bins=50,hue=\"size_category\",data=data)#If ISI content is less than there is large of proposition of catching the fire"
      ],
      "metadata": {
        "id": "val3BLDAxG2M"
      },
      "execution_count": null,
      "outputs": []
    },
    {
      "cell_type": "markdown",
      "source": [
        "As We Can See that Features Such As Wind And Rain is Less Effecting the fire area ,We Will Delete That Features,we will also delete the month and day individual columns"
      ],
      "metadata": {
        "id": "JAGa4ABDxzJb"
      }
    },
    {
      "cell_type": "code",
      "source": [
        "data1=data.iloc[:,:11]"
      ],
      "metadata": {
        "id": "egcxcenBxLCC"
      },
      "execution_count": null,
      "outputs": []
    },
    {
      "cell_type": "code",
      "source": [
        "data1"
      ],
      "metadata": {
        "id": "hvJPlUr0ylW0"
      },
      "execution_count": null,
      "outputs": []
    },
    {
      "cell_type": "code",
      "source": [
        "data2=data1.drop(columns=\"wind\",axis=1)\n"
      ],
      "metadata": {
        "id": "d3wwARxqymdN"
      },
      "execution_count": null,
      "outputs": []
    },
    {
      "cell_type": "code",
      "source": [
        "data2=data2.drop(columns=\"rain\",axis=1)"
      ],
      "metadata": {
        "id": "9emq7uIvGwt3"
      },
      "execution_count": null,
      "outputs": []
    },
    {
      "cell_type": "code",
      "source": [
        "data2"
      ],
      "metadata": {
        "id": "PgANw1dDy7l5"
      },
      "execution_count": null,
      "outputs": []
    },
    {
      "cell_type": "code",
      "source": [
        "from sklearn.preprocessing import LabelEncoder\n",
        "data2[\"month\"] = LabelEncoder().fit_transform(data2[\"month\"])\n",
        "data2[\"day\"] = LabelEncoder().fit_transform(data2[\"day\"])\n"
      ],
      "metadata": {
        "id": "J5rWWUBOzC-p"
      },
      "execution_count": null,
      "outputs": []
    },
    {
      "cell_type": "code",
      "source": [
        "data2"
      ],
      "metadata": {
        "id": "89JAFnGAJ6hQ"
      },
      "execution_count": null,
      "outputs": []
    },
    {
      "cell_type": "code",
      "source": [
        "data_nam=data2[\"month\"]\n",
        "data_num1=data2[\"day\"]\n",
        "data2=data2.drop(columns=\"month\",axis=1)\n",
        "data2=data2.drop(columns=\"day\",axis=1)"
      ],
      "metadata": {
        "id": "PKivGba2hjWh"
      },
      "execution_count": null,
      "outputs": []
    },
    {
      "cell_type": "code",
      "source": [
        "data2"
      ],
      "metadata": {
        "id": "bYOgCRkdjOlv"
      },
      "execution_count": null,
      "outputs": []
    },
    {
      "cell_type": "code",
      "source": [
        "\n",
        "from sklearn.preprocessing import MinMaxScaler\n",
        "scalar=MinMaxScaler()\n",
        "data_standard=scalar.fit_transform(data2)"
      ],
      "metadata": {
        "id": "nBu6asqrLmRS"
      },
      "execution_count": null,
      "outputs": []
    },
    {
      "cell_type": "code",
      "source": [
        "data_standard=pd.DataFrame(data_standard)"
      ],
      "metadata": {
        "id": "ouzGVfaajY7K"
      },
      "execution_count": null,
      "outputs": []
    },
    {
      "cell_type": "code",
      "source": [
        "data_standard[\"month\"]=data_nam\n",
        "data_standard[\"day\"]=data_num1"
      ],
      "metadata": {
        "id": "OBTE4bgOjaBb"
      },
      "execution_count": null,
      "outputs": []
    },
    {
      "cell_type": "code",
      "source": [
        "data_standard"
      ],
      "metadata": {
        "id": "bCT0DSXNmwPn"
      },
      "execution_count": null,
      "outputs": []
    },
    {
      "cell_type": "code",
      "source": [
        "data_standard=data_standard.rename(columns={0:\"FFMC\",1:\"DMC\",2:\"DC\",3:\"ISI\",4:\"temp\",5:\"RH\",6:\"area\"})"
      ],
      "metadata": {
        "id": "ax_PWpyqj16y"
      },
      "execution_count": null,
      "outputs": []
    },
    {
      "cell_type": "code",
      "source": [
        "data_standard"
      ],
      "metadata": {
        "id": "sVYdVr_akFx9"
      },
      "execution_count": null,
      "outputs": []
    },
    {
      "cell_type": "code",
      "source": [
        "data_target=data.iloc[:,30]"
      ],
      "metadata": {
        "id": "EDVkKITin974"
      },
      "execution_count": null,
      "outputs": []
    },
    {
      "cell_type": "code",
      "source": [
        "data_target\n",
        "data_target=pd.get_dummies(data_target,drop_first=True)"
      ],
      "metadata": {
        "id": "VHCXtMB6oCiU"
      },
      "execution_count": null,
      "outputs": []
    },
    {
      "cell_type": "code",
      "source": [
        "data_target"
      ],
      "metadata": {
        "id": "gMtO8GatoXUr"
      },
      "execution_count": null,
      "outputs": []
    },
    {
      "cell_type": "code",
      "source": [
        "#spliting into dependent and indenpent variable.\n",
        "X=data_standard\n",
        "Y=data_target"
      ],
      "metadata": {
        "id": "2ELIDuItm6AA"
      },
      "execution_count": null,
      "outputs": []
    },
    {
      "cell_type": "code",
      "source": [
        "#further spliting it into test and train.\n",
        "xtrain,xtest,ytrain,ytest=train_test_split(X,Y,test_size=0.2,random_state=40)"
      ],
      "metadata": {
        "id": "MsawhvpLobBm"
      },
      "execution_count": null,
      "outputs": []
    },
    {
      "cell_type": "code",
      "source": [
        "#building the model.\n",
        "model=SVC()\n",
        "model.fit(xtrain,ytrain)\n"
      ],
      "metadata": {
        "id": "6LXU3QPC3yhJ"
      },
      "execution_count": null,
      "outputs": []
    },
    {
      "cell_type": "code",
      "source": [
        "ypred=model.predict(xtest)\n",
        "accuracy_score(ypred,ytest)"
      ],
      "metadata": {
        "id": "qdTLdNsC3-Ts"
      },
      "execution_count": null,
      "outputs": []
    },
    {
      "cell_type": "code",
      "source": [
        "kfold=KFold(n_splits=10)\n",
        "result=cross_val_score(model,X,Y,cv=kfold)"
      ],
      "metadata": {
        "id": "qypOABHO4SiA"
      },
      "execution_count": null,
      "outputs": []
    },
    {
      "cell_type": "code",
      "source": [
        "result.mean()"
      ],
      "metadata": {
        "id": "asaS1I1j5fE0"
      },
      "execution_count": null,
      "outputs": []
    },
    {
      "cell_type": "code",
      "source": [
        "#by logistic regression \n",
        "from sklearn.linear_model import LogisticRegression\n",
        "model2= LogisticRegression()\n",
        "model2.fit(xtrain,ytrain)\n",
        "ypred1=model2.predict(xtest)\n",
        "accuracy_score(ypred1,ytest)"
      ],
      "metadata": {
        "id": "6JqxeB6y51wZ"
      },
      "execution_count": null,
      "outputs": []
    },
    {
      "cell_type": "code",
      "source": [
        "#by logistic regression we are getting maximum result."
      ],
      "metadata": {
        "id": "KkbvlbEc6aVg"
      },
      "execution_count": null,
      "outputs": []
    },
    {
      "cell_type": "code",
      "source": [
        "#gridsearch for SVC\n",
        "param_grid = [{'kernel':['rbf'],'gamma':[50,5,10,0.5],'C':[15,14,13,12,11,10,0.1,0.001] }]\n",
        "gsv = GridSearchCV(model,param_grid,cv=10)\n",
        "gsv.fit(xtrain,ytrain)\n"
      ],
      "metadata": {
        "id": "skMMLTVW6lGZ"
      },
      "execution_count": null,
      "outputs": []
    },
    {
      "cell_type": "code",
      "source": [
        "\n",
        "gsv.best_params_ , gsv.best_score_ "
      ],
      "metadata": {
        "id": "SWKg7qOR7xt8"
      },
      "execution_count": null,
      "outputs": []
    },
    {
      "cell_type": "code",
      "source": [
        "model3 = SVC(C= 0.1, gamma = 50)\n",
        "model3.fit(xtrain , ytrain)\n",
        "y_pred2 = model3.predict(xtest)\n",
        "acc = accuracy_score(ytest, y_pred2) * 100\n",
        "print(\"Accuracy =\", acc)\n",
        "confusion_matrix(ytest, y_pred2)"
      ],
      "metadata": {
        "id": "oip1oMdC8HWm"
      },
      "execution_count": null,
      "outputs": []
    },
    {
      "cell_type": "code",
      "source": [
        ""
      ],
      "metadata": {
        "id": "voMwSrJZ8uiA"
      },
      "execution_count": null,
      "outputs": []
    }
  ]
}