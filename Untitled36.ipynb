{
  "nbformat": 4,
  "nbformat_minor": 0,
  "metadata": {
    "colab": {
      "provenance": []
    },
    "kernelspec": {
      "name": "python3",
      "display_name": "Python 3"
    },
    "language_info": {
      "name": "python"
    }
  },
  "cells": [
    {
      "cell_type": "code",
      "source": [
        "pip install streamlit"
      ],
      "metadata": {
        "id": "McQZ5irOheJU"
      },
      "execution_count": null,
      "outputs": []
    },
    {
      "cell_type": "code",
      "execution_count": null,
      "metadata": {
        "id": "0OJ2iJ9wPjaB"
      },
      "outputs": [],
      "source": [
        "import streamlit as st\n",
        "import pickle\n",
        "import pandas as pd\n",
        "import requests\n",
        "\n",
        "st.title('books Recommender System')\n",
        "\n",
        "\n",
        "\n",
        "def recommend(books):\n",
        "\n",
        "\n",
        "  \n",
        "  distances, indices = model.kneighbors(matrix.loc[books].values.reshape(1, -1), n_neighbors =10)\n",
        "\n",
        "  for i in range(0, len(distances.flatten())):\n",
        "    if i > 0:\n",
        "        return(matrix.index[indices.flatten()[i]]) \n",
        "\n",
        "\n",
        "matrix= pickle.load(open('books.pkl','rb'))\n",
        "\n",
        "model= pickle.load(open('model.pkl','rb'))\n",
        "\n",
        "books_list = matrix['Book-Title'].values\n",
        "selected_movie = st.selectbox(\n",
        "    'Select a books from drop down',\n",
        "    books_list)\n",
        "\n",
        "st.write('You selected:', selected_movie)\n",
        "\n",
        "\n",
        "if st.button('Show Recommend book'):\n",
        "    recommended_movie_names = recommend(selected_movie)\n",
        "    col1, col2, col3, col4, col5 = st.columns(5)\n",
        "\n",
        "    with col1:\n",
        "        st.text(recommended_movie_names[0])\n",
        "        \n",
        "\n",
        "    with col2:\n",
        "        st.text(recommended_movie_names[1])\n",
        "      \n",
        "\n",
        "    with col3:\n",
        "        st.text(recommended_movie_names[2])\n",
        "      \n",
        "\n",
        "    with col4:\n",
        "        st.text(recommended_movie_names[3])\n",
        "       \n",
        "\n",
        "    with col5:\n",
        "        st.text(recommended_movie_names[4])\n",
        "      "
      ]
    },
    {
      "cell_type": "code",
      "source": [],
      "metadata": {
        "id": "x8Qp4fx-hU7w"
      },
      "execution_count": null,
      "outputs": []
    }
  ]
}