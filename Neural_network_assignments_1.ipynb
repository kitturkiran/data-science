{
  "cells": [
    {
      "cell_type": "code",
      "execution_count": null,
      "metadata": {
        "id": "AwQj9tBeWqB2"
      },
      "outputs": [],
      "source": [
        "import pandas as pd\n",
        "import numpy as np\n",
        "from sklearn.preprocessing import StandardScaler\n",
        "from sklearn.model_selection import KFold,GridSearchCV\n"
      ]
    },
    {
      "cell_type": "code",
      "execution_count": null,
      "metadata": {
        "id": "hN5odIx8XHv7"
      },
      "outputs": [],
      "source": [
        "data=pd.read_csv(\"gas_turbines.csv\")"
      ]
    },
    {
      "cell_type": "code",
      "execution_count": null,
      "metadata": {
        "id": "ANJVHGh4XMTt"
      },
      "outputs": [],
      "source": [
        "data"
      ]
    },
    {
      "cell_type": "code",
      "source": [
        "data.isna().sum()"
      ],
      "metadata": {
        "id": "iAwHgszprabO"
      },
      "execution_count": null,
      "outputs": []
    },
    {
      "cell_type": "code",
      "source": [
        "data.info()"
      ],
      "metadata": {
        "id": "k1xCY3MX9xcm"
      },
      "execution_count": null,
      "outputs": []
    },
    {
      "cell_type": "code",
      "source": [
        "data.corr()"
      ],
      "metadata": {
        "id": "2VDmrZR09xZM"
      },
      "execution_count": null,
      "outputs": []
    },
    {
      "cell_type": "code",
      "source": [
        "data.describe()"
      ],
      "metadata": {
        "id": "MNRNSr-O9xV8"
      },
      "execution_count": null,
      "outputs": []
    },
    {
      "cell_type": "code",
      "source": [
        "data.plot()"
      ],
      "metadata": {
        "id": "PgYnuP389xT0"
      },
      "execution_count": null,
      "outputs": []
    },
    {
      "cell_type": "code",
      "source": [
        "data.columns"
      ],
      "metadata": {
        "id": "fXeE7vn99xRl"
      },
      "execution_count": null,
      "outputs": []
    },
    {
      "cell_type": "code",
      "source": [
        "#Ambient temperature -->(AT) # information given.\n",
        "#Ambient pressure--> (AP) \n",
        "#Ambient humidity---> (AH) \n",
        "#Air filter difference pressure---> (AFDP)\n",
        "#Gas turbine exhaust pressure---> (GTEP) \n",
        "#Turbine inlet temperature----> (TIT)\n",
        "#Turbine after temperature---> (TAT) \n",
        "#Compressor discharge pressure---> (CDP) \n",
        "#Turbine energy yield---> (TEY)(target variable)\n",
        "#Carbon monoxide----> (CO) \n",
        "#Nitrogen oxides---> (NOX)\n"
      ],
      "metadata": {
        "id": "Xr6zseYe9xMm"
      },
      "execution_count": null,
      "outputs": []
    },
    {
      "cell_type": "code",
      "source": [
        "import seaborn as sns\n",
        "sns.pairplot(data=data,hue=\"TEY\")"
      ],
      "metadata": {
        "id": "M761lxU4_N-m"
      },
      "execution_count": null,
      "outputs": []
    },
    {
      "cell_type": "code",
      "source": [
        "import matplotlib.pyplot as plt\n",
        "numerical_features=[feature for feature in data.columns if data[feature].dtypes != 'O']\n",
        "for feat in numerical_features:\n",
        "    skew = data[feat].skew()\n",
        "    sns.distplot(data[feat], kde= False, label='Skew = %.3f' %(skew), bins=30)\n",
        "    plt.legend(loc='best')\n",
        "    plt.show()\n",
        "   \n",
        "   "
      ],
      "metadata": {
        "id": "N7Z6KCYi_wAa"
      },
      "execution_count": null,
      "outputs": []
    },
    {
      "cell_type": "code",
      "execution_count": null,
      "metadata": {
        "id": "wvW-4FgfYXcM"
      },
      "outputs": [],
      "source": [
        "a=StandardScaler()\n",
        "b=a.fit_transform(data)\n",
        "data1=pd.DataFrame(b,columns=(\"AT\",\t\"AP\",\t\"AH\",\t\"AFDP\",\t\"GTEP\",\t\"TIT\",\t\"TAT\",\t\"TEY\",\t\"CDP\"\t,\"CO\",\t\"NOX\"))"
      ]
    },
    {
      "cell_type": "code",
      "execution_count": null,
      "metadata": {
        "id": "DPUi5wDGYoAv"
      },
      "outputs": [],
      "source": [
        "data1"
      ]
    },
    {
      "cell_type": "code",
      "execution_count": null,
      "metadata": {
        "id": "cu_Iw8_WXPlZ"
      },
      "outputs": [],
      "source": [
        "X=data1.drop(columns=\"TEY\")\n",
        "Y=data1[\"TEY\"]"
      ]
    },
    {
      "cell_type": "code",
      "execution_count": null,
      "metadata": {
        "id": "lggDsUh_g0Jf"
      },
      "outputs": [],
      "source": [
        "X"
      ]
    },
    {
      "cell_type": "code",
      "execution_count": null,
      "metadata": {
        "id": "0B4-SUAkg3OE"
      },
      "outputs": [],
      "source": [
        "Y"
      ]
    },
    {
      "cell_type": "code",
      "execution_count": null,
      "metadata": {
        "id": "OszjpW_1bTVZ"
      },
      "outputs": [],
      "source": [
        "pip install tensorflow"
      ]
    },
    {
      "cell_type": "code",
      "execution_count": null,
      "metadata": {
        "id": "ucNaltQIXyz4"
      },
      "outputs": [],
      "source": [
        "import keras\n",
        "from keras.models import Sequential\n",
        "from keras.layers import Dense\n",
        "\n",
        "from keras.wrappers.scikit_learn import KerasRegressor\n",
        "from tensorflow.keras import initializers\n",
        "import warnings\n",
        "warnings.filterwarnings('ignore')\n",
        "from tensorflow.keras.optimizers import Adam"
      ]
    },
    {
      "cell_type": "code",
      "execution_count": null,
      "metadata": {
        "id": "pTodUDNyX9LT"
      },
      "outputs": [],
      "source": [
        "def model1():\n",
        "  model =Sequential()\n",
        "  model.add(Dense(10,input_dim=10,activation='relu'))\n",
        "  model.add(Dense(8,activation='relu'))\n",
        "  model.add(Dense(1,activation='relu'))\n",
        "\n",
        "  adam=Adam(lr=0.1)\n",
        "  model.compile(loss=\"mean_squared_error\",optimizer=adam,metrics=[\"mean_squared_error\"])\n",
        "  return model"
      ]
    },
    {
      "cell_type": "code",
      "execution_count": null,
      "metadata": {
        "id": "RlBATZp4beuC"
      },
      "outputs": [],
      "source": [
        "model=KerasRegressor(build_fn=model1)\n",
        "# Define the grid search parameters\n",
        "batch_size = [10]\n",
        "epochs = [5]\n",
        "# Make a dictionary of the grid search parameters\n",
        "param_grid = dict(batch_size = batch_size,epochs = epochs)\n",
        "# Build and fit the GridSearchCV\n",
        "grid = GridSearchCV(estimator = model,param_grid = param_grid,cv = KFold())\n"
      ]
    },
    {
      "cell_type": "code",
      "execution_count": null,
      "metadata": {
        "id": "PHQX8Rf-eDPx"
      },
      "outputs": [],
      "source": [
        "grid.fit(X,Y)"
      ]
    },
    {
      "cell_type": "code",
      "execution_count": null,
      "metadata": {
        "id": "Nim6HuYesqG5"
      },
      "outputs": [],
      "source": [
        "print(\"best:{},using {}\".format(grid.best_score_,grid.best_params_))"
      ]
    },
    {
      "cell_type": "code",
      "execution_count": null,
      "metadata": {
        "id": "eUQkW7Aeez0-"
      },
      "outputs": [],
      "source": [
        "print(\"best:{},using {}\".format(grid.best_score_,grid.best_params_))\n",
        "mean=grid.cv_results_['mean_test_score']\n",
        "std=grid.cv_results_['std_test_score']\n",
        "params = grid.cv_results_['params']\n",
        "for mean,std,param in zip(mean,std,params):\n",
        "  print(\"{},{} with {}\".format(mean,std,params))\n"
      ]
    },
    {
      "cell_type": "code",
      "source": [
        "#tunning the hyperparmetern learning_rate,dropout_rate"
      ],
      "metadata": {
        "id": "Wo18VukERJ3Y"
      },
      "execution_count": null,
      "outputs": []
    },
    {
      "cell_type": "code",
      "execution_count": null,
      "metadata": {
        "id": "j_6ieDoojvLs"
      },
      "outputs": [],
      "source": [
        "\n",
        "from keras.layers import Dropout\n",
        "def model2(learning_rate,dropout_rate):\n",
        "  model=Sequential()\n",
        "  model.add(Dense(10,input_dim=10,activation=\"relu\"))\n",
        "  model.add(Dropout(dropout_rate))\n",
        "  model.add(Dense(8,activation=\"relu\"))\n",
        "  model.add(Dropout(dropout_rate))\n",
        "  model.add(Dense(1,activation=\"sigmoid\"))\n",
        "\n",
        "  adam=Adam(lr=learning_rate)\n",
        "  model.compile(loss=\"mean_squared_error\",optimizer=adam,metrics=[\"mean_squared_error\"])\n",
        "  return model"
      ]
    },
    {
      "cell_type": "code",
      "execution_count": null,
      "metadata": {
        "id": "-hnKP4cklOEC"
      },
      "outputs": [],
      "source": [
        "model_2=KerasRegressor(build_fn=model2,batch_size=40,epochs=50)\n",
        "learning_rate = [0.001,0.01]\n",
        "dropout_rate=[0.2,0.1]\n",
        "\n",
        "param=dict(learning_rate=learning_rate,dropout_rate=dropout_rate)\n",
        "grid=GridSearchCV(estimator=model_2,param_grid=param,cv=KFold(),verbose=10)\n",
        "grid_results=grid.fit(X,Y)\n"
      ]
    },
    {
      "cell_type": "code",
      "execution_count": null,
      "metadata": {
        "id": "8-aoXcQfoQh1"
      },
      "outputs": [],
      "source": [
        "print(\"best:{},using {}\".format(grid_results.best_score_,grid_result.best_params_))\n",
        "mean=grid_results.cv_results_['mean_test_score']\n",
        "std=grid_results.cv_results_['std_test_score']\n",
        "params = grid_results.cv_results_['params']\n",
        "for mean,std,param in zip(mean,std,params):\n",
        "  print(\"{},{} with {}\".format(mean,std,param))\n"
      ]
    },
    {
      "cell_type": "code",
      "source": [
        "#tunning the hyperparamter initializer,activation_function"
      ],
      "metadata": {
        "id": "98o97VwoRVwc"
      },
      "execution_count": null,
      "outputs": []
    },
    {
      "cell_type": "code",
      "source": [
        "from keras.layers import LeakyReLU"
      ],
      "metadata": {
        "id": "bbtb2hNW5vSS"
      },
      "execution_count": null,
      "outputs": []
    },
    {
      "cell_type": "code",
      "execution_count": null,
      "metadata": {
        "id": "p-eGOPJGooOs"
      },
      "outputs": [],
      "source": [
        "from tensorflow.keras import layers\n",
        "def model_3(init,activation_function):\n",
        "  model=Sequential()\n",
        "  model.add(layers.Dense(10,input_dim=10,kernel_initializer=init,activation=\"activation_function\"))\n",
        "  model.add(Dropout(0.2))\n",
        "  model.add(layers.Dense(8,activation=\"activation_function\"))\n",
        "  model.add(Dropout(0.2))\n",
        "  model.add(layers.Dense(1,activation=\"activation_function\"))\n",
        "\n",
        "  adam=Adam(lr=0.3)\n",
        "  model.compile(optimizer=adam,loss=\"mean_squared_error\",metrics=[\"mean_squared_error\"])\n",
        "  return model"
      ]
    },
    {
      "cell_type": "code",
      "execution_count": null,
      "metadata": {
        "id": "jN2ix0JUqAc_"
      },
      "outputs": [],
      "source": [
        "\n",
        "model=KerasRegressor(build_fn=model_3,batch_size=20,epochs=50)\n",
        "\n",
        "activation_function = ['LeakyReLU']\n",
        "init = ['uniform','normal','zero']\n",
        "\n",
        "param_grids = dict(init=init,activation_function=activation_function)\n",
        "\n",
        "\n",
        "grid = GridSearchCV(estimator = model,param_grid = param_grids,cv = KFold(),verbose = 10)\n",
        "grid_result = grid.fit(X,Y)\n"
      ]
    },
    {
      "cell_type": "code",
      "execution_count": null,
      "metadata": {
        "id": "iXSSXL1B02hN"
      },
      "outputs": [],
      "source": [
        "\n",
        "print('Best : {}, using {}'.format(grid_result.best_score_,grid_result.best_params_))\n",
        "means = grid_result.cv_results_['mean_test_score']\n",
        "stds = grid_result.cv_results_['std_test_score']\n",
        "params = grid_result.cv_results_['params']\n",
        "for mean, stdev, param in zip(means, stds, params):\n",
        "  print('{},{} with: {}'.format(mean, stdev, param))"
      ]
    },
    {
      "cell_type": "code",
      "source": [
        "#tunning the model by neuron in network"
      ],
      "metadata": {
        "id": "73Y4JW9PRlnx"
      },
      "execution_count": null,
      "outputs": []
    },
    {
      "cell_type": "code",
      "source": [
        "# Defining the model\n",
        "\n",
        "def create_model(neuron1,neuron2):\n",
        "    model = Sequential()\n",
        "    model.add(Dense(neuron1,input_dim=10,kernel_initializer = 'uniform',activation = 'relu'))\n",
        "    model.add(Dropout(0.1))\n",
        "    model.add(Dense(neuron2,input_dim=neuron1,kernel_initializer = 'uniform',activation = 'relu'))\n",
        "    model.add(Dropout(0.1))\n",
        "    model.add(Dense(1,activation = 'sigmoid'))\n",
        "    \n",
        "    adam = Adam(lr = 0.001)\n",
        "    model.compile(loss = 'mean_squared_error',optimizer = adam,metrics = ['mean_squared_error'])\n",
        "    return model"
      ],
      "metadata": {
        "id": "PwShA32dEjat"
      },
      "execution_count": null,
      "outputs": []
    },
    {
      "cell_type": "code",
      "source": [
        "\n",
        "\n",
        "\n",
        "model = KerasRegressor(build_fn = create_model,verbose = 0,batch_size = 40,epochs = 10)\n",
        "\n",
        "\n",
        "neuron1 = [4,8,16]\n",
        "neuron2 = [2,4,8]\n",
        "\n",
        "\n",
        "\n",
        "param_grids = dict(neuron1 = neuron1,neuron2 = neuron2)\n",
        "\n",
        "\n",
        "grid = GridSearchCV(estimator = model,param_grid = param_grids,cv = KFold(),verbose = 10)\n",
        "grid_result = grid.fit(X,Y)"
      ],
      "metadata": {
        "id": "E8ZajAaEEsjx"
      },
      "execution_count": null,
      "outputs": []
    },
    {
      "cell_type": "code",
      "source": [
        "print('Best : {}, using {}'.format(grid_result.best_score_,grid_result.best_params_))\n",
        "means = grid_result.cv_results_['mean_test_score']\n",
        "stds = grid_result.cv_results_['std_test_score']\n",
        "params = grid_result.cv_results_['params']\n",
        "for mean, stdev, param in zip(means, stds, params):\n",
        "  print('{},{} with: {}'.format(mean, stdev, param))"
      ],
      "metadata": {
        "id": "lt4MeElUFCU8"
      },
      "execution_count": null,
      "outputs": []
    },
    {
      "cell_type": "code",
      "source": [
        "#finding the accuracy"
      ],
      "metadata": {
        "id": "biNT5rIVRucI"
      },
      "execution_count": null,
      "outputs": []
    },
    {
      "cell_type": "code",
      "source": [
        "from sklearn.metrics import classification_report, accuracy_score"
      ],
      "metadata": {
        "id": "tqfbye1KyV-J"
      },
      "execution_count": null,
      "outputs": []
    },
    {
      "cell_type": "code",
      "source": [
        "\n",
        "\n",
        "def create_model():\n",
        "    model = Sequential()\n",
        "    model.add(Dense(16,input_dim = 10,kernel_initializer = 'uniform',activation = 'tanh'))\n",
        "    model.add(Dropout(0.1))\n",
        "    model.add(Dense(4,input_dim = 16,kernel_initializer = 'uniform',activation = 'tanh'))\n",
        "    model.add(Dropout(0.1))\n",
        "    model.add(Dense(1,activation = 'sigmoid'))\n",
        "    \n",
        "    adam = Adam(lr=0.01)\n",
        "    model.compile(loss = 'binary_crossentropy',optimizer = adam,metrics = ['accuracy'])\n",
        "    return model\n",
        "\n",
        "model = KerasRegressor(build_fn = create_model,verbose = 0,batch_size = 40,epochs = 10)\n",
        "\n",
        "\n",
        "\n",
        "model.fit(X,Y)\n",
        "\n"
      ],
      "metadata": {
        "id": "8x9xvx60yggq"
      },
      "execution_count": null,
      "outputs": []
    },
    {
      "cell_type": "code",
      "source": [
        "from sklearn.model_selection import cross_val_score\n",
        "results=cross_val_score(model,X,Y,cv=KFold())\n"
      ],
      "metadata": {
        "id": "sy9y4aHHzmu0"
      },
      "execution_count": null,
      "outputs": []
    },
    {
      "cell_type": "code",
      "source": [
        "results"
      ],
      "metadata": {
        "id": "TwM3Kn4T8jwO"
      },
      "execution_count": null,
      "outputs": []
    },
    {
      "cell_type": "code",
      "source": [
        ""
      ],
      "metadata": {
        "id": "HvDVbd6L9pvO"
      },
      "execution_count": null,
      "outputs": []
    }
  ],
  "metadata": {
    "colab": {
      "collapsed_sections": [],
      "name": "Neural network assignments 1.ipynb",
      "provenance": []
    },
    "kernelspec": {
      "display_name": "Python 3",
      "name": "python3"
    },
    "language_info": {
      "name": "python"
    }
  },
  "nbformat": 4,
  "nbformat_minor": 0
}