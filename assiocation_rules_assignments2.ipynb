{
  "nbformat": 4,
  "nbformat_minor": 0,
  "metadata": {
    "colab": {
      "name": "assiocation rules assignments2.ipynb",
      "provenance": [],
      "collapsed_sections": []
    },
    "kernelspec": {
      "name": "python3",
      "display_name": "Python 3"
    },
    "language_info": {
      "name": "python"
    }
  },
  "cells": [
    {
      "cell_type": "code",
      "execution_count": null,
      "metadata": {
        "id": "NWapT7pTmf6a"
      },
      "outputs": [],
      "source": [
        "import pandas as pd\n",
        "import matplotlib.pyplot as plt\n",
        "from mlxtend.frequent_patterns import association_rules,apriori"
      ]
    },
    {
      "cell_type": "code",
      "source": [
        "\n",
        "\n",
        "data=pd.read_csv(\"my_movies.csv\")"
      ],
      "metadata": {
        "id": "4lVDbr1tm2Ls"
      },
      "execution_count": null,
      "outputs": []
    },
    {
      "cell_type": "code",
      "source": [
        "data.head()"
      ],
      "metadata": {
        "id": "SCPQ8H5km7Or"
      },
      "execution_count": null,
      "outputs": []
    },
    {
      "cell_type": "code",
      "source": [
        "data.info()"
      ],
      "metadata": {
        "id": "B7BGL73Km7qS"
      },
      "execution_count": null,
      "outputs": []
    },
    {
      "cell_type": "code",
      "source": [
        "data=data.iloc[:,5:15]"
      ],
      "metadata": {
        "id": "QtSrsS0-vdur"
      },
      "execution_count": null,
      "outputs": []
    },
    {
      "cell_type": "code",
      "source": [
        "data"
      ],
      "metadata": {
        "id": "75q6A4MwvxE_"
      },
      "execution_count": null,
      "outputs": []
    },
    {
      "cell_type": "code",
      "source": [
        "frequant_items=apriori(data,min_support=0.1,use_colnames=True)\n",
        "\n",
        "frequant_items"
      ],
      "metadata": {
        "id": "BmkTfYC2vyZP"
      },
      "execution_count": null,
      "outputs": []
    },
    {
      "cell_type": "code",
      "source": [
        "frequant_items.shape"
      ],
      "metadata": {
        "id": "CJpiOVPPdeTs"
      },
      "execution_count": null,
      "outputs": []
    },
    {
      "cell_type": "code",
      "source": [
        "rules_confidence = association_rules(frequant_items, metric=\"confidence\",min_threshold=0.4)\n",
        "rules_confidence "
      ],
      "metadata": {
        "id": "yOWetH_zdnCm"
      },
      "execution_count": null,
      "outputs": []
    },
    {
      "cell_type": "code",
      "source": [
        "rules_confidence_pivot=rules_confidence.pivot(index=\"antecedents\",columns=\"consequents\",values=\"confidence\")\n",
        "rules_confidence_pivot"
      ],
      "metadata": {
        "id": "6K3ilpcOdmx9"
      },
      "execution_count": null,
      "outputs": []
    },
    {
      "cell_type": "code",
      "source": [
        "rules_confidence_pivot.fillna(0)"
      ],
      "metadata": {
        "id": "BX14Xauieu5u"
      },
      "execution_count": null,
      "outputs": []
    },
    {
      "cell_type": "code",
      "source": [
        "import seaborn as sns\n",
        "sns.heatmap(rules_confidence_pivot)"
      ],
      "metadata": {
        "id": "Sb07Em32eu3r"
      },
      "execution_count": null,
      "outputs": []
    },
    {
      "cell_type": "code",
      "source": [
        "rules_lift = association_rules(frequant_items, metric=\"lift\")\n",
        "rules_lift"
      ],
      "metadata": {
        "id": "VyJNvQILxEhp"
      },
      "execution_count": null,
      "outputs": []
    },
    {
      "cell_type": "code",
      "source": [
        "rules_lift_pivot=rules_lift.pivot(index=\"antecedents\",columns=\"consequents\",values=\"lift\")\n",
        "rules_lift_pivot"
      ],
      "metadata": {
        "id": "fXBzcYdwdz4S"
      },
      "execution_count": null,
      "outputs": []
    },
    {
      "cell_type": "code",
      "source": [
        "rules_lift_pivot.fillna(0)"
      ],
      "metadata": {
        "id": "35OdkQ6hgENT"
      },
      "execution_count": null,
      "outputs": []
    },
    {
      "cell_type": "code",
      "source": [
        "sns.heatmap(data=rules_lift_pivot)"
      ],
      "metadata": {
        "id": "YqZ7uDfgg5VP"
      },
      "execution_count": null,
      "outputs": []
    },
    {
      "cell_type": "markdown",
      "source": [
        "By changing the apriori min_support"
      ],
      "metadata": {
        "id": "ZiygadcBidLW"
      }
    },
    {
      "cell_type": "code",
      "source": [
        "frequant_items1=apriori(data,min_support=0.2,use_colnames=True)\n",
        "frequant_items1"
      ],
      "metadata": {
        "id": "ULOY08Ldg5IF"
      },
      "execution_count": null,
      "outputs": []
    },
    {
      "cell_type": "code",
      "source": [
        "frequant_items1.shape"
      ],
      "metadata": {
        "id": "do6ES6-qiyWt"
      },
      "execution_count": null,
      "outputs": []
    },
    {
      "cell_type": "code",
      "source": [
        "movies_confidence=association_rules(frequant_items1,metric=\"confidence\",min_threshold=0.5)\n",
        "movies_confidence"
      ],
      "metadata": {
        "id": "Yy-zXr0hjBw5"
      },
      "execution_count": null,
      "outputs": []
    },
    {
      "cell_type": "code",
      "source": [
        "movies_confidence_pivot=movies_confidence.pivot(index=\"antecedents\",columns=\"consequents\",values=\"confidence\")"
      ],
      "metadata": {
        "id": "jqxkugmbjYxw"
      },
      "execution_count": null,
      "outputs": []
    },
    {
      "cell_type": "code",
      "source": [
        "sns.heatmap(data=movies_confidence_pivot)"
      ],
      "metadata": {
        "id": "gEiGFtuMjwIf"
      },
      "execution_count": null,
      "outputs": []
    },
    {
      "cell_type": "code",
      "source": [
        "movies_lift=association_rules(frequant_items1,metric=\"lift\")\n",
        "movies_lift"
      ],
      "metadata": {
        "id": "g2auSAA6j1uQ"
      },
      "execution_count": null,
      "outputs": []
    },
    {
      "cell_type": "code",
      "source": [
        "movies_lift_pivot=movies_lift.pivot(index=\"antecedents\",columns=\"consequents\",values=\"lift\")"
      ],
      "metadata": {
        "id": "e7kCYSCOkR9E"
      },
      "execution_count": null,
      "outputs": []
    },
    {
      "cell_type": "code",
      "source": [
        "sns.heatmap(movies_lift_pivot)"
      ],
      "metadata": {
        "id": "uBnwNN_BkawO"
      },
      "execution_count": null,
      "outputs": []
    },
    {
      "cell_type": "code",
      "source": [
        ""
      ],
      "metadata": {
        "id": "CD-KCypfkrZp"
      },
      "execution_count": null,
      "outputs": []
    }
  ]
}