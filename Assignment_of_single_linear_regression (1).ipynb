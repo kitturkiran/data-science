{
  "nbformat": 4,
  "nbformat_minor": 0,
  "metadata": {
    "colab": {
      "name": "Assignment of single linear regression",
      "provenance": [],
      "collapsed_sections": []
    },
    "kernelspec": {
      "name": "python3",
      "display_name": "Python 3"
    },
    "language_info": {
      "name": "python"
    }
  },
  "cells": [
    {
      "cell_type": "code",
      "execution_count": null,
      "metadata": {
        "id": "Fi--fjXtSVjb"
      },
      "outputs": [],
      "source": [
        "import pandas as pd\n",
        "import numpy as np\n"
      ]
    },
    {
      "cell_type": "code",
      "source": [
        "data=pd.read_csv(\"Salary_Data.csv\")\n"
      ],
      "metadata": {
        "id": "MXvRkjWGSoKj"
      },
      "execution_count": null,
      "outputs": []
    },
    {
      "cell_type": "code",
      "source": [
        "\n",
        "data"
      ],
      "metadata": {
        "id": "d0vQOwvnSyRh"
      },
      "execution_count": null,
      "outputs": []
    },
    {
      "cell_type": "code",
      "source": [
        "data1=data.copy()\n"
      ],
      "metadata": {
        "id": "R35PFNSzTjj1"
      },
      "execution_count": null,
      "outputs": []
    },
    {
      "cell_type": "code",
      "source": [
        "data=data.rename({\"YearsExperience\":\"Years_Experience\"},axis=1)"
      ],
      "metadata": {
        "id": "7YjHTNHVm21C"
      },
      "execution_count": null,
      "outputs": []
    },
    {
      "cell_type": "code",
      "source": [
        "data.info()"
      ],
      "metadata": {
        "id": "jepqPzreS1rG"
      },
      "execution_count": null,
      "outputs": []
    },
    {
      "cell_type": "code",
      "source": [
        "data[data.duplicated()].shape"
      ],
      "metadata": {
        "id": "4Anc6rdMS7Ka"
      },
      "execution_count": null,
      "outputs": []
    },
    {
      "cell_type": "code",
      "source": [
        "data['Salary']=data['Salary'].astype('int')   "
      ],
      "metadata": {
        "id": "5mik_t__TBPP"
      },
      "execution_count": null,
      "outputs": []
    },
    {
      "cell_type": "code",
      "source": [
        "sns.distplot(data['Salary'])"
      ],
      "metadata": {
        "id": "x0LndPeJrMaH"
      },
      "execution_count": null,
      "outputs": []
    },
    {
      "cell_type": "markdown",
      "source": [
        "feature transfromation\n"
      ],
      "metadata": {
        "id": "-6XlC3Mium5z"
      }
    },
    {
      "cell_type": "code",
      "source": [
        "print(\"Skewness of 'Years_Experience ' Column is \",data['Years_Experience'].skew())"
      ],
      "metadata": {
        "id": "j5AjxFMeuPYT"
      },
      "execution_count": null,
      "outputs": []
    },
    {
      "cell_type": "code",
      "source": [
        "# applying log transformation\n",
        "data['Years_Experience'] = np.log(data['Years_Experience'])\n",
        "print('After LOG TRANSFORMATION, Skewness is :',data['Years_Experience'].skew().round(3))"
      ],
      "metadata": {
        "id": "pDWUCC77uPHE"
      },
      "execution_count": null,
      "outputs": []
    },
    {
      "cell_type": "code",
      "source": [
        "# applying sqrt transformation\n",
        "data['Years_Experience'] = np.sqrt(data['Years_Experience'])\n",
        "print('After SQUARE ROOT TRANSFORMATION, Skewness is :',data['Years_Experience'].skew().round(3))"
      ],
      "metadata": {
        "id": "Ze_BfZ-9v1vk"
      },
      "execution_count": null,
      "outputs": []
    },
    {
      "cell_type": "code",
      "source": [
        "# applying cube root transformation\n",
        "data['Years_Experience'] = np.cbrt(data['Years_Experience'])\n",
        "print('After CUBE ROOT TRANSFORMATION, Skewness is :',data['Years_Experience'].skew().round(3))"
      ],
      "metadata": {
        "id": "v6idkWjiv1l7"
      },
      "execution_count": null,
      "outputs": []
    },
    {
      "cell_type": "code",
      "source": [
        "# applying cube root transformation\n",
        "from scipy import stats\n",
        "Years_Experience_BoxCox = stats.boxcox(data['Years_Experience'])[0]\n",
        "Variable = pd.Series(Years_Experience_BoxCox)\n",
        "print('After BOXCOX TRANSFORMATION, Skewness is :',Variable.skew().round(3))"
      ],
      "metadata": {
        "id": "LbG6kE8Cw7Zq"
      },
      "execution_count": null,
      "outputs": []
    },
    {
      "cell_type": "code",
      "source": [
        "# from above transformation we can say that the original skew is low among the following.\n",
        "data['Years_Experience'] = data1['YearsExperience']"
      ],
      "metadata": {
        "id": "I9sbPySnTI3l"
      },
      "execution_count": null,
      "outputs": []
    },
    {
      "cell_type": "code",
      "source": [
        "data.corr()"
      ],
      "metadata": {
        "id": "RT37Crr5sIKS"
      },
      "execution_count": null,
      "outputs": []
    },
    {
      "cell_type": "code",
      "source": [
        "import seaborn as sns\n",
        "sns.regplot(x=data['Years_Experience'],y=data['Salary'])\n"
      ],
      "metadata": {
        "id": "D-L7HvfisKXS"
      },
      "execution_count": null,
      "outputs": []
    },
    {
      "cell_type": "code",
      "source": [
        "import statsmodels.formula.api as smf\n",
        "model1 = smf.ols(\"Salary~Years_Experience\",data = data).fit()"
      ],
      "metadata": {
        "id": "jEBzHyxITCHl"
      },
      "execution_count": null,
      "outputs": []
    },
    {
      "cell_type": "code",
      "source": [
        "model1.params"
      ],
      "metadata": {
        "id": "X8_M_yR9TE5P"
      },
      "execution_count": null,
      "outputs": []
    },
    {
      "cell_type": "code",
      "source": [
        "print(model1.tvalues, '\\n', model1.pvalues)   "
      ],
      "metadata": {
        "id": "Eh0rA5N7Wxss"
      },
      "execution_count": null,
      "outputs": []
    },
    {
      "cell_type": "code",
      "source": [
        "(model1.rsquared)"
      ],
      "metadata": {
        "id": "ScnqZK6SXTfl"
      },
      "execution_count": null,
      "outputs": []
    },
    {
      "cell_type": "code",
      "source": [
        ""
      ],
      "metadata": {
        "id": "A151xRJxrck6"
      },
      "execution_count": null,
      "outputs": []
    },
    {
      "cell_type": "code",
      "source": [
        "data2=pd.read_csv(\"delivery_time.csv\")"
      ],
      "metadata": {
        "id": "tiC4IJ1gTTlO"
      },
      "execution_count": null,
      "outputs": []
    },
    {
      "cell_type": "code",
      "source": [
        "data2"
      ],
      "metadata": {
        "id": "RpLMxvjgVupN"
      },
      "execution_count": null,
      "outputs": []
    },
    {
      "cell_type": "code",
      "source": [
        "data3=data2.copy()"
      ],
      "metadata": {
        "id": "HxjX6IWgZf5K"
      },
      "execution_count": null,
      "outputs": []
    },
    {
      "cell_type": "code",
      "source": [
        "data2.info()"
      ],
      "metadata": {
        "id": "nLfktaC5Vzd3"
      },
      "execution_count": null,
      "outputs": []
    },
    {
      "cell_type": "code",
      "source": [
        "data2.duplicated().shape"
      ],
      "metadata": {
        "id": "EVcrYKBKV1VI"
      },
      "execution_count": null,
      "outputs": []
    },
    {
      "cell_type": "code",
      "source": [
        "data2=data2.rename({\"Sorting Time\":\"Sorting_Time\"},axis=1)\n",
        "data2=data2.rename({\"Delivery Time\":\"Delivery_Time\"},axis=1)"
      ],
      "metadata": {
        "id": "NJCOOM_cV9U6"
      },
      "execution_count": null,
      "outputs": []
    },
    {
      "cell_type": "code",
      "source": [
        "sns.distplot(data2['Sorting_Time'])"
      ],
      "metadata": {
        "id": "ceKvRJjtU0pb"
      },
      "execution_count": null,
      "outputs": []
    },
    {
      "cell_type": "code",
      "source": [
        "sns.distplot(data2['Sorting_Time'])"
      ],
      "metadata": {
        "id": "OYjYjkSYVUyQ"
      },
      "execution_count": null,
      "outputs": []
    },
    {
      "cell_type": "code",
      "source": [
        "sns.distplot(data2['Delivery_Time'])"
      ],
      "metadata": {
        "id": "gMav4IHDVeQK"
      },
      "execution_count": null,
      "outputs": []
    },
    {
      "cell_type": "markdown",
      "source": [
        "Feature Trasformation"
      ],
      "metadata": {
        "id": "dlrGhoLFVp5Q"
      }
    },
    {
      "cell_type": "code",
      "source": [
        "print(\"Skewness of 'Delivery_Time' Column is \",data2['Delivery_Time'].skew())"
      ],
      "metadata": {
        "id": "x2JzX0POVk-0"
      },
      "execution_count": null,
      "outputs": []
    },
    {
      "cell_type": "code",
      "source": [
        "# applying log transformation\n",
        "data['Delivery_Time'] = np.log(data2['Delivery_Time'])\n",
        "print('After LOG TRANSFORMATION, Skewness is :',data['Delivery_Time'].skew().round(3))"
      ],
      "metadata": {
        "id": "rm32F7TwVk8N"
      },
      "execution_count": null,
      "outputs": []
    },
    {
      "cell_type": "code",
      "source": [
        "# applying sqrt transformation\n",
        "data['Delivery_Time'] = np.sqrt(data2['Delivery_Time'])\n",
        "print('After sqrt TRANSFORMATION, Skewness is :',data['Delivery_Time'].skew().round(3))"
      ],
      "metadata": {
        "id": "7J7VXD42WDdJ"
      },
      "execution_count": null,
      "outputs": []
    },
    {
      "cell_type": "code",
      "source": [
        "# applying cube root transformation\n",
        "data['Delivery_Time'] = np.cbrt(data2['Delivery_Time'])\n",
        "print('After cube root TRANSFORMATION, Skewness is :',data['Delivery_Time'].skew().round(3))"
      ],
      "metadata": {
        "id": "IPggu_88WDUy"
      },
      "execution_count": null,
      "outputs": []
    },
    {
      "cell_type": "code",
      "source": [
        "Delivery_Time_BoxCox = stats.boxcox(data2['Delivery_Time'])[0]\n",
        "Variable = pd.Series(Delivery_Time_BoxCox )\n",
        "print('After BOXCOX TRANSFORMATION, Skewness is :',Variable.skew().round(3))"
      ],
      "metadata": {
        "id": "ifNyu5sUWGlJ"
      },
      "execution_count": null,
      "outputs": []
    },
    {
      "cell_type": "code",
      "source": [
        "#Delivery_Time_BoxCox has the lowest skewness.\n",
        "data2['Delivery_Time'] = stats.boxcox(data2['Delivery_Time'])[0]"
      ],
      "metadata": {
        "id": "ZGv5QL62YzCq"
      },
      "execution_count": null,
      "outputs": []
    },
    {
      "cell_type": "code",
      "source": [
        "import statsmodels.formula.api as smf\n",
        "model2 = smf.ols(\"Sorting_Time~Delivery_Time\",data = data2).fit()"
      ],
      "metadata": {
        "id": "HxK36fZCWBVP"
      },
      "execution_count": null,
      "outputs": []
    },
    {
      "cell_type": "code",
      "source": [
        "model2.params"
      ],
      "metadata": {
        "id": "vZX4xbz9WDUJ"
      },
      "execution_count": null,
      "outputs": []
    },
    {
      "cell_type": "code",
      "source": [
        "print(model2.tvalues, '\\n', model2.pvalues)   "
      ],
      "metadata": {
        "id": "uQmHKY38WFMF"
      },
      "execution_count": null,
      "outputs": []
    },
    {
      "cell_type": "code",
      "source": [
        "(model2.rsquared)"
      ],
      "metadata": {
        "id": "ysYy6sWqWrzC"
      },
      "execution_count": null,
      "outputs": []
    },
    {
      "cell_type": "code",
      "source": [
        "#model1 is best model."
      ],
      "metadata": {
        "id": "7URBqqX2XY2t"
      },
      "execution_count": null,
      "outputs": []
    },
    {
      "cell_type": "code",
      "source": [
        ""
      ],
      "metadata": {
        "id": "p0h3ejgs-qMW"
      },
      "execution_count": null,
      "outputs": []
    }
  ]
}