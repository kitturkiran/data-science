{
  "nbformat": 4,
  "nbformat_minor": 0,
  "metadata": {
    "colab": {
      "name": "PCA assignment.ipynb",
      "provenance": [],
      "collapsed_sections": []
    },
    "kernelspec": {
      "name": "python3",
      "display_name": "Python 3"
    },
    "language_info": {
      "name": "python"
    }
  },
  "cells": [
    {
      "cell_type": "code",
      "execution_count": null,
      "metadata": {
        "id": "LVcJhDI2W4Du"
      },
      "outputs": [],
      "source": [
        "import pandas as pd\n",
        "import numpy as np\n",
        "from sklearn.decomposition import PCA\n",
        "from sklearn.preprocessing import StandardScaler"
      ]
    },
    {
      "cell_type": "code",
      "source": [
        "wine1=pd.read_csv(\"wine.csv\")"
      ],
      "metadata": {
        "id": "o9bovOH8XLZn"
      },
      "execution_count": null,
      "outputs": []
    },
    {
      "cell_type": "code",
      "source": [
        "wine1"
      ],
      "metadata": {
        "id": "soKshF_wYN0r"
      },
      "execution_count": null,
      "outputs": []
    },
    {
      "cell_type": "code",
      "source": [
        "# as type is not needed for analysis,we are not considering.\n",
        "wine=wine1.iloc[:,1:]"
      ],
      "metadata": {
        "id": "xq7LDdzPda7c"
      },
      "execution_count": null,
      "outputs": []
    },
    {
      "cell_type": "code",
      "source": [
        "wine.info()"
      ],
      "metadata": {
        "id": "SiykDMgnYOSp"
      },
      "execution_count": null,
      "outputs": []
    },
    {
      "cell_type": "code",
      "source": [
        "wine.Type.unique()"
      ],
      "metadata": {
        "id": "nYL8R2o4Yaw4"
      },
      "execution_count": null,
      "outputs": []
    },
    {
      "cell_type": "code",
      "source": [
        "wine.describe()"
      ],
      "metadata": {
        "id": "3H1AMN7_Yqix"
      },
      "execution_count": null,
      "outputs": []
    },
    {
      "cell_type": "code",
      "source": [
        "standard_scale=StandardScaler()\n",
        "wine_standard=standard_scale.fit_transform(wine)"
      ],
      "metadata": {
        "id": "okS0b_2wY3bc"
      },
      "execution_count": null,
      "outputs": []
    },
    {
      "cell_type": "code",
      "source": [
        "wine_standard"
      ],
      "metadata": {
        "id": "vXJTu6E7ZcMo"
      },
      "execution_count": null,
      "outputs": []
    },
    {
      "cell_type": "code",
      "source": [
        "pca=PCA()\n",
        "pca_values=pca.fit_transform(wine_standard)"
      ],
      "metadata": {
        "id": "Y6bsG9Xqaosa"
      },
      "execution_count": null,
      "outputs": []
    },
    {
      "cell_type": "code",
      "source": [
        "pca_values"
      ],
      "metadata": {
        "id": "4Oc0CU2Xa2cw"
      },
      "execution_count": null,
      "outputs": []
    },
    {
      "cell_type": "code",
      "source": [
        "pca.components_"
      ],
      "metadata": {
        "id": "I4-J_-xVcj1p"
      },
      "execution_count": null,
      "outputs": []
    },
    {
      "cell_type": "code",
      "source": [
        "var = pca.explained_variance_ratio_\n",
        "var"
      ],
      "metadata": {
        "id": "hEvUdlTra7n2"
      },
      "execution_count": null,
      "outputs": []
    },
    {
      "cell_type": "code",
      "source": [
        "var1 = np.cumsum(np.round(var,decimals = 4)*100)\n",
        "var1"
      ],
      "metadata": {
        "id": "afHuJRtIbKY-"
      },
      "execution_count": null,
      "outputs": []
    },
    {
      "cell_type": "code",
      "source": [
        "import matplotlib.pyplot as plt\n",
        "plt.plot(var1)"
      ],
      "metadata": {
        "id": "hVnvCXbjbQXL"
      },
      "execution_count": null,
      "outputs": []
    },
    {
      "cell_type": "code",
      "source": [
        "# As in culmuative sum for the data,the maximum values for datasets are present in three PC i.e-67% ,so we will consider only three PCA and plot the scatter plot between them\n",
        "final_df=pd.concat([wine1[\"Type\"],pd.DataFrame(pca_values[:,0:3],columns=[\"PC1\",\"PC2\",\"PC3\"])],axis=1)"
      ],
      "metadata": {
        "id": "mlhuNZ7Pbg2o"
      },
      "execution_count": null,
      "outputs": []
    },
    {
      "cell_type": "code",
      "source": [
        "final_df"
      ],
      "metadata": {
        "id": "jpy7hHBpfoaP"
      },
      "execution_count": null,
      "outputs": []
    },
    {
      "cell_type": "code",
      "source": [
        "import seaborn as sns\n",
        "fig=plt.figure(figsize=(16,12))\n",
        "sns.scatterplot(data=final_df)"
      ],
      "metadata": {
        "id": "7gU7Ts-OfpZw"
      },
      "execution_count": null,
      "outputs": []
    },
    {
      "cell_type": "code",
      "source": [
        "#from above scatter plot we can infer that the 3 PC are having widely spread datapoints,we can assumne maximum number of clusters,if we consider all the columns"
      ],
      "metadata": {
        "id": "8mAEv7stftXI"
      },
      "execution_count": null,
      "outputs": []
    },
    {
      "cell_type": "code",
      "source": [
        "x=pca_values[:,0]\n",
        "y=pca_values[:,1]\n",
        "plt.scatter(x,y)"
      ],
      "metadata": {
        "id": "PNlyqH5TiMHE"
      },
      "execution_count": null,
      "outputs": []
    },
    {
      "cell_type": "code",
      "source": [
        "#from above plot,considering only PC1,PC2 we can from 3 clusters\n"
      ],
      "metadata": {
        "id": "t-0FNy_HiSWr"
      },
      "execution_count": null,
      "outputs": []
    },
    {
      "cell_type": "markdown",
      "source": [
        "finding cluster form hierarichical clustering and k means\n"
      ],
      "metadata": {
        "id": "8TtAHaJajZQc"
      }
    },
    {
      "cell_type": "code",
      "source": [
        "#hierarichical clustering\n",
        "import scipy.cluster.hierarchy as sch\n",
        "from sklearn.cluster import AgglomerativeClustering\n"
      ],
      "metadata": {
        "id": "FgBmJ_S9jY8i"
      },
      "execution_count": null,
      "outputs": []
    },
    {
      "cell_type": "code",
      "source": [
        "plt.figure(figsize=(10,8))\n",
        "dendrogram=sch.dendrogram(sch.linkage(wine_standard,'complete'))"
      ],
      "metadata": {
        "id": "f72W8kDNj9Iv"
      },
      "execution_count": null,
      "outputs": []
    },
    {
      "cell_type": "code",
      "source": [
        "# Create Clusters\n",
        "hclusters=AgglomerativeClustering(n_clusters=3,affinity='euclidean',linkage='ward')\n",
        "hclusters"
      ],
      "metadata": {
        "id": "7AGymMxXkYQB"
      },
      "execution_count": null,
      "outputs": []
    },
    {
      "cell_type": "code",
      "source": [
        "y=pd.DataFrame(hclusters.fit_predict(wine_standard),columns=['clustersid'])\n",
        "y['clustersid'].value_counts()"
      ],
      "metadata": {
        "id": "TcqPdmAikuMo"
      },
      "execution_count": null,
      "outputs": []
    },
    {
      "cell_type": "code",
      "source": [
        "wine2=wine1.copy()\n",
        "wine2['clustersid']=hclusters.labels_\n",
        "wine2"
      ],
      "metadata": {
        "id": "OFJHsuGgk4SH"
      },
      "execution_count": null,
      "outputs": []
    },
    {
      "cell_type": "code",
      "source": [
        "\n",
        "wine2.sort_values(\"clustersid\")"
      ],
      "metadata": {
        "id": "8w_-MdoSlHsw"
      },
      "execution_count": null,
      "outputs": []
    },
    {
      "cell_type": "code",
      "source": [
        "wine2[\"clustersid\"].value_counts()\n",
        "\n"
      ],
      "metadata": {
        "id": "6KP2H7HulSU2"
      },
      "execution_count": null,
      "outputs": []
    },
    {
      "cell_type": "code",
      "source": [
        "#as we can see there are equal number of data in 3 cluster,so we can finalize with 3 clusters"
      ],
      "metadata": {
        "id": "1GDUGD7tl_VK"
      },
      "execution_count": null,
      "outputs": []
    },
    {
      "cell_type": "markdown",
      "source": [
        "K-Means\n"
      ],
      "metadata": {
        "id": "DyM5XAS6Sxsz"
      }
    },
    {
      "cell_type": "code",
      "source": [
        "from sklearn.cluster import KMeans"
      ],
      "metadata": {
        "id": "JUtONvdfnASN"
      },
      "execution_count": null,
      "outputs": []
    },
    {
      "cell_type": "code",
      "source": [
        "wcss=[]\n",
        "for i in range(1,11):\n",
        "  kmeans=KMeans(n_clusters=i,random_state=2)\n",
        "  kmeans.fit_transform(wine_standard)\n",
        "  wcss.append(kmeans.inertia_)\n",
        "\n",
        "\n",
        "  "
      ],
      "metadata": {
        "id": "lU7ppVeHTBCu"
      },
      "execution_count": null,
      "outputs": []
    },
    {
      "cell_type": "code",
      "source": [
        "# Plot K values range vs WCSS to get Elbow graph for choosing K (no. of clusters)\n",
        "plt.plot(range(1,11),wcss)\n",
        "plt.title('Elbow Graph')\n",
        "plt.xlabel('Number of clusters')\n",
        "plt.ylabel('WCSS');"
      ],
      "metadata": {
        "id": "a2tq7EJ6T5Xe"
      },
      "execution_count": null,
      "outputs": []
    },
    {
      "cell_type": "code",
      "source": [
        "# there is a sharp decline after 3rd cluster,therefore we will choise K=3"
      ],
      "metadata": {
        "id": "lXvxdi-rUASO"
      },
      "execution_count": null,
      "outputs": []
    },
    {
      "cell_type": "code",
      "source": [
        "cluster_kmeans=KMeans(n_clusters=3,random_state=2)\n",
        "cluster_kmeans.fit_transform(wine_standard)\n",
        "cluster_kmeans"
      ],
      "metadata": {
        "id": "Vl45coYHUaj-"
      },
      "execution_count": null,
      "outputs": []
    },
    {
      "cell_type": "code",
      "source": [
        "wine3=wine1.copy()\n",
        "wine3['clusters3id']=cluster_kmeans.labels_\n",
        "wine3"
      ],
      "metadata": {
        "id": "racaNcJUUyiY"
      },
      "execution_count": null,
      "outputs": []
    },
    {
      "cell_type": "code",
      "source": [
        "\n",
        "wine3['clusters3id'].value_counts()"
      ],
      "metadata": {
        "id": "hOrfeWZDU_Kk"
      },
      "execution_count": null,
      "outputs": []
    },
    {
      "cell_type": "code",
      "source": [
        "#the predicted values for cluster by PCA is same by Kmeans and hierarichical"
      ],
      "metadata": {
        "id": "vQYh6FTqVPlg"
      },
      "execution_count": null,
      "outputs": []
    },
    {
      "cell_type": "code",
      "source": [
        ""
      ],
      "metadata": {
        "id": "JrMrP954VysP"
      },
      "execution_count": null,
      "outputs": []
    }
  ]
}