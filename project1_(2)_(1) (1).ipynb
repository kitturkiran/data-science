{
  "cells": [
    {
      "cell_type": "code",
      "execution_count": null,
      "metadata": {
        "id": "b7NDfsETehIk"
      },
      "outputs": [],
      "source": [
        "import pandas as pd\n",
        "import numpy as np\n",
        "import matplotlib.pyplot as plt\n"
      ]
    },
    {
      "cell_type": "code",
      "execution_count": null,
      "metadata": {
        "id": "ag2ulU3feys7"
      },
      "outputs": [],
      "source": [
        "\n",
        "\n",
        "book=pd.read_csv(\"Books.csv\")"
      ]
    },
    {
      "cell_type": "code",
      "execution_count": null,
      "metadata": {
        "id": "Dhgj-7qBfQ1x"
      },
      "outputs": [],
      "source": [
        "book.head()"
      ]
    },
    {
      "cell_type": "code",
      "execution_count": null,
      "metadata": {
        "id": "Qt-VjB69ic-7"
      },
      "outputs": [],
      "source": [
        "book.info()"
      ]
    },
    {
      "cell_type": "code",
      "execution_count": null,
      "metadata": {
        "id": "TPXDNXlfWReu"
      },
      "outputs": [],
      "source": [
        "print(book.shape)\n",
        "print(list(book.columns))"
      ]
    },
    {
      "cell_type": "code",
      "execution_count": null,
      "metadata": {
        "id": "OTGSDGBwieV1"
      },
      "outputs": [],
      "source": [
        "book.isna().sum()"
      ]
    },
    {
      "cell_type": "code",
      "execution_count": null,
      "metadata": {
        "id": "7aySRbS0WmQa"
      },
      "outputs": [],
      "source": [
        "book[\"Year-Of-Publication\"].unique()"
      ]
    },
    {
      "cell_type": "code",
      "execution_count": null,
      "metadata": {
        "id": "eoxCPjjMwhh4"
      },
      "outputs": [],
      "source": [
        "\n",
        "i=list(book[\"Publisher\"])\n",
        "j=list(book['Year-Of-Publication'])\n",
        "r = {}\n",
        "for key in i:\n",
        "    for value in j:\n",
        "        r[key] = value\n",
        "        j.remove(value)\n",
        "        break\n"
      ]
    },
    {
      "cell_type": "code",
      "execution_count": null,
      "metadata": {
        "id": "sQlHFB803DlA"
      },
      "outputs": [],
      "source": [
        "r\n"
      ]
    },
    {
      "cell_type": "code",
      "execution_count": null,
      "metadata": {
        "id": "4_bES2AUO3G9"
      },
      "outputs": [],
      "source": [
        "\n",
        "## Replacing Invalid years with max year\n",
        "from collections import Counter\n",
        "count = Counter(book['Year-Of-Publication'])\n",
        "[k for k, v in count.items() if v == max(count.values())]"
      ]
    },
    {
      "cell_type": "code",
      "execution_count": null,
      "metadata": {
        "id": "gvobO6X1s67-"
      },
      "outputs": [],
      "source": [
        "pd.set_option('display.max_colwidth', -1)"
      ]
    },
    {
      "cell_type": "code",
      "execution_count": null,
      "metadata": {
        "id": "ag1c7TmTqkgd"
      },
      "outputs": [],
      "source": [
        "book.loc[book[\"Year-Of-Publication\"] == 'DK Publishing Inc', :]"
      ]
    },
    {
      "cell_type": "code",
      "execution_count": null,
      "metadata": {
        "id": "h0cIdTRMqkdq"
      },
      "outputs": [],
      "source": [
        "\n",
        "book.loc[book.ISBN == '0789466953','Year-Of-Publication'] = 2000\n",
        "book.loc[book.ISBN == '0789466953','Book-Author'] = \"James Buckley\"\n",
        "book.loc[book.ISBN == '0789466953','Publisher'] = \"DK Publishing Inc\"\n",
        "book.loc[book.ISBN == '0789466953','Book-Title'] = \"DK Readers: Creating the X-Men, How Comic Book...\t\""
      ]
    },
    {
      "cell_type": "code",
      "execution_count": null,
      "metadata": {
        "id": "RBVUM6o1rf5N"
      },
      "outputs": [],
      "source": [
        "book.loc[book[\"ISBN\"] == '0789466953',:]"
      ]
    },
    {
      "cell_type": "code",
      "execution_count": null,
      "metadata": {
        "id": "myUmGgrWqkb5"
      },
      "outputs": [],
      "source": [
        "\n",
        "\n",
        "\n",
        "\n",
        "book.loc[book.ISBN == '078946697X','Year-Of-Publication'] = 2000\n",
        "book.loc[book.ISBN == '078946697X','Book-Author'] = \"JMichael Teitelbaum\"\n",
        "book.loc[book.ISBN == '078946697X','Publisher'] = \"DK Publishing Inc\"\n",
        "book.loc[book.ISBN == '078946697X','Book-Title'] = \"DK Readers: Creating the X-Men, How It All Beg...\""
      ]
    },
    {
      "cell_type": "code",
      "execution_count": null,
      "metadata": {
        "id": "5wSdcT6upVDF"
      },
      "outputs": [],
      "source": [
        "\n",
        "book.loc[book.ISBN == '2070426769','Year-Of-Publication'] = 2003\n",
        "book.loc[book.ISBN == '2070426769','Book-Author'] = \"Jean-Marie Gustave Le ClÃ?Â©zio\"\n",
        "book.loc[book.ISBN == '2070426769','Publisher'] = \"Gallimard\"\n",
        "book.loc[book.ISBN == '2070426769','Book-Title'] = \"Peuple du ciel, suivi de Les Bergers\""
      ]
    },
    {
      "cell_type": "code",
      "execution_count": null,
      "metadata": {
        "id": "elXTkx3A_Pbj"
      },
      "outputs": [],
      "source": [
        "## Converting year of publication in Numbers\n",
        "book['Year-Of-Publication'] = book['Year-Of-Publication'].astype(int)"
      ]
    },
    {
      "cell_type": "code",
      "execution_count": null,
      "metadata": {
        "id": "kdcXPLVg_UT0"
      },
      "outputs": [],
      "source": [
        "book.loc[book['Year-Of-Publication'] > 2021, 'Year-Of-Publication'] = 2000\n",
        "book.loc[book['Year-Of-Publication'] == 0, 'Year-Of-Publication'] = 2000"
      ]
    },
    {
      "cell_type": "code",
      "execution_count": null,
      "metadata": {
        "id": "RnjbUxtgQELg"
      },
      "outputs": [],
      "source": [
        "book.info()"
      ]
    },
    {
      "cell_type": "code",
      "execution_count": null,
      "metadata": {
        "id": "GjAF1nxnkvKA"
      },
      "outputs": [],
      "source": [
        "User=pd.read_csv(\"Users.csv\")"
      ]
    },
    {
      "cell_type": "code",
      "execution_count": null,
      "metadata": {
        "id": "DnPgInW-l1k5"
      },
      "outputs": [],
      "source": [
        "User"
      ]
    },
    {
      "cell_type": "code",
      "execution_count": null,
      "metadata": {
        "id": "xkQtSjeXmBPX"
      },
      "outputs": [],
      "source": [
        "\n",
        "User[\"country\"]=User.Location.str.split(\",\",expand=True)[2]\n",
        "\n",
        "\n"
      ]
    },
    {
      "cell_type": "code",
      "execution_count": null,
      "metadata": {
        "id": "uzDbZMg3mIiX"
      },
      "outputs": [],
      "source": [
        "\n",
        "User"
      ]
    },
    {
      "cell_type": "code",
      "execution_count": null,
      "metadata": {
        "id": "U4YKH8a-Ilgx"
      },
      "outputs": [],
      "source": [
        "User=User.drop([\"Location\"],axis=1)"
      ]
    },
    {
      "cell_type": "code",
      "execution_count": null,
      "metadata": {
        "id": "NxZBHSTUMWtl"
      },
      "outputs": [],
      "source": [
        "\n",
        "len(User[\"country\"].unique())\n"
      ]
    },
    {
      "cell_type": "code",
      "execution_count": null,
      "metadata": {
        "id": "NQ_-U_xOQo0U"
      },
      "outputs": [],
      "source": [
        "User.isna().sum()"
      ]
    },
    {
      "cell_type": "code",
      "execution_count": null,
      "metadata": {
        "id": "oKZrA4tKQoxw"
      },
      "outputs": [],
      "source": [
        "#age features null percentage=110762/278858=39%"
      ]
    },
    {
      "cell_type": "code",
      "execution_count": null,
      "metadata": {
        "id": "e-mU8_KZQotZ"
      },
      "outputs": [],
      "source": [
        "import seaborn as sns\n",
        "sns.histplot(User[\"Age\"],bins=20)"
      ]
    },
    {
      "cell_type": "code",
      "execution_count": null,
      "metadata": {
        "id": "zBQAOUW4Qori"
      },
      "outputs": [],
      "source": [
        "\n",
        "# from above chat we can consider that most reader is from age group of 25 to 37,therefore iam taking 30. for all null values."
      ]
    },
    {
      "cell_type": "code",
      "execution_count": null,
      "metadata": {
        "id": "cmL_tUSPnTBr"
      },
      "outputs": [],
      "source": [
        "\n",
        "User[\"Age\"].value_counts()# we can see that above 100 all are invalid or outlier and less in number."
      ]
    },
    {
      "cell_type": "code",
      "execution_count": null,
      "metadata": {
        "id": "TLD2bYvZpvFV"
      },
      "outputs": [],
      "source": [
        "\n",
        "User.loc[User[\"Age\"]>100,\"Age\"]=np.NaN\n",
        "User.loc[User[\"Age\"]<6,\"Age\"]=np.NaN"
      ]
    },
    {
      "cell_type": "code",
      "execution_count": null,
      "metadata": {
        "id": "WFmW14Sjso_W"
      },
      "outputs": [],
      "source": [
        "User[\"Age\"].values"
      ]
    },
    {
      "cell_type": "code",
      "execution_count": null,
      "metadata": {
        "id": "Yz5vAFDdQopm"
      },
      "outputs": [],
      "source": [
        "\n",
        "User[\"Age\"].fillna(30,inplace = True)"
      ]
    },
    {
      "cell_type": "code",
      "execution_count": null,
      "metadata": {
        "id": "zXKgztDMQom3"
      },
      "outputs": [],
      "source": [
        "\n",
        "User[\"Age\"]=User[\"Age\"].astype(int)"
      ]
    },
    {
      "cell_type": "code",
      "execution_count": null,
      "metadata": {
        "id": "16MnWwRhytVP"
      },
      "outputs": [],
      "source": [
        "\n",
        "import seaborn as sns\n",
        "sns.histplot(User[\"Age\"],bins=10)"
      ]
    },
    {
      "cell_type": "code",
      "execution_count": null,
      "metadata": {
        "id": "BBS-VC8r_4An"
      },
      "outputs": [],
      "source": [
        "User.dropna()#there are only two null value in country therefore droping it"
      ]
    },
    {
      "cell_type": "code",
      "execution_count": null,
      "metadata": {
        "id": "YYJ8lkJmzUWk"
      },
      "outputs": [],
      "source": [
        "User[\"country\"].value_counts()"
      ]
    },
    {
      "cell_type": "code",
      "execution_count": null,
      "metadata": {
        "id": "J5d8t3NvJF5h"
      },
      "outputs": [],
      "source": [
        "rating=pd.read_csv(\"/content/Ratings.csv\")"
      ]
    },
    {
      "cell_type": "code",
      "execution_count": null,
      "metadata": {
        "id": "SXpJKCj8J0cG"
      },
      "outputs": [],
      "source": [
        "\n",
        "rating.head()"
      ]
    },
    {
      "cell_type": "code",
      "execution_count": null,
      "metadata": {
        "id": "MtMJzRS4J1tg"
      },
      "outputs": [],
      "source": [
        "rating.info()\n",
        "rating.isnull().sum()\n"
      ]
    },
    {
      "cell_type": "code",
      "execution_count": null,
      "metadata": {
        "id": "_o1VQQMjJ5_x"
      },
      "outputs": [],
      "source": [
        "\n",
        "import re\n",
        "## removing extra characters from ISBN (from ratings dataset) existing in books dataset\n",
        "bookISBN = book['ISBN'].tolist() \n",
        "reg = \"[^A-Za-z0-9]\" \n",
        "for index, row_Value in rating.iterrows():\n",
        "    z = re.search(reg, row_Value['ISBN'])    \n",
        "    if z:\n",
        "        f = re.sub(reg,\"\",row_Value['ISBN'])\n",
        "        if f in bookISBN:\n",
        "            rating.at[index , 'ISBN'] = f"
      ]
    },
    {
      "cell_type": "code",
      "execution_count": null,
      "metadata": {
        "id": "oTqmtb2rMv9L"
      },
      "outputs": [],
      "source": [
        "rating"
      ]
    },
    {
      "cell_type": "code",
      "execution_count": null,
      "metadata": {
        "id": "EiasUbjMM14a"
      },
      "outputs": [],
      "source": [
        "\n",
        "# merging all data sets\n",
        "dataset = pd.merge(book, rating, on='ISBN', how='inner')\n",
        "dataset = pd.merge(dataset, User, on='User-ID', how='inner')\n",
        "dataset.info()"
      ]
    },
    {
      "cell_type": "code",
      "execution_count": null,
      "metadata": {
        "id": "RAZ0YLBKdAgU"
      },
      "outputs": [],
      "source": [
        "dataset"
      ]
    },
    {
      "cell_type": "code",
      "execution_count": null,
      "metadata": {
        "id": "hbPjIljPdKJS"
      },
      "outputs": [],
      "source": [
        "p = {}\n",
        "for year in book['Year-Of-Publication']:\n",
        "    if str(year) not in p:\n",
        "        p[str(year)] = 0\n",
        "    p[str(year)] +=1\n",
        "\n",
        "p = {k:v for k, v in sorted(p.items())}"
      ]
    },
    {
      "cell_type": "code",
      "execution_count": null,
      "metadata": {
        "id": "LTxVWp7ielG1"
      },
      "outputs": [],
      "source": [
        "\n",
        "\n",
        "plt.figure(figsize=(15,6))\n",
        "sns.countplot(y=\"Book-Author\", data=book,order=book['Book-Author'].value_counts().index[0:10])\n",
        "\n"
      ]
    },
    {
      "cell_type": "code",
      "execution_count": null,
      "metadata": {
        "id": "SXtoE4tWfOiE"
      },
      "outputs": [],
      "source": [
        "plt.figure(figsize=(8,6))\n",
        "sns.countplot(x=\"Book-Rating\", data=rating)"
      ]
    },
    {
      "cell_type": "code",
      "execution_count": null,
      "metadata": {
        "id": "NFnwykxchH4F"
      },
      "outputs": [],
      "source": [
        "\n",
        "\n",
        "plt.figure(figsize=(15,8))\n",
        "sns.countplot(y=\"country\", data=User, order=User['country'].value_counts().index[0:10])\n",
        "plt.title(\"No of readers from each country (Top 10)\")"
      ]
    },
    {
      "cell_type": "code",
      "execution_count": null,
      "metadata": {
        "id": "_FZLyS4kh53H"
      },
      "outputs": [],
      "source": [
        "plt.figure(figsize=(15,8))\n",
        "sns.countplot(y=\"Book-Title\", data=dataset, order=dataset['Book-Title'].value_counts().index[0:10])\n"
      ]
    },
    {
      "cell_type": "code",
      "execution_count": null,
      "metadata": {
        "id": "3FCcjTAhoPFK"
      },
      "outputs": [],
      "source": [
        "\n",
        "dataset1=dataset[dataset[\"Book-Rating\"]>8]"
      ]
    },
    {
      "cell_type": "code",
      "execution_count": null,
      "metadata": {
        "id": "1Ro3ix5kujwe"
      },
      "outputs": [],
      "source": [
        "dataset1"
      ]
    },
    {
      "cell_type": "code",
      "execution_count": null,
      "metadata": {
        "id": "-7lFd9vtsOzK"
      },
      "outputs": [],
      "source": [
        "\n",
        "\n",
        "plt.figure(figsize=(15,6))#8-10 rating author with maxmum count\n",
        "sns.countplot(y=\"Book-Author\", data=dataset1,order=dataset1['Book-Author'].value_counts().index[0:10])"
      ]
    },
    {
      "cell_type": "code",
      "execution_count": null,
      "metadata": {
        "id": "F7ogjAWnucmz"
      },
      "outputs": [],
      "source": [
        "dataset2=dataset1[dataset1[\"Age\"]<18]"
      ]
    },
    {
      "cell_type": "code",
      "execution_count": null,
      "metadata": {
        "id": "LVuC3FxjJhVS"
      },
      "outputs": [],
      "source": [
        "dataset2"
      ]
    },
    {
      "cell_type": "code",
      "execution_count": null,
      "metadata": {
        "id": "AQPz1SotKMkn"
      },
      "outputs": [],
      "source": [
        "plt.figure(figsize=(15,6))#8 to 10 rating author with maxmum count and age between 0 to 18\n",
        "sns.countplot(y=\"Book-Title\", data=dataset2,order=dataset2['Book-Title'].value_counts().index[0:10])"
      ]
    },
    {
      "cell_type": "code",
      "execution_count": null,
      "metadata": {
        "id": "AcvAfxVnJi0v"
      },
      "outputs": [],
      "source": [
        "dataset3=dataset1[dataset1[\"Age\"]>18]"
      ]
    },
    {
      "cell_type": "code",
      "execution_count": null,
      "metadata": {
        "id": "iYuNE2fdKKdS"
      },
      "outputs": [],
      "source": [
        "plt.figure(figsize=(15,6))#8 to 10 rating author with maxmum count and age above 18\n",
        "sns.countplot(y=\"Book-Title\", data=dataset3,order=dataset3['Book-Title'].value_counts().index[0:10])"
      ]
    },
    {
      "cell_type": "code",
      "execution_count": null,
      "metadata": {
        "id": "9YwuHTISLEnS"
      },
      "outputs": [],
      "source": [
        "plt.figure(figsize=(15,6))#8-10 rating author with maxmum count\n",
        "sns.countplot(y=\"country\", data=dataset1,order=dataset1['country'].value_counts().index[0:10])"
      ]
    },
    {
      "cell_type": "code",
      "execution_count": null,
      "metadata": {
        "id": "Dm9PjfcqNIF7"
      },
      "outputs": [],
      "source": [
        "#popular based \n",
        "def popularity_based(dataframe, n):\n",
        "    if n >= 1 and n <= len(dataframe):\n",
        "        data = pd.DataFrame(dataframe.groupby('ISBN')['Book-Rating'].count()).sort_values('Book-Rating', ascending=False).head(n)\n",
        "        data1=pd.DataFrame(dataframe.groupby('ISBN')['Book-Rating'].unique())\n",
        "        data2=pd.merge(data,data1, on='ISBN')\n",
        "        result = pd.merge(data2, book, on='ISBN', left_index = False)\n",
        "        return result\n",
        "    return \"Invalid number of books entered!!\""
      ]
    },
    {
      "cell_type": "code",
      "execution_count": null,
      "metadata": {
        "id": "M1BZ_Aa-mdHV"
      },
      "outputs": [],
      "source": [
        "\n",
        "\n",
        "number = int(input(\"Enter number of books to recommend: \"))"
      ]
    },
    {
      "cell_type": "code",
      "execution_count": null,
      "metadata": {
        "id": "oQKNY6u5mplm"
      },
      "outputs": [],
      "source": [
        "print(\"Top\", number, \"Popular books are: \")\n",
        "popularity_based(dataset1,5)"
      ]
    },
    {
      "cell_type": "code",
      "execution_count": null,
      "metadata": {
        "id": "ayfS6qE3ySVk"
      },
      "outputs": [],
      "source": [
        "popularity_threshold = 50\n",
        "from scipy.sparse import csr_matrix\n",
        "from sklearn.neighbors import NearestNeighbors\n",
        "data = (dataset.groupby(by = ['Book-Title'])['Book-Rating'].count().reset_index().\n",
        "        rename(columns = {'Book-Rating': 'Total-Rating'}))\n",
        "\n",
        "result = pd.merge(data, dataset, on='Book-Title', left_index = False)\n",
        "result = result[result['Total-Rating'] >= popularity_threshold]\n",
        "result = result.reset_index(drop = True)\n",
        "\n",
        "matrix = result.pivot_table(index = 'Book-Title', columns = 'User-ID', values = 'Book-Rating').fillna(0)\n",
        "up_matrix = csr_matrix(matrix)"
      ]
    },
    {
      "cell_type": "code",
      "source": [
        "# for the recommdation of books we are taking target varible user-id as 171011 in which he as read --Harry Potter and the Prisoner of Azkaban (Book 3)\n",
        "# recommeding the follwing books\n",
        "\n",
        "\n"
      ],
      "metadata": {
        "id": "gylPkX-rb20v"
      },
      "execution_count": null,
      "outputs": []
    },
    {
      "cell_type": "code",
      "execution_count": null,
      "metadata": {
        "id": "kw0aO9MyBScp"
      },
      "outputs": [],
      "source": [
        "bookName = input(\"Enter a book name: \")\n",
        "model = NearestNeighbors(metric = 'cosine', algorithm = 'brute')\n",
        "model.fit(up_matrix)\n",
        "\n",
        "distances, indices = model.kneighbors(matrix.loc[bookName].values.reshape(1, -1), n_neighbors =10)\n",
        "print(\"\\nRecommended books:\\n\")\n",
        "for i in range(0, len(distances.flatten())):\n",
        "    if i > 0:\n",
        "        print(matrix.index[indices.flatten()[i]]) "
      ]
    },
    {
      "cell_type": "code",
      "execution_count": null,
      "metadata": {
        "id": "GX5tzyXMeIk4"
      },
      "outputs": [],
      "source": [
        "data2=result[result['Book-Title']==\"Harry Potter and the Prisoner of Azkaban (Book 3)\"]#getting the details who read Harry Potter and the Prisoner of Azkaban (Book 3)"
      ]
    },
    {
      "cell_type": "code",
      "execution_count": null,
      "metadata": {
        "id": "v3AIMhOiixVT"
      },
      "outputs": [],
      "source": [
        "data3=result[result['Book-Title']==\"Harry Potter and the Chamber of Secrets (Book 2)\"]#getting the details who read Harry Potter and the Chamber of Secrets (Book 2)"
      ]
    },
    {
      "cell_type": "code",
      "execution_count": null,
      "metadata": {
        "id": "JCBNLz8mMkSj"
      },
      "outputs": [],
      "source": [
        "x=set(data2[\"User-ID\"].values)#contain the userid of those who read Harry Potter and the Prisoner of Azkaban (Book 3)\n",
        "y=set(data3[\"User-ID\"].values)#contain the userid of those who read Harry Potter and the Chamber of Secrets (Book 2)"
      ]
    },
    {
      "cell_type": "code",
      "execution_count": null,
      "metadata": {
        "id": "83wWFwfnOS1y"
      },
      "outputs": [],
      "source": [
        "similar_user=x & y # similar_user means both the user as read that book and given the same rating.\n",
        "print(similar_user)"
      ]
    },
    {
      "cell_type": "code",
      "source": [
        "result[result[\"User-ID\"]==171011].sort_values('Book-Rating', ascending=False).head(5)"
      ],
      "metadata": {
        "id": "fe3nhnuCUqBZ"
      },
      "execution_count": null,
      "outputs": []
    },
    {
      "cell_type": "code",
      "source": [
        "result[result[\"User-ID\"]==232964].sort_values('Book-Rating', ascending=False).head(5)"
      ],
      "metadata": {
        "id": "JW8XNlw6U1VG"
      },
      "execution_count": null,
      "outputs": []
    },
    {
      "cell_type": "code",
      "source": [
        "\n",
        "result[result[\"User-ID\"]==249862].sort_values('Book-Rating', ascending=False).head(5)"
      ],
      "metadata": {
        "id": "mNvp7Z3FVZxH"
      },
      "execution_count": null,
      "outputs": []
    },
    {
      "cell_type": "code",
      "source": [
        "result[result[\"User-ID\"]==137742].sort_values('Book-Rating', ascending=False).head(5)"
      ],
      "metadata": {
        "id": "E_LLmuvWb8HJ"
      },
      "execution_count": null,
      "outputs": []
    },
    {
      "cell_type": "code",
      "source": [
        "result[result[\"User-ID\"]==30735].sort_values('Book-Rating', ascending=False).head(5)"
      ],
      "metadata": {
        "id": "me8VfFq1b88s"
      },
      "execution_count": null,
      "outputs": []
    },
    {
      "cell_type": "code",
      "source": [
        "# i have taken similiar user-id (read the book and given the good rating)(9602,87555,249862,9227,47116) the following are the books"
      ],
      "metadata": {
        "id": "T12PREsUcUqO"
      },
      "execution_count": null,
      "outputs": []
    },
    {
      "cell_type": "code",
      "source": [
        "\n",
        "#top book read by user\n",
        "list=(\"Harry Potter and the Chamber of Secrets (Book 2)\",\"Harry Potter and the Goblet of Fire (Book 4)\",\"Harry Potter and the Order of the Phoenix (Book 5)\",\"Harry Potter and the Prisoner of Azkaban (Book 3)\",\"Harry Potter and the Sorcerer's Stone (Book 1)\",\"Harry Potter and the Sorcerer's Stone (Book 1)\",\"Life of Pi\",\"Harry Potter and the Chamber of Secrets (Book 2)\",\"The Talisman\",\"Harry Potter and the Prisoner of Azkaban (Book 3)\",\"All Around the Town\",\"House Atreides (Dune: House Trilogy, Book 1)\",\"The Little Prince\",\"All Quiet on the Western Front\",\"One for the Money (A Stephanie Plum Novel)\",\"All I Need Is You\",\"Harry Potter and the Prisoner of Azkaban (Book 3)\",\"The Two Towers (The Lord of the Rings, Part 2)\",\"The Return of the King (The Lord of the Rings, Part 3)\",\"The Fellowship of the Ring (The Lord of the Rings, Part 1)\",\"A Is for Alibi (Kinsey Millhone Mysteries (Paperback))\",\"Imajica\",\"Harry Potter and the Goblet of Fire (Book 4)\",\"Harry Potter and the Order of the Phoenix (Book 5)\",\"Harry Potter and the Sorcerer's Stone (Book 1)\")"
      ],
      "metadata": {
        "id": "_vNZRTsPCcl5"
      },
      "execution_count": null,
      "outputs": []
    },
    {
      "cell_type": "code",
      "source": [
        "list#top25 books"
      ],
      "metadata": {
        "id": "4gU1b2O0aw6L"
      },
      "execution_count": null,
      "outputs": []
    },
    {
      "cell_type": "code",
      "source": [
        "import pickle\n",
        "pickle.dump(result,open(\"books.pk1\",\"wb\"))\n",
        "pickle.dump(model,open(\"model.pk1\",\"wb\"))"
      ],
      "metadata": {
        "id": "tWZeyEIAhOpu"
      },
      "execution_count": null,
      "outputs": []
    },
    {
      "cell_type": "code",
      "source": [
        "\n"
      ],
      "metadata": {
        "id": "1AFGy9jKqWpv"
      },
      "execution_count": null,
      "outputs": []
    }
  ],
  "metadata": {
    "colab": {
      "collapsed_sections": [],
      "provenance": []
    },
    "kernelspec": {
      "display_name": "Python 3",
      "name": "python3"
    },
    "language_info": {
      "name": "python"
    }
  },
  "nbformat": 4,
  "nbformat_minor": 0
}