{
  "nbformat": 4,
  "nbformat_minor": 0,
  "metadata": {
    "colab": {
      "name": "Random_forest assignment2.ipynb",
      "provenance": [],
      "collapsed_sections": []
    },
    "kernelspec": {
      "name": "python3",
      "display_name": "Python 3"
    },
    "language_info": {
      "name": "python"
    }
  },
  "cells": [
    {
      "cell_type": "code",
      "execution_count": null,
      "metadata": {
        "id": "c0WbtVoEr7vA"
      },
      "outputs": [],
      "source": [
        "import pandas as pd\n",
        "import numpy as np\n",
        "from sklearn.ensemble import RandomForestClassifier,BaggingClassifier\n",
        "from sklearn.model_selection import KFold,train_test_split"
      ]
    },
    {
      "cell_type": "code",
      "source": [
        "data=pd.read_csv(\"Fraud_check.csv\")"
      ],
      "metadata": {
        "id": "EMofOyOXsqCI"
      },
      "execution_count": null,
      "outputs": []
    },
    {
      "cell_type": "code",
      "source": [
        "data"
      ],
      "metadata": {
        "id": "IOQDMeNyswKc"
      },
      "execution_count": null,
      "outputs": []
    },
    {
      "cell_type": "code",
      "source": [
        "data[\"Marital.Status\"].unique()# we have 3 catergory-single,divorced,married"
      ],
      "metadata": {
        "id": "-Gc00pMssw0B"
      },
      "execution_count": null,
      "outputs": []
    },
    {
      "cell_type": "code",
      "source": [
        "data[\"Undergrad\"].value_counts()#there are 2 catergorical vales i.e-yes or no\n"
      ],
      "metadata": {
        "id": "4Npk3pGetTzP"
      },
      "execution_count": null,
      "outputs": []
    },
    {
      "cell_type": "code",
      "source": [
        "data[\"Urban\"].unique()# 2 catergory-yes or no"
      ],
      "metadata": {
        "id": "OxmfXw9WuYZS"
      },
      "execution_count": null,
      "outputs": []
    },
    {
      "cell_type": "code",
      "source": [
        "data.info()"
      ],
      "metadata": {
        "id": "4Bt7-gkhuvWa"
      },
      "execution_count": null,
      "outputs": []
    },
    {
      "cell_type": "code",
      "source": [
        "data.isna().sum()# there are no null values."
      ],
      "metadata": {
        "id": "J_7M2_gqu1BY"
      },
      "execution_count": null,
      "outputs": []
    },
    {
      "cell_type": "code",
      "source": [
        "data.describe()"
      ],
      "metadata": {
        "id": "n7f8KTMIu7NJ"
      },
      "execution_count": null,
      "outputs": []
    },
    {
      "cell_type": "code",
      "source": [
        "\n",
        "data"
      ],
      "metadata": {
        "id": "BE9VZTpbyLfm"
      },
      "execution_count": null,
      "outputs": []
    },
    {
      "cell_type": "code",
      "source": [
        "data=data.rename({\"Marital.Status\":\"Marital_Status\"},axis=1)\n"
      ],
      "metadata": {
        "id": "6FHvnp1qvCUj"
      },
      "execution_count": null,
      "outputs": []
    },
    {
      "cell_type": "code",
      "source": [
        "data=data.rename({\"Taxable.Income\":\"Taxable_Income\"},axis=1)"
      ],
      "metadata": {
        "id": "vXpBTYbjxMHE"
      },
      "execution_count": null,
      "outputs": []
    },
    {
      "cell_type": "code",
      "source": [
        "data=data.rename({\"City.Population\":\"City_Population\"},axis=1)"
      ],
      "metadata": {
        "id": "sQwawEv_y_LB"
      },
      "execution_count": null,
      "outputs": []
    },
    {
      "cell_type": "code",
      "source": [
        "data"
      ],
      "metadata": {
        "id": "-5nmmzaqzJR3"
      },
      "execution_count": null,
      "outputs": []
    },
    {
      "cell_type": "code",
      "source": [
        "data[\"Taxable_inx\"]=pd.cut(data[\"Taxable_Income\"],bins = [10000,30000,99619],labels=[\"risky\",\"good\"])"
      ],
      "metadata": {
        "id": "6O07Y8kDzMOx"
      },
      "execution_count": null,
      "outputs": []
    },
    {
      "cell_type": "code",
      "source": [
        "data"
      ],
      "metadata": {
        "id": "04Y6RhvZ1HVH"
      },
      "execution_count": null,
      "outputs": []
    },
    {
      "cell_type": "code",
      "source": [
        "data=pd.get_dummies(data,columns=['Undergrad','Marital_Status','Urban'], drop_first=True)"
      ],
      "metadata": {
        "id": "pIlmx0K31I_l"
      },
      "execution_count": null,
      "outputs": []
    },
    {
      "cell_type": "code",
      "source": [
        "data"
      ],
      "metadata": {
        "id": "dft79oZn7GSZ"
      },
      "execution_count": null,
      "outputs": []
    },
    {
      "cell_type": "code",
      "source": [
        "data.Taxable_inx.unique()"
      ],
      "metadata": {
        "id": "AUHTEvn-7JMk"
      },
      "execution_count": null,
      "outputs": []
    },
    {
      "cell_type": "code",
      "source": [
        "data"
      ],
      "metadata": {
        "id": "WgXlox0L8cMa"
      },
      "execution_count": null,
      "outputs": []
    },
    {
      "cell_type": "code",
      "source": [
        "data1=data.drop(columns=\"Taxable_inx\")"
      ],
      "metadata": {
        "id": "UYZ9zX6N-tzA"
      },
      "execution_count": null,
      "outputs": []
    },
    {
      "cell_type": "code",
      "source": [
        "data1"
      ],
      "metadata": {
        "id": "cQGVvpw0AbHR"
      },
      "execution_count": null,
      "outputs": []
    },
    {
      "cell_type": "code",
      "source": [
        "import seaborn as sns\n",
        "sns.pairplot(data=data1,hue=\"Taxable_Income\")"
      ],
      "metadata": {
        "id": "2AmqwJ5hAd0q"
      },
      "execution_count": null,
      "outputs": []
    },
    {
      "cell_type": "code",
      "source": [
        "def function(i):\n",
        "  i=(i-i.min())/(i.max()-i.min())\n",
        "  return i"
      ],
      "metadata": {
        "id": "YS03eMLY-KS-"
      },
      "execution_count": null,
      "outputs": []
    },
    {
      "cell_type": "code",
      "source": [
        "data1_norm=function(data1)\n",
        "data1_norm"
      ],
      "metadata": {
        "id": "gPzojKTR-UYm"
      },
      "execution_count": null,
      "outputs": []
    },
    {
      "cell_type": "code",
      "source": [
        "import matplotlib.pyplot as plt\n",
        "sns.barplot(data1_norm[\"Taxable_Income\"],data1_norm[\"City_Population\"])"
      ],
      "metadata": {
        "id": "S0-M3K7a_U3c"
      },
      "execution_count": null,
      "outputs": []
    },
    {
      "cell_type": "code",
      "source": [
        "#as we can see or assume that either the city population is increasing or decrease the income is not effecting."
      ],
      "metadata": {
        "id": "rzV74D3A6xgm"
      },
      "execution_count": null,
      "outputs": []
    },
    {
      "cell_type": "code",
      "source": [
        "sns.scatterplot(data1_norm[\"Taxable_Income\"],data1_norm[\"Urban_YES\"])"
      ],
      "metadata": {
        "id": "qyVOAHGPpB8F"
      },
      "execution_count": null,
      "outputs": []
    },
    {
      "cell_type": "code",
      "source": [
        "#urban location is also not impacted for income catergory."
      ],
      "metadata": {
        "id": "3AkwwuybpcPv"
      },
      "execution_count": null,
      "outputs": []
    },
    {
      "cell_type": "code",
      "source": [
        "#we will delete the population,Taxable income  and urban features from dataset.\n",
        "data1_norm=data1_norm.drop(columns=\"Taxable_Income\")\n"
      ],
      "metadata": {
        "id": "sON_71H3poPz"
      },
      "execution_count": null,
      "outputs": []
    },
    {
      "cell_type": "code",
      "source": [
        "data1_norm=data1_norm.drop(columns=\"City_Population\")\n",
        "data1_norm=data1_norm.drop(columns=\"Urban_YES\")"
      ],
      "metadata": {
        "id": "-NVn_TUxqMpW"
      },
      "execution_count": null,
      "outputs": []
    },
    {
      "cell_type": "code",
      "source": [
        "#dividing the dataset into X,Y -dependent and indepenent variable\n",
        "X=data1_norm\n",
        "Y=data[\"Taxable_inx\"]"
      ],
      "metadata": {
        "id": "g4VMUJTFqfJv"
      },
      "execution_count": null,
      "outputs": []
    },
    {
      "cell_type": "code",
      "source": [
        "Y.unique()"
      ],
      "metadata": {
        "id": "2acnWhMttnMM"
      },
      "execution_count": null,
      "outputs": []
    },
    {
      "cell_type": "code",
      "source": [
        "#for testing the accuaracy we will split into test train dataset.\n",
        "xtrain,xtest,ytrain,ytest=train_test_split(X,Y,test_size=0.3,random_state=1)"
      ],
      "metadata": {
        "id": "ofzhHLK2qgZP"
      },
      "execution_count": null,
      "outputs": []
    },
    {
      "cell_type": "code",
      "source": [
        "#building the model\n",
        "model=RandomForestClassifier(n_estimators=100,criterion=\"gini\",max_features=3)\n",
        "model.fit(xtrain,ytrain)\n",
        "ypred=model.predict(xtest)"
      ],
      "metadata": {
        "id": "CIziC7caq-a5"
      },
      "execution_count": null,
      "outputs": []
    },
    {
      "cell_type": "code",
      "source": [
        "(ypred==ytest).value_counts()#128/(128+52)=0.71~71% accuaracy"
      ],
      "metadata": {
        "id": "AbhXgIb0seup"
      },
      "execution_count": null,
      "outputs": []
    },
    {
      "cell_type": "code",
      "source": [
        "from sklearn.metrics import confusion_matrix\n",
        "cf=confusion_matrix(ytest,ypred)"
      ],
      "metadata": {
        "id": "2r1xpAASsyVC"
      },
      "execution_count": null,
      "outputs": []
    },
    {
      "cell_type": "code",
      "source": [
        "cf"
      ],
      "metadata": {
        "id": "_-7k3ovUtTjF"
      },
      "execution_count": null,
      "outputs": []
    },
    {
      "cell_type": "code",
      "source": [
        "from sklearn.metrics import classification_report\n",
        "print(classification_report(ytest,ypred))"
      ],
      "metadata": {
        "id": "T4w_KX7LtUoo"
      },
      "execution_count": null,
      "outputs": []
    },
    {
      "cell_type": "code",
      "source": [
        "# we find the average accuracy by kfold method.\n",
        "from sklearn.model_selection import KFold,cross_val_score\n",
        "kfold=KFold(n_splits=10)\n",
        "results=cross_val_score(model,X,Y,cv=kfold)\n"
      ],
      "metadata": {
        "id": "pADYf95Vte9F"
      },
      "execution_count": null,
      "outputs": []
    },
    {
      "cell_type": "code",
      "source": [
        "results.mean()# average mean of all 10 model is 0.70~70%\n"
      ],
      "metadata": {
        "id": "-2cVoIA-u0ie"
      },
      "execution_count": null,
      "outputs": []
    },
    {
      "cell_type": "code",
      "source": [
        "# we will try to increase the accuracy by bagging method\n",
        "from sklearn.ensemble import BaggingClassifier\n",
        "model1=BaggingClassifier(base_estimator=RandomForestClassifier(n_estimators=110,criterion=\"gini\",max_features=3))\n",
        "results1=cross_val_score(model1,X,Y,cv=kfold)"
      ],
      "metadata": {
        "id": "MkTQ70B8u2za"
      },
      "execution_count": null,
      "outputs": []
    },
    {
      "cell_type": "code",
      "source": [
        "results1.mean()"
      ],
      "metadata": {
        "id": "OP1AW1X5vuZ7"
      },
      "execution_count": null,
      "outputs": []
    },
    {
      "cell_type": "code",
      "source": [
        ""
      ],
      "metadata": {
        "id": "k0KL23mhv8e5"
      },
      "execution_count": null,
      "outputs": []
    }
  ]
}