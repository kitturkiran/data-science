{
  "nbformat": 4,
  "nbformat_minor": 0,
  "metadata": {
    "colab": {
      "name": "assiocation rules assignments1.ipynb",
      "provenance": [],
      "collapsed_sections": []
    },
    "kernelspec": {
      "name": "python3",
      "display_name": "Python 3"
    },
    "language_info": {
      "name": "python"
    }
  },
  "cells": [
    {
      "cell_type": "code",
      "execution_count": null,
      "metadata": {
        "id": "hxUQeoS5T95h"
      },
      "outputs": [],
      "source": [
        "import pandas as pd\n",
        "import numpy as np\n",
        "\n",
        "!pip install mlxtend"
      ]
    },
    {
      "cell_type": "code",
      "source": [
        "from mlxtend.frequent_patterns import apriori,association_rules"
      ],
      "metadata": {
        "id": "-KE22k-nVPZd"
      },
      "execution_count": null,
      "outputs": []
    },
    {
      "cell_type": "code",
      "source": [
        "data=pd.read_csv(\"book.csv\")"
      ],
      "metadata": {
        "id": "vJ01QlLKVgbq"
      },
      "execution_count": null,
      "outputs": []
    },
    {
      "cell_type": "code",
      "source": [
        "data.head()"
      ],
      "metadata": {
        "id": "0ZJyyVwSV0xu"
      },
      "execution_count": null,
      "outputs": []
    },
    {
      "cell_type": "code",
      "source": [
        "data.shape"
      ],
      "metadata": {
        "id": "tvj_lsIMZOYS"
      },
      "execution_count": null,
      "outputs": []
    },
    {
      "cell_type": "code",
      "source": [
        "frequent_itemsets = apriori(data, min_support=0.1, use_colnames=True)\n",
        "frequent_itemsets.head()"
      ],
      "metadata": {
        "id": "YgiOk9RuV2oX"
      },
      "execution_count": null,
      "outputs": []
    },
    {
      "cell_type": "code",
      "source": [
        "frequent_itemsets.shape"
      ],
      "metadata": {
        "id": "egEjA-0qbhHR"
      },
      "execution_count": null,
      "outputs": []
    },
    {
      "cell_type": "code",
      "source": [
        "rules_ap = association_rules(frequent_itemsets, metric=\"confidence\",min_threshold=0.4)\n",
        "rules_ap"
      ],
      "metadata": {
        "id": "-pspTodhaH_v"
      },
      "execution_count": null,
      "outputs": []
    },
    {
      "cell_type": "code",
      "source": [
        "rules_ap.head()"
      ],
      "metadata": {
        "id": "d6OAhgGbaH9X"
      },
      "execution_count": null,
      "outputs": []
    },
    {
      "cell_type": "code",
      "source": [
        "rules_ap_pivot=rules_ap.pivot(index=\"antecedents\",columns=\"consequents\",values=\"confidence\")"
      ],
      "metadata": {
        "id": "H5_c1JDPlCLI"
      },
      "execution_count": null,
      "outputs": []
    },
    {
      "cell_type": "code",
      "source": [
        "import seaborn as sns\n",
        "\n",
        "\n",
        "sns.heatmap(data=rules_ap_pivot)\n"
      ],
      "metadata": {
        "id": "HAkQctqBllWd"
      },
      "execution_count": null,
      "outputs": []
    },
    {
      "cell_type": "code",
      "source": [
        "#from above heatmap we can infer that antecedents[geobks,artbks,refbks,doltybks] and consequents[childbks ,cookbks ]has high confidence of association\n"
      ],
      "metadata": {
        "id": "ZuKh8qKvY9Rx"
      },
      "execution_count": null,
      "outputs": []
    },
    {
      "cell_type": "code",
      "source": [
        "rules_lift = association_rules(frequent_itemsets, metric=\"lift\")\n",
        "rules_lift"
      ],
      "metadata": {
        "id": "dvIr1Ri_WinJ"
      },
      "execution_count": null,
      "outputs": []
    },
    {
      "cell_type": "code",
      "source": [
        "rules_lift.sort_values('lift',ascending = False)[0:20]"
      ],
      "metadata": {
        "id": "pmV3sMC3XTkc"
      },
      "execution_count": null,
      "outputs": []
    },
    {
      "cell_type": "code",
      "source": [
        "rules_lift_pivot=rules_lift.pivot(index=\"antecedents\",columns=\"consequents\",values=\"lift\")"
      ],
      "metadata": {
        "id": "lMuQQeZ0Xng1"
      },
      "execution_count": null,
      "outputs": []
    },
    {
      "cell_type": "code",
      "source": [
        "\n",
        "sns.heatmap(data=rules_lift_pivot)"
      ],
      "metadata": {
        "id": "gTsEkjqaYSua"
      },
      "execution_count": null,
      "outputs": []
    },
    {
      "cell_type": "code",
      "source": [
        "#In above heatmap we can see different combination of antecedent and consequents for corresponding lift values"
      ],
      "metadata": {
        "id": "2-AmbKLFauyt"
      },
      "execution_count": null,
      "outputs": []
    },
    {
      "cell_type": "markdown",
      "source": [
        "By changing the value of length in apriori"
      ],
      "metadata": {
        "id": "PmFY_A0RYfvt"
      }
    },
    {
      "cell_type": "code",
      "source": [
        "frequent_itemsets1 = apriori(data, min_support=0.2, use_colnames=True)\n",
        "frequent_itemsets1.shape"
      ],
      "metadata": {
        "id": "H86BTuLhar_S"
      },
      "execution_count": null,
      "outputs": []
    },
    {
      "cell_type": "code",
      "source": [
        "frequent_itemsets1\n",
        "\n"
      ],
      "metadata": {
        "id": "qczAdhoyhSil"
      },
      "execution_count": null,
      "outputs": []
    },
    {
      "cell_type": "code",
      "source": [
        "rules_ap1 = association_rules(frequent_itemsets1, metric=\"confidence\",min_threshold=0.4)\n",
        "rules_ap1\n",
        "\n"
      ],
      "metadata": {
        "id": "KGqCsJKxhzRj"
      },
      "execution_count": null,
      "outputs": []
    },
    {
      "cell_type": "code",
      "source": [
        "rules_lift1 = association_rules(frequent_itemsets1, metric=\"lift\")\n",
        "rules_lift1\n",
        "\n"
      ],
      "metadata": {
        "id": "hb2xBJ5ih__F"
      },
      "execution_count": null,
      "outputs": []
    },
    {
      "cell_type": "code",
      "source": [
        "# if we increase the min_support in apriori length then we get only one associate between cooksbks and childbks"
      ],
      "metadata": {
        "id": "0k38xx2siSQE"
      },
      "execution_count": null,
      "outputs": []
    },
    {
      "cell_type": "code",
      "source": [
        ""
      ],
      "metadata": {
        "id": "-GDb2UScctyL"
      },
      "execution_count": null,
      "outputs": []
    }
  ]
}