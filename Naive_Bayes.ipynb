{
  "nbformat": 4,
  "nbformat_minor": 0,
  "metadata": {
    "colab": {
      "name": "Naive_Bayes.ipynb",
      "provenance": [],
      "collapsed_sections": []
    },
    "kernelspec": {
      "name": "python3",
      "display_name": "Python 3"
    },
    "language_info": {
      "name": "python"
    }
  },
  "cells": [
    {
      "cell_type": "code",
      "execution_count": null,
      "metadata": {
        "id": "qhInUxhThqg9"
      },
      "outputs": [],
      "source": [
        "import pandas as pd\n",
        "import numpy as np\n",
        "\n",
        "from sklearn.model_selection import KFold,train_test_split,cross_val_score,GridSearchCV\n",
        "from sklearn.metrics import accuracy_score, confusion_matrix\n",
        "import matplotlib.pyplot as plt\n",
        "from sklearn.preprocessing import LabelEncoder,StandardScaler\n",
        "import seaborn as sns"
      ]
    },
    {
      "cell_type": "code",
      "source": [
        "data=pd.read_csv(\"/content/SalaryData_Train.csv\")\n",
        "data.head()"
      ],
      "metadata": {
        "id": "g156WkuTiMUf"
      },
      "execution_count": null,
      "outputs": []
    },
    {
      "cell_type": "code",
      "source": [
        "data.info()"
      ],
      "metadata": {
        "id": "HR77kbKRilrR"
      },
      "execution_count": null,
      "outputs": []
    },
    {
      "cell_type": "code",
      "source": [
        "data.isna().sum()"
      ],
      "metadata": {
        "id": "84uu9fRKi10E"
      },
      "execution_count": null,
      "outputs": []
    },
    {
      "cell_type": "code",
      "source": [
        "data.corr()"
      ],
      "metadata": {
        "id": "VVXw7Voki42W"
      },
      "execution_count": null,
      "outputs": []
    },
    {
      "cell_type": "code",
      "source": [
        "data.describe()"
      ],
      "metadata": {
        "id": "RchBTKWui6c_"
      },
      "execution_count": null,
      "outputs": []
    },
    {
      "cell_type": "code",
      "source": [
        "data=data.drop(columns=\"educationno\")#the educationno varicable is not given in dataset describsion."
      ],
      "metadata": {
        "id": "ORr2N3O7i8Tg"
      },
      "execution_count": null,
      "outputs": []
    },
    {
      "cell_type": "code",
      "source": [
        "\n",
        "\n",
        "categorical = [var for var in data.columns if data[var].dtype=='O']\n",
        "\n",
        "\n",
        "for var in categorical: \n",
        "    \n",
        "    print(data[var].value_counts())\n",
        "  "
      ],
      "metadata": {
        "id": "MBqv_bW7jAF1"
      },
      "execution_count": null,
      "outputs": []
    },
    {
      "cell_type": "code",
      "source": [
        "len(categorical)#there are 9 categorical variables"
      ],
      "metadata": {
        "id": "1Bs9xPOkjn01"
      },
      "execution_count": null,
      "outputs": []
    },
    {
      "cell_type": "code",
      "source": [
        "for x in categorical:\n",
        "  data[x]=LabelEncoder().fit_transform(data[x])"
      ],
      "metadata": {
        "id": "Y1a0bpPRp2jT"
      },
      "execution_count": null,
      "outputs": []
    },
    {
      "cell_type": "code",
      "source": [
        "data"
      ],
      "metadata": {
        "id": "um-glzxNpuEx"
      },
      "execution_count": null,
      "outputs": []
    },
    {
      "cell_type": "code",
      "source": [
        "data=data.rename(columns={\"workclass\":\"work_class\",\"maritalstatus\":\"marital_status\",\"capitalgain\":\"capital_gain\",\"capitalloss\":\"capital_loss\",\"hoursperweek\":\"hours_per_week\"})"
      ],
      "metadata": {
        "id": "iVrmH34PqF3i"
      },
      "execution_count": null,
      "outputs": []
    },
    {
      "cell_type": "code",
      "source": [
        "data"
      ],
      "metadata": {
        "id": "or4rJ3TJq0Pc"
      },
      "execution_count": null,
      "outputs": []
    },
    {
      "cell_type": "code",
      "source": [
        "sns.scatterplot(\"age\",\"Salary\",hue=\"Salary\",data=data)#we can say that is not much effecting factor for salary less or greater than 50k"
      ],
      "metadata": {
        "id": "wwr1A3XMq1YZ"
      },
      "execution_count": null,
      "outputs": []
    },
    {
      "cell_type": "code",
      "source": [
        "sns.countplot(\"work_class\",hue=\"Salary\",data=data)#workclass 2 has highest number of people having less than 50k salary\n",
        "#comparing the other type 2 workclass has higest people having salary greater than 50k"
      ],
      "metadata": {
        "id": "CQh7ZV2PsBap"
      },
      "execution_count": null,
      "outputs": []
    },
    {
      "cell_type": "code",
      "source": [
        "sns.countplot(\"marital_status\",data=data,hue=\"Salary\")"
      ],
      "metadata": {
        "id": "G7elvKtgtBBm"
      },
      "execution_count": null,
      "outputs": []
    },
    {
      "cell_type": "code",
      "source": [
        "sns.scatterplot(\"occupation\",\"Salary\",data=data)"
      ],
      "metadata": {
        "id": "mYYYQSqotXqh"
      },
      "execution_count": null,
      "outputs": []
    },
    {
      "cell_type": "code",
      "source": [
        "sns.scatterplot(\"relationship\",\"Salary\",data=data)"
      ],
      "metadata": {
        "id": "u4hPwzXrtXoR"
      },
      "execution_count": null,
      "outputs": []
    },
    {
      "cell_type": "code",
      "source": [
        "sns.scatterplot(\"race\",\"Salary\",data=data)"
      ],
      "metadata": {
        "id": "T8JZikiStXmO"
      },
      "execution_count": null,
      "outputs": []
    },
    {
      "cell_type": "code",
      "source": [
        "sns.scatterplot(\"sex\",\"Salary\",data=data)"
      ],
      "metadata": {
        "id": "rMlbx7DStXkb"
      },
      "execution_count": null,
      "outputs": []
    },
    {
      "cell_type": "code",
      "source": [
        "sns.scatterplot(\"hours_per_week\",\"Salary\",data=data)"
      ],
      "metadata": {
        "id": "o332u0EetXil"
      },
      "execution_count": null,
      "outputs": []
    },
    {
      "cell_type": "code",
      "source": [
        "sns.scatterplot(\"native\",\"Salary\",data=data)"
      ],
      "metadata": {
        "id": "nNCVZYCDtXgr"
      },
      "execution_count": null,
      "outputs": []
    },
    {
      "cell_type": "code",
      "source": [
        "sns.scatterplot(\"capital_gain\",\"Salary\",data=data)"
      ],
      "metadata": {
        "id": "lO08P5d1tXep"
      },
      "execution_count": null,
      "outputs": []
    },
    {
      "cell_type": "code",
      "source": [
        "X=data.iloc[:,0:12]\n",
        "Y=data.iloc[:,12]"
      ],
      "metadata": {
        "id": "z2IxqG8Gt5VF"
      },
      "execution_count": null,
      "outputs": []
    },
    {
      "cell_type": "code",
      "source": [
        "# as testing and training data is given separetely we will not divide it futher.\n",
        "#building the SVM model\n"
      ],
      "metadata": {
        "id": "ZwB_zBDtt5vn"
      },
      "execution_count": null,
      "outputs": []
    },
    {
      "cell_type": "code",
      "source": [
        "\n",
        "from sklearn.naive_bayes import GaussianNB\n",
        "gnb = GaussianNB()\n",
        "gnb.fit(X,Y)"
      ],
      "metadata": {
        "id": "oAckGpguuA8D"
      },
      "execution_count": null,
      "outputs": []
    },
    {
      "cell_type": "code",
      "source": [
        "data1=pd.read_csv(\"/content/SalaryData_Test.csv\")#loading the test datasets."
      ],
      "metadata": {
        "id": "9FHEmk-cu7iV"
      },
      "execution_count": null,
      "outputs": []
    },
    {
      "cell_type": "code",
      "source": [
        "data1=data1.drop(columns=\"educationno\")"
      ],
      "metadata": {
        "id": "tUxYTVxdvLCp"
      },
      "execution_count": null,
      "outputs": []
    },
    {
      "cell_type": "code",
      "source": [
        "\n",
        "\n",
        "\n",
        "categorical1 = [var for var in data1.columns if data1[var].dtype=='O']"
      ],
      "metadata": {
        "id": "1aoCFBQPvTUt"
      },
      "execution_count": null,
      "outputs": []
    },
    {
      "cell_type": "code",
      "source": [
        "for x in categorical1:\n",
        "  data1[x]=LabelEncoder().fit_transform(data1[x])\n",
        "\n"
      ],
      "metadata": {
        "id": "uljZo88cviX_"
      },
      "execution_count": null,
      "outputs": []
    },
    {
      "cell_type": "code",
      "source": [
        "data1"
      ],
      "metadata": {
        "id": "PTmoYueKvwwT"
      },
      "execution_count": null,
      "outputs": []
    },
    {
      "cell_type": "code",
      "source": [
        "data1.info()#there are no null values"
      ],
      "metadata": {
        "id": "4TN8u5nCvxxu"
      },
      "execution_count": null,
      "outputs": []
    },
    {
      "cell_type": "code",
      "source": [
        "X1=data1.iloc[:,0:12]\n",
        "Y1=data1.iloc[:,12]"
      ],
      "metadata": {
        "id": "JZW3jMX9v1uY"
      },
      "execution_count": null,
      "outputs": []
    },
    {
      "cell_type": "code",
      "source": [
        "#predicting the values\n",
        "y_pred = gnb.predict(X1)\n",
        "\n",
        "y_pred"
      ],
      "metadata": {
        "id": "VGtrPKGXwKN3"
      },
      "execution_count": null,
      "outputs": []
    },
    {
      "cell_type": "code",
      "source": [
        "y_pred"
      ],
      "metadata": {
        "id": "4wAg6xziwW8n"
      },
      "execution_count": null,
      "outputs": []
    },
    {
      "cell_type": "code",
      "source": [
        "print('Model accuracy score: {0:0.4f}'. format(accuracy_score(Y1, y_pred)))"
      ],
      "metadata": {
        "id": "s1pYJXmCwflG"
      },
      "execution_count": null,
      "outputs": []
    },
    {
      "cell_type": "code",
      "source": [
        "#checking for overfitting of model\n",
        "y_pred_train = gnb.predict(X)\n",
        "print('Training-set accuracy score: {0:0.4f}'. format(accuracy_score(Y, y_pred_train)))"
      ],
      "metadata": {
        "id": "hXGkLw_iwnND"
      },
      "execution_count": null,
      "outputs": []
    },
    {
      "cell_type": "code",
      "source": [
        "#test and train accuracy is almost equal"
      ],
      "metadata": {
        "id": "BOcfJJf4w_S7"
      },
      "execution_count": null,
      "outputs": []
    },
    {
      "cell_type": "code",
      "source": [
        "from sklearn.metrics import confusion_matrix\n",
        "\n",
        "cm = confusion_matrix(Y1, y_pred)\n",
        "\n",
        "print('Confusion matrix\\n\\n', cm)\n",
        "\n",
        "print('\\nTrue Positives(TP) = ', cm[0,0])\n",
        "\n",
        "print('\\nTrue Negatives(TN) = ', cm[1,1])\n",
        "\n",
        "print('\\nFalse Positives(FP) = ', cm[0,1])\n",
        "\n",
        "print('\\nFalse Negatives(FN) = ', cm[1,0])"
      ],
      "metadata": {
        "id": "OgBIYEMaxcOY"
      },
      "execution_count": null,
      "outputs": []
    },
    {
      "cell_type": "code",
      "source": [
        ""
      ],
      "metadata": {
        "id": "NMw1aErgyMlG"
      },
      "execution_count": null,
      "outputs": []
    }
  ]
}