{
  "nbformat": 4,
  "nbformat_minor": 0,
  "metadata": {
    "colab": {
      "name": "Descision tree assignmnent.ipynb",
      "provenance": [],
      "collapsed_sections": []
    },
    "kernelspec": {
      "name": "python3",
      "display_name": "Python 3"
    },
    "language_info": {
      "name": "python"
    }
  },
  "cells": [
    {
      "cell_type": "code",
      "execution_count": null,
      "metadata": {
        "id": "TFGg77Pc_Lf7"
      },
      "outputs": [],
      "source": [
        "import pandas as pd\n",
        "import numpy as np\n",
        "from sklearn.tree import DecisionTreeClassifier\n",
        "from sklearn import tree\n",
        "from sklearn.preprocessing import LabelEncoder\n",
        "from sklearn.model_selection import train_test_split\n",
        "from sklearn.preprocessing import StandardScaler"
      ]
    },
    {
      "cell_type": "code",
      "source": [
        "data=pd.read_csv(\"Fraud_check.csv\")"
      ],
      "metadata": {
        "id": "amYeKBrbB7Jx"
      },
      "execution_count": null,
      "outputs": []
    },
    {
      "cell_type": "code",
      "source": [
        "data"
      ],
      "metadata": {
        "id": "_azsnfjjCEUu"
      },
      "execution_count": null,
      "outputs": []
    },
    {
      "cell_type": "code",
      "source": [
        "data.info()"
      ],
      "metadata": {
        "id": "PHGn7GFICE-a"
      },
      "execution_count": null,
      "outputs": []
    },
    {
      "cell_type": "code",
      "source": [
        "data[\"Undergrad\"].value_counts()#there are 2 catergorical vales i.e-yes or no"
      ],
      "metadata": {
        "id": "2AMe4bkOCNXf"
      },
      "execution_count": null,
      "outputs": []
    },
    {
      "cell_type": "code",
      "source": [
        "data[\"Marital.Status\"].value_counts()#there are 2 values for marital status -yes or no"
      ],
      "metadata": {
        "id": "g3R30L5JCbnc"
      },
      "execution_count": null,
      "outputs": []
    },
    {
      "cell_type": "code",
      "source": [
        "data[\"Urban\"].value_counts()"
      ],
      "metadata": {
        "id": "9LTLJDL8Cqct"
      },
      "execution_count": null,
      "outputs": []
    },
    {
      "cell_type": "code",
      "source": [
        "#performing EDA for above dataset"
      ],
      "metadata": {
        "id": "n50NwRzoC2o3"
      },
      "execution_count": null,
      "outputs": []
    },
    {
      "cell_type": "code",
      "source": [
        "\n",
        "data=data.rename({\"Marital.Status\":\"Marital_status\",\"Taxable.Income\":\"Taxable_income\",\"City.Population\":\"City_population\",\"Work.Experience\":\"Work_experience\"},axis=1)"
      ],
      "metadata": {
        "id": "LHyC_zs_DDzG"
      },
      "execution_count": null,
      "outputs": []
    },
    {
      "cell_type": "code",
      "source": [
        "data"
      ],
      "metadata": {
        "id": "oAP1VcE8DrRA"
      },
      "execution_count": null,
      "outputs": []
    },
    {
      "cell_type": "code",
      "source": [
        "#there are no null values."
      ],
      "metadata": {
        "id": "GbhgLEEkD1wQ"
      },
      "execution_count": null,
      "outputs": []
    },
    {
      "cell_type": "code",
      "source": [
        "np.max(data[\"Taxable_income\"])"
      ],
      "metadata": {
        "id": "jneKLmRmHq0w"
      },
      "execution_count": null,
      "outputs": []
    },
    {
      "cell_type": "code",
      "source": [
        "\n",
        "\n",
        "\n",
        "#creating a new columns as status(in which good==1,or risky==0)\n",
        "data[\"TaxInc\"] = pd.cut(data[\"Taxable_income\"], bins = [10000,30000,99619],labels=[\"risky\",\"good\"])\n",
        "data= pd.get_dummies(data,columns = [\"TaxInc\"],drop_first=True)"
      ],
      "metadata": {
        "id": "SR_7CfdvD-ud"
      },
      "execution_count": null,
      "outputs": []
    },
    {
      "cell_type": "code",
      "source": [
        "data\n"
      ],
      "metadata": {
        "id": "hmgiAHFuE0TZ"
      },
      "execution_count": null,
      "outputs": []
    },
    {
      "cell_type": "code",
      "source": [
        "\n",
        "#Creating dummy vairables for ['Undergrad','Marital.Status','Urban'] dropping first dummy variable\n",
        "data=pd.get_dummies(data,columns=['Undergrad','Marital_status','Urban'], drop_first=True)"
      ],
      "metadata": {
        "id": "xpkWO44dROej"
      },
      "execution_count": null,
      "outputs": []
    },
    {
      "cell_type": "code",
      "source": [
        "data"
      ],
      "metadata": {
        "id": "NM8dnn4rS7Fa"
      },
      "execution_count": null,
      "outputs": []
    },
    {
      "cell_type": "code",
      "source": [
        "import seaborn as sns\n",
        "sns.pairplot(data,hue=\"TaxInc_good\")"
      ],
      "metadata": {
        "id": "xM3TNoxiS-sX"
      },
      "execution_count": null,
      "outputs": []
    },
    {
      "cell_type": "code",
      "source": [
        "\n",
        "#drawing inference from above plot \n",
        "#orange represent that the are good and there income ishigh then 30000 and blue represents there income is lower than 30000\n",
        "#city population and undergrad is independend of tax_inc i.e there are mix person with greater and less than income of 30000.\n",
        "#most of married catery is have income greater than 30000 and good to give the loan.\n",
        "\n",
        "\n"
      ],
      "metadata": {
        "id": "B1roz_hJTft9"
      },
      "execution_count": null,
      "outputs": []
    },
    {
      "cell_type": "code",
      "source": [
        "data1=data.iloc[:,1:]"
      ],
      "metadata": {
        "id": "DXcIeWK-YkA-"
      },
      "execution_count": null,
      "outputs": []
    },
    {
      "cell_type": "code",
      "source": [
        "def function(i):\n",
        "  i=(i-i.min())/(i.max()-i.min())\n",
        "  return i"
      ],
      "metadata": {
        "id": "qPZ0e9OUZvBS"
      },
      "execution_count": null,
      "outputs": []
    },
    {
      "cell_type": "code",
      "source": [
        "data1_norm=function(data1)"
      ],
      "metadata": {
        "id": "bVTumU6VatuV"
      },
      "execution_count": null,
      "outputs": []
    },
    {
      "cell_type": "code",
      "source": [
        "data1_norm"
      ],
      "metadata": {
        "id": "mGXN7JRncMDk"
      },
      "execution_count": null,
      "outputs": []
    },
    {
      "cell_type": "code",
      "source": [
        "# Declaring features & target\n",
        "X =data1_norm.drop(['TaxInc_good'], axis=1)\n",
        "y = data1_norm['TaxInc_good']"
      ],
      "metadata": {
        "id": "Lb-Mw_xva4Sh"
      },
      "execution_count": null,
      "outputs": []
    },
    {
      "cell_type": "code",
      "source": [
        "# Splitting data into train & test\n",
        "Xtrain, Xtest, ytrain, ytest = train_test_split(X, y, test_size=0.2, random_state=0)"
      ],
      "metadata": {
        "id": "ansOiOfBbbuC"
      },
      "execution_count": null,
      "outputs": []
    },
    {
      "cell_type": "code",
      "source": [
        "#BUILDING THE MODEL\n",
        "\n",
        "model = DecisionTreeClassifier(criterion = 'entropy',max_depth=3)\n",
        "model.fit(Xtrain,ytrain)"
      ],
      "metadata": {
        "id": "1kMP8rBldk6n"
      },
      "execution_count": null,
      "outputs": []
    },
    {
      "cell_type": "code",
      "source": [
        "#PLot the decision tree\n",
        "tree.plot_tree(model);"
      ],
      "metadata": {
        "id": "s4wrSctLd76A"
      },
      "execution_count": null,
      "outputs": []
    },
    {
      "cell_type": "code",
      "source": [
        "colnames=list(data1.columns)\n",
        "colnames"
      ],
      "metadata": {
        "id": "C1G4DH-1d_op"
      },
      "execution_count": null,
      "outputs": []
    },
    {
      "cell_type": "code",
      "source": [
        "import matplotlib.pyplot as plt\n",
        "\n",
        "fn=['City_population','Work_experience','Undergrad_YES','Marital_status_Married','Marital_status_Single','Urban_YES']\n",
        "cn=['1', '0']\n",
        "fig, axes = plt.subplots(nrows = 1,ncols = 1,figsize = (4,4), dpi=300)\n",
        "tree.plot_tree(model,\n",
        "               feature_names = fn, \n",
        "               class_names=cn,\n",
        "               filled = True);"
      ],
      "metadata": {
        "id": "v9uZSJKreNg8"
      },
      "execution_count": null,
      "outputs": []
    },
    {
      "cell_type": "code",
      "source": [
        "\n",
        "#Predicting on test data\n",
        "preds = model.predict(Xtest) # predicting on test data set \n",
        "pd.Series(preds).value_counts() # getting the count of each category "
      ],
      "metadata": {
        "id": "UMyqTQN-ezcY"
      },
      "execution_count": null,
      "outputs": []
    },
    {
      "cell_type": "code",
      "source": [
        "pd.crosstab(ytest,preds)"
      ],
      "metadata": {
        "id": "njbppI8NNXZo"
      },
      "execution_count": null,
      "outputs": []
    },
    {
      "cell_type": "code",
      "source": [
        "np.mean(preds==ytest)"
      ],
      "metadata": {
        "id": "V-BORPidPGJb"
      },
      "execution_count": null,
      "outputs": []
    },
    {
      "cell_type": "code",
      "source": [
        "# building model by cart method using gini cateria\n"
      ],
      "metadata": {
        "id": "2jGBFrhwPafK"
      },
      "execution_count": null,
      "outputs": []
    },
    {
      "cell_type": "code",
      "source": [
        "from sklearn.tree import DecisionTreeClassifier\n",
        "model1=DecisionTreeClassifier(criterion=\"gini\",max_depth=3)\n",
        "model1.fit(Xtrain,ytrain)"
      ],
      "metadata": {
        "id": "iMqiBqI_PueL"
      },
      "execution_count": null,
      "outputs": []
    },
    {
      "cell_type": "code",
      "source": [
        "pred1=model1.predict(Xtest)"
      ],
      "metadata": {
        "id": "R8ucu0iaQ8FH"
      },
      "execution_count": null,
      "outputs": []
    },
    {
      "cell_type": "code",
      "source": [
        "np.mean(pred1==ytest)"
      ],
      "metadata": {
        "id": "HN5lX9_0RCcH"
      },
      "execution_count": null,
      "outputs": []
    },
    {
      "cell_type": "code",
      "source": [
        ""
      ],
      "metadata": {
        "id": "aDg0u2GMRR1k"
      },
      "execution_count": null,
      "outputs": []
    }
  ]
}