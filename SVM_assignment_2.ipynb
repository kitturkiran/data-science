{
  "nbformat": 4,
  "nbformat_minor": 0,
  "metadata": {
    "colab": {
      "name": "SVM assignment 2.ipynb",
      "provenance": [],
      "collapsed_sections": []
    },
    "kernelspec": {
      "name": "python3",
      "display_name": "Python 3"
    },
    "language_info": {
      "name": "python"
    }
  },
  "cells": [
    {
      "cell_type": "code",
      "execution_count": null,
      "metadata": {
        "id": "wNs3ucvd-dmy"
      },
      "outputs": [],
      "source": [
        "import pandas as pd\n",
        "import numpy as np\n",
        "from sklearn.svm import SVC\n",
        "from sklearn.model_selection import KFold,train_test_split,cross_val_score,GridSearchCV\n",
        "from sklearn.metrics import accuracy_score, confusion_matrix\n",
        "import matplotlib.pyplot as plt\n",
        "from sklearn.preprocessing import LabelEncoder\n",
        "import seaborn as sns"
      ]
    },
    {
      "cell_type": "code",
      "source": [
        "data=pd.read_csv(\"/content/SalaryData_Train(1).csv\")"
      ],
      "metadata": {
        "id": "GYH9EyO6-ljH"
      },
      "execution_count": null,
      "outputs": []
    },
    {
      "cell_type": "code",
      "source": [
        "data.head()"
      ],
      "metadata": {
        "id": "weUjxiC__JN9"
      },
      "execution_count": null,
      "outputs": []
    },
    {
      "cell_type": "code",
      "source": [
        "\n",
        "\n",
        "data.info()"
      ],
      "metadata": {
        "id": "CGf0QNA8_J9P"
      },
      "execution_count": null,
      "outputs": []
    },
    {
      "cell_type": "code",
      "source": [
        "\n",
        "data.isna().sum()#there are no null vales."
      ],
      "metadata": {
        "id": "rj8Yt_gR_lj4"
      },
      "execution_count": null,
      "outputs": []
    },
    {
      "cell_type": "code",
      "source": [
        "data.corr()"
      ],
      "metadata": {
        "id": "Kjzz8mUw_rsE"
      },
      "execution_count": null,
      "outputs": []
    },
    {
      "cell_type": "code",
      "source": [
        "data.describe()"
      ],
      "metadata": {
        "id": "71KN_TAI_1mf"
      },
      "execution_count": null,
      "outputs": []
    },
    {
      "cell_type": "code",
      "source": [
        "data=data.drop(columns=\"educationno\")#the educationno varicable is not given in dataset describsion."
      ],
      "metadata": {
        "id": "wCyPaRED_3H5"
      },
      "execution_count": null,
      "outputs": []
    },
    {
      "cell_type": "code",
      "source": [
        "data"
      ],
      "metadata": {
        "id": "y2IAGn3yAaOO"
      },
      "execution_count": null,
      "outputs": []
    },
    {
      "cell_type": "code",
      "source": [
        "data.workclass.value_counts()"
      ],
      "metadata": {
        "id": "jby_xR3kAbJf"
      },
      "execution_count": null,
      "outputs": []
    },
    {
      "cell_type": "code",
      "source": [
        "data.education.value_counts()"
      ],
      "metadata": {
        "id": "Ag7bz-d3A7Re"
      },
      "execution_count": null,
      "outputs": []
    },
    {
      "cell_type": "code",
      "source": [
        "data.maritalstatus.value_counts()"
      ],
      "metadata": {
        "id": "3zck8o3bBBta"
      },
      "execution_count": null,
      "outputs": []
    },
    {
      "cell_type": "code",
      "source": [
        "data.occupation.value_counts()"
      ],
      "metadata": {
        "id": "J954FpUMBKZY"
      },
      "execution_count": null,
      "outputs": []
    },
    {
      "cell_type": "code",
      "source": [
        "data.sex.value_counts()"
      ],
      "metadata": {
        "id": "AVg9pVwtBSTf"
      },
      "execution_count": null,
      "outputs": []
    },
    {
      "cell_type": "code",
      "source": [
        "data.relationship.value_counts()"
      ],
      "metadata": {
        "id": "jsmg4FiXBS8j"
      },
      "execution_count": null,
      "outputs": []
    },
    {
      "cell_type": "code",
      "source": [
        "data.race.value_counts()"
      ],
      "metadata": {
        "id": "QU1bqyMqBTfB"
      },
      "execution_count": null,
      "outputs": []
    },
    {
      "cell_type": "code",
      "source": [
        "data.native.unique()"
      ],
      "metadata": {
        "id": "CV69_pLcTLD7"
      },
      "execution_count": null,
      "outputs": []
    },
    {
      "cell_type": "code",
      "source": [
        "data.native.value_counts()"
      ],
      "metadata": {
        "id": "xdCBn1XhBp4Z"
      },
      "execution_count": null,
      "outputs": []
    },
    {
      "cell_type": "code",
      "source": [
        "\n",
        "data.Salary.value_counts()"
      ],
      "metadata": {
        "id": "63lPt3U7B17Z"
      },
      "execution_count": null,
      "outputs": []
    },
    {
      "cell_type": "code",
      "source": [
        "data[\"workclass\"]=LabelEncoder().fit_transform(data[\"workclass\"])\n",
        "data[\"education\"]=LabelEncoder().fit_transform(data[\"education\"])\n",
        "data[\"maritalstatus\"]=LabelEncoder().fit_transform(data[\"maritalstatus\"])\n",
        "data[\"occupation\"]=LabelEncoder().fit_transform(data[\"occupation\"])\n",
        "data[\"relationship\"]=LabelEncoder().fit_transform(data[\"relationship\"])\n",
        "data[\"race\"]=LabelEncoder().fit_transform(data[\"race\"])\n",
        "data[\"sex\"]=LabelEncoder().fit_transform(data[\"sex\"])\n",
        "data[\"native\"]=LabelEncoder().fit_transform(data[\"native\"])\n",
        "data[\"Salary\"]=LabelEncoder().fit_transform(data[\"Salary\"])"
      ],
      "metadata": {
        "id": "86zjQ63wB4Nn"
      },
      "execution_count": null,
      "outputs": []
    },
    {
      "cell_type": "code",
      "source": [
        "data"
      ],
      "metadata": {
        "id": "_LaInTwaDQuJ"
      },
      "execution_count": null,
      "outputs": []
    },
    {
      "cell_type": "code",
      "source": [
        "data=data.rename(columns={\"workclass\":\"work_class\",\"maritalstatus\":\"marital_status\",\"capitalgain\":\"capital_gain\",\"capitalloss\":\"capital_loss\",\"hoursperweek\":\"hours_per_week\"})"
      ],
      "metadata": {
        "id": "DtoROUIlV_fH"
      },
      "execution_count": null,
      "outputs": []
    },
    {
      "cell_type": "code",
      "source": [
        "data"
      ],
      "metadata": {
        "id": "4LhqJR-4W2Fs"
      },
      "execution_count": null,
      "outputs": []
    },
    {
      "cell_type": "code",
      "source": [
        "sns.scatterplot(\"age\",\"Salary\",hue=\"Salary\",data=data)#we can say that is not much effecting factor for salary less or greater than 50k"
      ],
      "metadata": {
        "id": "EccWOeuUDR1u"
      },
      "execution_count": null,
      "outputs": []
    },
    {
      "cell_type": "code",
      "source": [
        "sns.countplot(\"work_class\",hue=\"Salary\",data=data)"
      ],
      "metadata": {
        "id": "XBW0xKwrT2Gp"
      },
      "execution_count": null,
      "outputs": []
    },
    {
      "cell_type": "markdown",
      "source": [
        "\n",
        "\n",
        "1.   workclass 2 has highest number of people having less than 50k salary\n",
        "2.   comparing the other type 2 workclass has higest people having salary greater than 50k\n",
        "\n"
      ],
      "metadata": {
        "id": "l7MqQmFtUnIG"
      }
    },
    {
      "cell_type": "code",
      "source": [
        "sns.countplot(\"education\",hue=\"Salary\",data=data)"
      ],
      "metadata": {
        "id": "BL-YI0d3UdE7"
      },
      "execution_count": null,
      "outputs": []
    },
    {
      "cell_type": "markdown",
      "source": [
        "\n",
        "\n",
        "*   we can see that education variable increase from left to right and it is higher to type 9,11,15.\n",
        "\n",
        "\n"
      ],
      "metadata": {
        "id": "2wluTIkvVi8w"
      }
    },
    {
      "cell_type": "code",
      "source": [
        "sns.countplot(\"marital_status\",data=data,hue=\"Salary\")"
      ],
      "metadata": {
        "id": "hXlb9XBbVcrR"
      },
      "execution_count": null,
      "outputs": []
    },
    {
      "cell_type": "code",
      "source": [
        "sns.scatterplot(\"occupation\",\"Salary\",data=data)"
      ],
      "metadata": {
        "id": "Q4dB0vn6W9Dw"
      },
      "execution_count": null,
      "outputs": []
    },
    {
      "cell_type": "code",
      "source": [
        "sns.scatterplot(\"relationship\",\"Salary\",data=data)"
      ],
      "metadata": {
        "id": "Db7x_b5kyOWl"
      },
      "execution_count": null,
      "outputs": []
    },
    {
      "cell_type": "code",
      "source": [
        "sns.scatterplot(\"race\",\"Salary\",data=data)"
      ],
      "metadata": {
        "id": "TJYW7DIm_w3f"
      },
      "execution_count": null,
      "outputs": []
    },
    {
      "cell_type": "code",
      "source": [
        "sns.scatterplot(\"sex\",\"Salary\",data=data)"
      ],
      "metadata": {
        "id": "pnF7v_FXPCUs"
      },
      "execution_count": null,
      "outputs": []
    },
    {
      "cell_type": "code",
      "source": [
        "sns.scatterplot(\"hours_per_week\",\"Salary\",data=data)"
      ],
      "metadata": {
        "id": "j79kU-LgPGPh"
      },
      "execution_count": null,
      "outputs": []
    },
    {
      "cell_type": "code",
      "source": [
        "sns.scatterplot(\"native\",\"Salary\",data=data)"
      ],
      "metadata": {
        "id": "wI00_VrHPUoi"
      },
      "execution_count": null,
      "outputs": []
    },
    {
      "cell_type": "code",
      "source": [
        "sns.scatterplot(\"capital_gain\",\"Salary\",data=data)"
      ],
      "metadata": {
        "id": "APfntbjjPgqi"
      },
      "execution_count": null,
      "outputs": []
    },
    {
      "cell_type": "code",
      "source": [
        "X=data.iloc[:,0:12]\n",
        "Y=data.iloc[:,12]"
      ],
      "metadata": {
        "id": "S3lumpr73PnH"
      },
      "execution_count": null,
      "outputs": []
    },
    {
      "cell_type": "code",
      "source": [
        "# as testing and training data is given separetely we will not divide it futher.\n",
        "#building the SVM model\n"
      ],
      "metadata": {
        "id": "J3cv7qA72P4-"
      },
      "execution_count": null,
      "outputs": []
    },
    {
      "cell_type": "code",
      "source": [
        "model=SVC()\n",
        "model.fit(X,Y)"
      ],
      "metadata": {
        "id": "V68aJNb021v1"
      },
      "execution_count": null,
      "outputs": []
    },
    {
      "cell_type": "code",
      "source": [
        "data1=pd.read_csv(\"/content/SalaryData_Test(1).csv\")#loading the test datasets."
      ],
      "metadata": {
        "id": "uOVwc6cw3p49"
      },
      "execution_count": null,
      "outputs": []
    },
    {
      "cell_type": "code",
      "source": [
        "data1"
      ],
      "metadata": {
        "id": "ZIJCfMmC4U_9"
      },
      "execution_count": null,
      "outputs": []
    },
    {
      "cell_type": "code",
      "source": [
        "data1=data1.drop(columns=\"educationno\")"
      ],
      "metadata": {
        "id": "pUlhwute4V7F"
      },
      "execution_count": null,
      "outputs": []
    },
    {
      "cell_type": "code",
      "source": [
        "data1"
      ],
      "metadata": {
        "id": "-06NXGfC4sv4"
      },
      "execution_count": null,
      "outputs": []
    },
    {
      "cell_type": "code",
      "source": [
        "data1[\"workclass\"]=LabelEncoder().fit_transform(data1[\"workclass\"])\n",
        "data1[\"education\"]=LabelEncoder().fit_transform(data1[\"education\"])\n",
        "data1[\"maritalstatus\"]=LabelEncoder().fit_transform(data1[\"maritalstatus\"])\n",
        "data1[\"occupation\"]=LabelEncoder().fit_transform(data1[\"occupation\"])\n",
        "data1[\"relationship\"]=LabelEncoder().fit_transform(data1[\"relationship\"])\n",
        "data1[\"race\"]=LabelEncoder().fit_transform(data1[\"race\"])\n",
        "data1[\"sex\"]=LabelEncoder().fit_transform(data1[\"sex\"])\n",
        "data1[\"native\"]=LabelEncoder().fit_transform(data1[\"native\"])\n",
        "data1[\"Salary\"]=LabelEncoder().fit_transform(data1[\"Salary\"])"
      ],
      "metadata": {
        "id": "vZR9-9gm4tc_"
      },
      "execution_count": null,
      "outputs": []
    },
    {
      "cell_type": "code",
      "source": [
        "data1#testing dataset"
      ],
      "metadata": {
        "id": "fD19r3Qf4-17"
      },
      "execution_count": null,
      "outputs": []
    },
    {
      "cell_type": "code",
      "source": [
        "X1=data1.iloc[:,0:12]#diving the test dataset into X1(independent variable) and Y1(dependent variable)\n",
        "Y1=data1.iloc[:,12]"
      ],
      "metadata": {
        "id": "5m7qdbAj4_9Z"
      },
      "execution_count": null,
      "outputs": []
    },
    {
      "cell_type": "code",
      "source": [
        "ypred=model.predict(X1)#predicting the X1(testing dataset)"
      ],
      "metadata": {
        "id": "7PXymyXR5H8w"
      },
      "execution_count": null,
      "outputs": []
    },
    {
      "cell_type": "code",
      "source": [
        "accuracy_score(ypred,Y1)"
      ],
      "metadata": {
        "id": "1tCpdJjD5MlP"
      },
      "execution_count": null,
      "outputs": []
    },
    {
      "cell_type": "code",
      "source": [
        "#gridsearch for SVC\n",
        "param_grid = [{'kernel':['rbf'],'gamma':[50,5,10,0.5],'C':[15,14,13,12,11,10,0.1,0.001] }]\n",
        "gsv = GridSearchCV(model,param_grid)\n",
        "gsv.fit(X,Y)\n"
      ],
      "metadata": {
        "id": "wAWzWCB96Pea"
      },
      "execution_count": null,
      "outputs": []
    },
    {
      "cell_type": "code",
      "source": [
        "gsv.best_params_ , gsv.best_score_ "
      ],
      "metadata": {
        "id": "8MfwIaCD6c6y"
      },
      "execution_count": null,
      "outputs": []
    },
    {
      "cell_type": "code",
      "source": [
        "model2 = SVC(C= 0.1, gamma = 50)\n",
        "model2.fit(X,Y)\n",
        "y_pred1 = model2predict(X1)\n",
        "acc = accuracy_score(Y1, y_pred1) * 100\n",
        "print(\"Accuracy =\", acc)\n",
        "confusion_matrix(Y1, y_pred1)"
      ],
      "metadata": {
        "id": "5jVAk5WM6gGd"
      },
      "execution_count": null,
      "outputs": []
    },
    {
      "cell_type": "code",
      "source": [
        ""
      ],
      "metadata": {
        "id": "gDK6TYX-6gZI"
      },
      "execution_count": null,
      "outputs": []
    },
    {
      "cell_type": "code",
      "source": [
        ""
      ],
      "metadata": {
        "id": "8uR7d0CE6gpD"
      },
      "execution_count": null,
      "outputs": []
    }
  ]
}