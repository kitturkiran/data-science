{
  "nbformat": 4,
  "nbformat_minor": 0,
  "metadata": {
    "colab": {
      "name": "Hierarical ,kmeans,dbscan assignments 1 .ipynb",
      "provenance": [],
      "collapsed_sections": []
    },
    "kernelspec": {
      "name": "python3",
      "display_name": "Python 3"
    },
    "language_info": {
      "name": "python"
    }
  },
  "cells": [
    {
      "cell_type": "code",
      "execution_count": null,
      "metadata": {
        "id": "A_FbvbrbqVDi"
      },
      "outputs": [],
      "source": [
        "import pandas as pd\n",
        "import matplotlib.pyplot as plt\n",
        "from sklearn.cluster import AgglomerativeClustering\n",
        "import scipy.cluster.hierarchy as sch\n",
        "from sklearn.preprocessing import StandardScaler"
      ]
    },
    {
      "cell_type": "code",
      "source": [
        "data=pd.read_csv(\"EastWestAirlines.csv\")"
      ],
      "metadata": {
        "id": "b9R7AuD5ra95"
      },
      "execution_count": null,
      "outputs": []
    },
    {
      "cell_type": "code",
      "source": [
        "data.head()"
      ],
      "metadata": {
        "id": "k_V7ffHTrs0Z"
      },
      "execution_count": null,
      "outputs": []
    },
    {
      "cell_type": "code",
      "source": [
        "data=data.drop([\"ID#\"],axis=1)"
      ],
      "metadata": {
        "id": "uP2T_huisZDF"
      },
      "execution_count": null,
      "outputs": []
    },
    {
      "cell_type": "code",
      "source": [
        "scalar=StandardScaler()\n",
        "Standard_data=scalar.fit_transform(data)"
      ],
      "metadata": {
        "id": "GD1269C7uj1B"
      },
      "execution_count": null,
      "outputs": []
    },
    {
      "cell_type": "code",
      "source": [
        "Standard_data"
      ],
      "metadata": {
        "id": "yPceT0g_wMH9"
      },
      "execution_count": null,
      "outputs": []
    },
    {
      "cell_type": "code",
      "source": [
        "# Create Dendrograms\n",
        "plt.figure(figsize=(10, 7))  \n",
        "dendograms=sch.dendrogram(sch.linkage(Standard_data,method='average'))"
      ],
      "metadata": {
        "id": "WeIMU5GkxJm2"
      },
      "execution_count": null,
      "outputs": []
    },
    {
      "cell_type": "code",
      "source": [
        "hcluster=AgglomerativeClustering(n_clusters=4, affinity = 'euclidean', linkage = 'average')\n",
        "y_hc=hcluster.fit_predict(Standard_data)\n",
        "y_hc=pd.DataFrame(y_hc,columns=[\"Clusters\"])\n",
        "\n"
      ],
      "metadata": {
        "id": "hWkfchb-xlxN"
      },
      "execution_count": null,
      "outputs": []
    },
    {
      "cell_type": "code",
      "source": [
        "y_hc"
      ],
      "metadata": {
        "id": "Oq7qXqQ6yzWo"
      },
      "execution_count": null,
      "outputs": []
    },
    {
      "cell_type": "code",
      "source": [
        "data[\"h.cluster\"]=y_hc"
      ],
      "metadata": {
        "id": "soGxzrQ5zWyQ"
      },
      "execution_count": null,
      "outputs": []
    },
    {
      "cell_type": "code",
      "source": [
        "\n"
      ],
      "metadata": {
        "id": "8H9_m4zEzgOp"
      },
      "execution_count": null,
      "outputs": []
    },
    {
      "cell_type": "code",
      "source": [
        "## kmeans\n",
        "from sklearn.cluster import KMeans"
      ],
      "metadata": {
        "id": "8uD2Y3hZzhj2"
      },
      "execution_count": null,
      "outputs": []
    },
    {
      "cell_type": "code",
      "source": [
        "data2=pd.read_csv(\"EastWestAirlines.csv\")"
      ],
      "metadata": {
        "id": "rPmR5pFC3F8s"
      },
      "execution_count": null,
      "outputs": []
    },
    {
      "cell_type": "code",
      "source": [
        "wscc=[]\n",
        "for i in range(1,11):\n",
        "  kmeans=KMeans(n_clusters=i)\n",
        "  kmeans.fit(Standard_data)\n",
        "  wscc.append(kmeans.inertia_)\n",
        "plt.plot(wscc)"
      ],
      "metadata": {
        "id": "xEBxAEbX1JVr"
      },
      "execution_count": null,
      "outputs": []
    },
    {
      "cell_type": "code",
      "source": [
        "model=KMeans(n_clusters=6)\n",
        "model.fit(Standard_data)\n",
        "model.labels_"
      ],
      "metadata": {
        "id": "H3Sww4tn10hc"
      },
      "execution_count": null,
      "outputs": []
    },
    {
      "cell_type": "code",
      "source": [
        "\n",
        "x=pd.Series(model.labels_)\n",
        "data2['Clust']=x"
      ],
      "metadata": {
        "id": "2HKd0KyN2TEf"
      },
      "execution_count": null,
      "outputs": []
    },
    {
      "cell_type": "code",
      "source": [
        "data2"
      ],
      "metadata": {
        "id": "7z2pYJOD24eG"
      },
      "execution_count": null,
      "outputs": []
    },
    {
      "cell_type": "code",
      "source": [
        "data2.iloc[:,1:5].groupby(data2.Clust).mean()"
      ],
      "metadata": {
        "id": "Sm8VoNoi3SpN"
      },
      "execution_count": null,
      "outputs": []
    },
    {
      "cell_type": "code",
      "source": [
        "##DBSCAN"
      ],
      "metadata": {
        "id": "sN2i_Das3k7R"
      },
      "execution_count": null,
      "outputs": []
    },
    {
      "cell_type": "code",
      "source": [
        "from sklearn.cluster import DBSCAN\n",
        "dbscan = DBSCAN(eps=2, min_samples=20)\n",
        "dbscan.fit(Standard_data)\n"
      ],
      "metadata": {
        "id": "wtmtm5Bz4k9i"
      },
      "execution_count": null,
      "outputs": []
    },
    {
      "cell_type": "code",
      "source": [
        "\n",
        "\n",
        "data3=pd.read_csv(\"EastWestAirlines.csv\")"
      ],
      "metadata": {
        "id": "j3tpWajn6Q4o"
      },
      "execution_count": null,
      "outputs": []
    },
    {
      "cell_type": "code",
      "source": [
        "dbscan.labels_"
      ],
      "metadata": {
        "id": "S5RVu3bo4thV"
      },
      "execution_count": null,
      "outputs": []
    },
    {
      "cell_type": "code",
      "source": [
        "\n",
        "cl=pd.DataFrame(dbscan.labels_,columns=['cluster'])\n",
        "cl\n"
      ],
      "metadata": {
        "id": "8jZri2wM5tv5"
      },
      "execution_count": null,
      "outputs": []
    },
    {
      "cell_type": "code",
      "source": [
        "data3=pd.concat([data3,cl],axis=1)"
      ],
      "metadata": {
        "id": "J9BEjwo55wd9"
      },
      "execution_count": null,
      "outputs": []
    },
    {
      "cell_type": "code",
      "source": [
        "\n",
        "data3.head(10)\n"
      ],
      "metadata": {
        "id": "rP5RRk1plSlx"
      },
      "execution_count": null,
      "outputs": []
    },
    {
      "cell_type": "code",
      "source": [
        "data3[data3['cluster']==-1] # this are the outliers"
      ],
      "metadata": {
        "id": "Iue2xjIJlc8O"
      },
      "execution_count": null,
      "outputs": []
    },
    {
      "cell_type": "code",
      "source": [
        ""
      ],
      "metadata": {
        "id": "pe5jamuIokv-"
      },
      "execution_count": null,
      "outputs": []
    }
  ]
}