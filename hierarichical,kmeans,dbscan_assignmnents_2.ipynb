{
  "nbformat": 4,
  "nbformat_minor": 0,
  "metadata": {
    "colab": {
      "name": "hierarichical,kmeans,dbscan assignmnents 2.ipynb",
      "provenance": [],
      "collapsed_sections": []
    },
    "kernelspec": {
      "name": "python3",
      "display_name": "Python 3"
    },
    "language_info": {
      "name": "python"
    }
  },
  "cells": [
    {
      "cell_type": "code",
      "execution_count": null,
      "metadata": {
        "id": "0ru416KFl2O9"
      },
      "outputs": [],
      "source": [
        "import pandas as pd\n",
        "import matplotlib.pyplot as plt\n",
        "from sklearn.cluster import AgglomerativeClustering\n",
        "import scipy.cluster.hierarchy as sch\n",
        "from sklearn.preprocessing import StandardScaler\n",
        " "
      ]
    },
    {
      "cell_type": "code",
      "source": [
        "data=pd.read_csv(\"crime_data.csv\")\n",
        "data.head()"
      ],
      "metadata": {
        "id": "NB7Vcgovqrbw"
      },
      "execution_count": null,
      "outputs": []
    },
    {
      "cell_type": "code",
      "source": [
        "data=data.iloc[:,1:]"
      ],
      "metadata": {
        "id": "5ntKD4fzqy_O"
      },
      "execution_count": null,
      "outputs": []
    },
    {
      "cell_type": "code",
      "source": [
        "data"
      ],
      "metadata": {
        "id": "udwocdJ6rHLH"
      },
      "execution_count": null,
      "outputs": []
    },
    {
      "cell_type": "code",
      "source": [
        "scaler=StandardScaler()\n",
        "data_scaler=scaler.fit_transform(data)"
      ],
      "metadata": {
        "id": "45hK4yBdtRev"
      },
      "execution_count": null,
      "outputs": []
    },
    {
      "cell_type": "code",
      "source": [
        "data_scaler"
      ],
      "metadata": {
        "id": "FSq8gq3Ftegd"
      },
      "execution_count": null,
      "outputs": []
    },
    {
      "cell_type": "code",
      "source": [
        "dendogram=sch.dendrogram(sch.linkage(data_scaler,method=\"average\"))"
      ],
      "metadata": {
        "id": "urRF5Mi3txus"
      },
      "execution_count": null,
      "outputs": []
    },
    {
      "cell_type": "code",
      "source": [
        "h_cluster=AgglomerativeClustering(n_clusters=4, affinity = 'euclidean', linkage = 'average')\n",
        "y_cluster=h_cluster.fit_predict(data_scaler)"
      ],
      "metadata": {
        "id": "ce62mQPz-2DJ"
      },
      "execution_count": null,
      "outputs": []
    },
    {
      "cell_type": "code",
      "source": [
        "cluster=pd.DataFrame(y_cluster,columns=[\"cluster\"])"
      ],
      "metadata": {
        "id": "V8Ihgk2R_bDn"
      },
      "execution_count": null,
      "outputs": []
    },
    {
      "cell_type": "code",
      "source": [
        "data[\"cluster\"]=cluster"
      ],
      "metadata": {
        "id": "AvvjTY27_gZT"
      },
      "execution_count": null,
      "outputs": []
    },
    {
      "cell_type": "code",
      "source": [
        "data"
      ],
      "metadata": {
        "id": "fUkbRWGN_7ma"
      },
      "execution_count": null,
      "outputs": []
    },
    {
      "cell_type": "code",
      "source": [
        "# kmeans\n",
        "from sklearn.cluster import KMeans\n",
        "data2=pd.read_csv(\"crime_data.csv\")\n",
        "data2=data2.iloc[:,1:]\n",
        "wscc=[]\n",
        "for i in range(1,11):\n",
        "  kmeans=KMeans(n_clusters=i,random_state=42)\n",
        "  kmeans.fit(data_scaler)\n",
        "  wscc.append(kmeans.inertia_)"
      ],
      "metadata": {
        "id": "CRwLWqOZ_8PS"
      },
      "execution_count": null,
      "outputs": []
    },
    {
      "cell_type": "code",
      "source": [
        "plt.plot(wscc)"
      ],
      "metadata": {
        "id": "BXDMPYt0BA2_"
      },
      "execution_count": null,
      "outputs": []
    },
    {
      "cell_type": "code",
      "source": [
        "model=KMeans(n_clusters=3)\n",
        "model.fit(data_scaler)\n",
        "model.labels_"
      ],
      "metadata": {
        "id": "yzeZ2zYeBOEQ"
      },
      "execution_count": null,
      "outputs": []
    },
    {
      "cell_type": "code",
      "source": [
        "y_cluster=pd.DataFrame(model.labels_,columns=[\"cluster\"])"
      ],
      "metadata": {
        "id": "B0xHm0CIBYPj"
      },
      "execution_count": null,
      "outputs": []
    },
    {
      "cell_type": "code",
      "source": [
        "\n",
        "data2[\"cluster\"]=y_cluster"
      ],
      "metadata": {
        "id": "Lj8061njB2sx"
      },
      "execution_count": null,
      "outputs": []
    },
    {
      "cell_type": "code",
      "source": [
        "data2"
      ],
      "metadata": {
        "id": "XLUennkWCDea"
      },
      "execution_count": null,
      "outputs": []
    },
    {
      "cell_type": "code",
      "source": [
        "data2.iloc[:,1:4].groupby(data2.cluster).mean()\n",
        "\n"
      ],
      "metadata": {
        "id": "H2j4GbH4CEJH"
      },
      "execution_count": null,
      "outputs": []
    },
    {
      "cell_type": "code",
      "source": [
        "#dbscan\n",
        "from sklearn.cluster import DBSCAN\n",
        "data3=pd.read_csv(\"crime_data.csv\")\n",
        "data3=data3.iloc[:,1:]\n",
        "dbscan=DBSCAN(eps=2,min_samples=20)\n",
        "dbscan.fit(data_scaler)"
      ],
      "metadata": {
        "id": "gOEa1rQCCJoB"
      },
      "execution_count": null,
      "outputs": []
    },
    {
      "cell_type": "code",
      "source": [
        "dbscan.labels_"
      ],
      "metadata": {
        "id": "ktk6NTlmDLBM"
      },
      "execution_count": null,
      "outputs": []
    },
    {
      "cell_type": "code",
      "source": [
        "db_cluster=pd.DataFrame(dbscan.labels_,columns=[\"cluster\"])\n",
        "db_cluster"
      ],
      "metadata": {
        "id": "INk-_viAEAF1"
      },
      "execution_count": null,
      "outputs": []
    },
    {
      "cell_type": "code",
      "source": [
        "data3=pd.concat([data3,db_cluster],axis=1)"
      ],
      "metadata": {
        "id": "jPhap47NETS7"
      },
      "execution_count": null,
      "outputs": []
    },
    {
      "cell_type": "code",
      "source": [
        "data3[data3['cluster']==-1] # this are the outliers"
      ],
      "metadata": {
        "id": "2JXCOvyYEd_o"
      },
      "execution_count": null,
      "outputs": []
    },
    {
      "cell_type": "code",
      "source": [
        ""
      ],
      "metadata": {
        "id": "MDVqvBA-EhSm"
      },
      "execution_count": null,
      "outputs": []
    }
  ]
}