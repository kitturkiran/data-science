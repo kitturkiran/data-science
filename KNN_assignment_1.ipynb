{
  "nbformat": 4,
  "nbformat_minor": 0,
  "metadata": {
    "colab": {
      "name": "KNN assignment 1.ipynb",
      "provenance": [],
      "collapsed_sections": []
    },
    "kernelspec": {
      "name": "python3",
      "display_name": "Python 3"
    },
    "language_info": {
      "name": "python"
    }
  },
  "cells": [
    {
      "cell_type": "code",
      "execution_count": null,
      "metadata": {
        "id": "n2iTMUmK_zC0"
      },
      "outputs": [],
      "source": [
        "import pandas as pd\n",
        "import numpy as np\n",
        "import matplotlib.pyplot as plt\n",
        "import seaborn as sns\n",
        "from sklearn.neighbors import KNeighborsClassifier\n",
        "from sklearn.model_selection import train_test_split,KFold,cross_val_score,GridSearchCV\n",
        "from sklearn.metrics import confusion_matrix,classification_report\n"
      ]
    },
    {
      "cell_type": "code",
      "source": [
        "data=pd.read_csv(\"Zoo.csv\")"
      ],
      "metadata": {
        "id": "JJYbG8yNAKGC"
      },
      "execution_count": null,
      "outputs": []
    },
    {
      "cell_type": "code",
      "source": [
        "data"
      ],
      "metadata": {
        "id": "hmzYsl1zA0GH"
      },
      "execution_count": null,
      "outputs": []
    },
    {
      "cell_type": "code",
      "source": [
        "data[\"animal name\"].value_counts() #as it representes serial number so we will delete that columns"
      ],
      "metadata": {
        "id": "4w9FZ4qpA0m7"
      },
      "execution_count": null,
      "outputs": []
    },
    {
      "cell_type": "code",
      "source": [
        "data=data.drop(columns=\"animal name\")"
      ],
      "metadata": {
        "id": "fS1ToAyIBMaR"
      },
      "execution_count": null,
      "outputs": []
    },
    {
      "cell_type": "code",
      "source": [
        "data"
      ],
      "metadata": {
        "id": "gjNniS4NCAKy"
      },
      "execution_count": null,
      "outputs": []
    },
    {
      "cell_type": "code",
      "source": [
        "data.type.value_counts()"
      ],
      "metadata": {
        "id": "BPK83AhFDk4a"
      },
      "execution_count": null,
      "outputs": []
    },
    {
      "cell_type": "code",
      "source": [
        "data=data.rename({\"type\":\"Type\"},axis=1)"
      ],
      "metadata": {
        "id": "NcH4TBC0Dpz8"
      },
      "execution_count": null,
      "outputs": []
    },
    {
      "cell_type": "code",
      "source": [
        "data"
      ],
      "metadata": {
        "id": "MBCiPF7mD7Rh"
      },
      "execution_count": null,
      "outputs": []
    },
    {
      "cell_type": "code",
      "source": [
        "#as all above number are present in 0 or 1 except leg columns Therefore there is scaling effect in this dataset\n",
        "data.info()#there is no null values present."
      ],
      "metadata": {
        "id": "qLdAhmPaD-VR"
      },
      "execution_count": null,
      "outputs": []
    },
    {
      "cell_type": "code",
      "source": [
        "data.describe()"
      ],
      "metadata": {
        "id": "FiUmjFBFGFWD"
      },
      "execution_count": null,
      "outputs": []
    },
    {
      "cell_type": "code",
      "source": [
        "#Visulation part."
      ],
      "metadata": {
        "id": "eX-PpBI9ETfc"
      },
      "execution_count": null,
      "outputs": []
    },
    {
      "cell_type": "code",
      "source": [
        "sns.pairplot(data=data,hue=\"Type\")"
      ],
      "metadata": {
        "id": "lWBi7bbTEd_d"
      },
      "execution_count": null,
      "outputs": []
    },
    {
      "cell_type": "code",
      "source": [
        "sns.scatterplot(x=\"hair\",y=\"Type\",data=data)#normally hair present is in type 1 and 6"
      ],
      "metadata": {
        "id": "9xH_PS62EjhS"
      },
      "execution_count": null,
      "outputs": []
    },
    {
      "cell_type": "code",
      "source": [
        "sns.scatterplot(x=\"feathers\",y=\"Type\",data=data)"
      ],
      "metadata": {
        "id": "3DyQYpbEGXUQ"
      },
      "execution_count": null,
      "outputs": []
    },
    {
      "cell_type": "code",
      "source": [
        "sns.barplot(x=\"milk\",y=\"Type\",data=data)#maximum animal doesn't produce milk"
      ],
      "metadata": {
        "id": "Uo5dQ2J7G16V"
      },
      "execution_count": null,
      "outputs": []
    },
    {
      "cell_type": "code",
      "source": [
        "sns.scatterplot(x=\"toothed\",y=\"Type\",data=data)"
      ],
      "metadata": {
        "id": "BovKv_mgHEyr"
      },
      "execution_count": null,
      "outputs": []
    },
    {
      "cell_type": "code",
      "source": [
        "sns.scatterplot(x=\"backbone\",y=\"Type\",data=data)#only type 6 and 7 has no backbone."
      ],
      "metadata": {
        "id": "WSrNKitEHbB_"
      },
      "execution_count": null,
      "outputs": []
    },
    {
      "cell_type": "code",
      "source": [
        "sns.scatterplot(x=\"breathes\",y=\"Type\",data=data)#almost cover all animal."
      ],
      "metadata": {
        "id": "e-kL9ZYfHwXT"
      },
      "execution_count": null,
      "outputs": []
    },
    {
      "cell_type": "code",
      "source": [
        "sns.scatterplot(x=\"venomous\",y=\"Type\",data=data)#most of animal is venomous"
      ],
      "metadata": {
        "id": "j24OhmvaHxHM"
      },
      "execution_count": null,
      "outputs": []
    },
    {
      "cell_type": "code",
      "source": [
        "# from above all plot we can see that all columns/features are important."
      ],
      "metadata": {
        "id": "T6K5Jk3VIDxc"
      },
      "execution_count": null,
      "outputs": []
    },
    {
      "cell_type": "code",
      "source": [
        "#spliting datasets into dependent and independent.\n",
        "X=data.iloc[:,0:16]\n",
        "Y=data.iloc[:,16]"
      ],
      "metadata": {
        "id": "zwtWJP2hwjtq"
      },
      "execution_count": null,
      "outputs": []
    },
    {
      "cell_type": "code",
      "source": [
        "knn=KNeighborsClassifier(n_neighbors=5)\n",
        "model=knn.fit(X,Y)\n",
        "ypred=model.predict(X)"
      ],
      "metadata": {
        "id": "5FUJ634exJhF"
      },
      "execution_count": null,
      "outputs": []
    },
    {
      "cell_type": "code",
      "source": [
        "model.score(X,Y)# we have 95% accuracy"
      ],
      "metadata": {
        "id": "Kgr3HOG8yxYo"
      },
      "execution_count": null,
      "outputs": []
    },
    {
      "cell_type": "code",
      "source": [
        "# by using test train method\n",
        "xtrain,xtest,ytrain,ytest=train_test_split(X,Y,train_size=0.8,random_state=40)\n"
      ],
      "metadata": {
        "id": "8CHnu53uxYkn"
      },
      "execution_count": null,
      "outputs": []
    },
    {
      "cell_type": "code",
      "source": [
        "ypred1=model.predict(xtest)\n",
        "model.score(xtest,ytest)"
      ],
      "metadata": {
        "id": "51dVWu3HydRH"
      },
      "execution_count": null,
      "outputs": []
    },
    {
      "cell_type": "code",
      "source": [
        "print(classification_report(ytest,ypred1))"
      ],
      "metadata": {
        "id": "ylIP_qAuzfHD"
      },
      "execution_count": null,
      "outputs": []
    },
    {
      "cell_type": "code",
      "source": [
        "#finding the accuracy by kfold"
      ],
      "metadata": {
        "id": "T4xiOPqd47cx"
      },
      "execution_count": null,
      "outputs": []
    },
    {
      "cell_type": "code",
      "source": [
        "kfold1=KFold(n_splits=10)\n",
        "model1=KNeighborsClassifier(n_neighbors=1)\n",
        "result=cross_val_score(model1,X,Y,cv=kfold1)\n",
        "result.mean()"
      ],
      "metadata": {
        "id": "51wHRyHA47QW"
      },
      "execution_count": null,
      "outputs": []
    },
    {
      "cell_type": "code",
      "source": [
        "#find the optimum value of K"
      ],
      "metadata": {
        "id": "HVpAVhf50a5v"
      },
      "execution_count": null,
      "outputs": []
    },
    {
      "cell_type": "code",
      "source": [
        "n_neighbors = np.array(range(1,40))\n",
        "param_grid = dict(n_neighbors=n_neighbors)"
      ],
      "metadata": {
        "id": "bOM1kq2B1grl"
      },
      "execution_count": null,
      "outputs": []
    },
    {
      "cell_type": "code",
      "source": [
        "param_gird=range(1,41)\n",
        "gd=GridSearchCV(estimator=KNeighborsClassifier(),param_grid=param_grid).fit(X,Y)\n"
      ],
      "metadata": {
        "id": "7Jtru-o-0ljp"
      },
      "execution_count": null,
      "outputs": []
    },
    {
      "cell_type": "code",
      "source": [
        "print(gd.best_score_)\n",
        "print(gd.best_params_)"
      ],
      "metadata": {
        "id": "8yDTrZP11Em_"
      },
      "execution_count": null,
      "outputs": []
    },
    {
      "cell_type": "code",
      "source": [
        "\n",
        "k_range=range(1,41)\n",
        "k_score=[]\n",
        "for i in range(1,41):\n",
        "  kfold=KFold(n_splits=5)\n",
        "  model2=KNeighborsClassifier(n_neighbors=i)\n",
        "  score=cross_val_score(model2,X,Y,cv=kfold)\n",
        "  k_score.append(score.mean())\n"
      ],
      "metadata": {
        "id": "4oqZg_HO2V5y"
      },
      "execution_count": null,
      "outputs": []
    },
    {
      "cell_type": "code",
      "source": [
        "plt.plot(k_range,k_score)#optimum value is k=1\n"
      ],
      "metadata": {
        "id": "VHuQ9bHL4CIM"
      },
      "execution_count": null,
      "outputs": []
    },
    {
      "cell_type": "code",
      "source": [
        ""
      ],
      "metadata": {
        "id": "W46HtQoxFaJZ"
      },
      "execution_count": null,
      "outputs": []
    }
  ]
}