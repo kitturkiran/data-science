{
 "cells": [
  {
   "cell_type": "code",
   "execution_count": 1,
   "id": "7b452cbb",
   "metadata": {},
   "outputs": [],
   "source": [
    "import pandas as pd\n"
   ]
  },
  {
   "cell_type": "code",
   "execution_count": 2,
   "id": "87f97d25",
   "metadata": {},
   "outputs": [
    {
     "name": "stderr",
     "output_type": "stream",
     "text": [
      "C:\\Users\\kittu\\AppData\\Local\\Temp\\ipykernel_20012\\1341327118.py:1: DtypeWarning: Columns (3) have mixed types. Specify dtype option on import or set low_memory=False.\n",
      "  book=pd.read_csv(r\"C:\\Users\\kittu\\OneDrive\\Documents\\project_dataset\\Books.csv\")\n"
     ]
    }
   ],
   "source": [
    "book=pd.read_csv(r\"C:\\Users\\kittu\\OneDrive\\Documents\\project_dataset\\Books.csv\")"
   ]
  },
  {
   "cell_type": "code",
   "execution_count": 3,
   "id": "47ab5053",
   "metadata": {},
   "outputs": [
    {
     "name": "stderr",
     "output_type": "stream",
     "text": [
      "WARNING: You are using pip version 21.1.1; however, version 22.2.2 is available.\n",
      "You should consider upgrading via the 'c:\\users\\kittu\\appdata\\local\\programs\\python\\python38\\python.exe -m pip install --upgrade pip' command.\n"
     ]
    },
    {
     "name": "stdout",
     "output_type": "stream",
     "text": [
      "Requirement already satisfied: matplotlib in c:\\users\\kittu\\appdata\\local\\programs\\python\\python38\\lib\\site-packages (3.5.3)\n",
      "Requirement already satisfied: kiwisolver>=1.0.1 in c:\\users\\kittu\\appdata\\local\\programs\\python\\python38\\lib\\site-packages (from matplotlib) (1.4.4)\n",
      "Requirement already satisfied: pillow>=6.2.0 in c:\\users\\kittu\\appdata\\local\\programs\\python\\python38\\lib\\site-packages (from matplotlib) (9.2.0)\n",
      "Requirement already satisfied: packaging>=20.0 in c:\\users\\kittu\\appdata\\local\\programs\\python\\python38\\lib\\site-packages (from matplotlib) (21.3)\n",
      "Requirement already satisfied: fonttools>=4.22.0 in c:\\users\\kittu\\appdata\\local\\programs\\python\\python38\\lib\\site-packages (from matplotlib) (4.37.1)\n",
      "Requirement already satisfied: cycler>=0.10 in c:\\users\\kittu\\appdata\\local\\programs\\python\\python38\\lib\\site-packages (from matplotlib) (0.11.0)\n",
      "Requirement already satisfied: python-dateutil>=2.7 in c:\\users\\kittu\\appdata\\local\\programs\\python\\python38\\lib\\site-packages (from matplotlib) (2.8.2)\n",
      "Requirement already satisfied: numpy>=1.17 in c:\\users\\kittu\\appdata\\local\\programs\\python\\python38\\lib\\site-packages (from matplotlib) (1.23.2)\n",
      "Requirement already satisfied: pyparsing>=2.2.1 in c:\\users\\kittu\\appdata\\local\\programs\\python\\python38\\lib\\site-packages (from matplotlib) (3.0.9)\n",
      "Requirement already satisfied: six>=1.5 in c:\\users\\kittu\\appdata\\local\\programs\\python\\python38\\lib\\site-packages (from python-dateutil>=2.7->matplotlib) (1.16.0)\n"
     ]
    }
   ],
   "source": [
    "!pip install matplotlib\n",
    "import pandas as pd\n",
    "import numpy as np\n",
    "from matplotlib import pyplot as plt"
   ]
  },
  {
   "cell_type": "raw",
   "id": "c88e84ee",
   "metadata": {},
   "source": [
    "\n",
    "## Replacing Invalid years with max year\n",
    "from collections import Counter\n",
    "count = Counter(book['Year-Of-Publication'])\n",
    "[k for k, v in count.items() if v == max(count.values())]"
   ]
  },
  {
   "cell_type": "code",
   "execution_count": 4,
   "id": "5c7da02f",
   "metadata": {},
   "outputs": [
    {
     "name": "stderr",
     "output_type": "stream",
     "text": [
      "C:\\Users\\kittu\\AppData\\Local\\Temp\\ipykernel_20012\\3652881321.py:1: FutureWarning: Passing a negative integer is deprecated in version 1.0 and will not be supported in future version. Instead, use None to not limit the column width.\n",
      "  pd.set_option('display.max_colwidth', -1)\n"
     ]
    }
   ],
   "source": [
    "pd.set_option('display.max_colwidth', -1)"
   ]
  },
  {
   "cell_type": "code",
   "execution_count": 5,
   "id": "a4b186de",
   "metadata": {},
   "outputs": [
    {
     "data": {
      "text/plain": [
       "[2002]"
      ]
     },
     "execution_count": 5,
     "metadata": {},
     "output_type": "execute_result"
    }
   ],
   "source": [
    "\n",
    "## Replacing Invalid years with max year\n",
    "from collections import Counter\n",
    "count = Counter(book['Year-Of-Publication'])\n",
    "[k for k, v in count.items() if v == max(count.values())]"
   ]
  },
  {
   "cell_type": "code",
   "execution_count": 6,
   "id": "f14a26bb",
   "metadata": {},
   "outputs": [],
   "source": [
    "\n",
    "book.loc[book.ISBN == '0789466953','Year-Of-Publication'] = 2000\n",
    "book.loc[book.ISBN == '0789466953','Book-Author'] = \"James Buckley\"\n",
    "book.loc[book.ISBN == '0789466953','Publisher'] = \"DK Publishing Inc\"\n",
    "book.loc[book.ISBN == '0789466953','Book-Title'] = \"DK Readers: Creating the X-Men, How Comic Book...\t\""
   ]
  },
  {
   "cell_type": "code",
   "execution_count": 7,
   "id": "468faef9",
   "metadata": {},
   "outputs": [],
   "source": [
    "\n",
    "\n",
    "book.loc[book.ISBN == '078946697X','Year-Of-Publication'] = 2000\n",
    "book.loc[book.ISBN == '078946697X','Book-Author'] = \"JMichael Teitelbaum\"\n",
    "book.loc[book.ISBN == '078946697X','Publisher'] = \"DK Publishing Inc\"\n",
    "book.loc[book.ISBN == '078946697X','Book-Title'] = \"DK Readers: Creating the X-Men, How It All Beg...\""
   ]
  },
  {
   "cell_type": "code",
   "execution_count": 8,
   "id": "b5d6ea5c",
   "metadata": {},
   "outputs": [],
   "source": [
    "\n",
    "book.loc[book.ISBN == '2070426769','Year-Of-Publication'] = 2003\n",
    "book.loc[book.ISBN == '2070426769','Book-Author'] = \"Jean-Marie Gustave Le ClÃ?Â©zio\"\n",
    "book.loc[book.ISBN == '2070426769','Publisher'] = \"Gallimard\"\n",
    "book.loc[book.ISBN == '2070426769','Book-Title'] = \"Peuple du ciel, suivi de Les Bergers\""
   ]
  },
  {
   "cell_type": "code",
   "execution_count": 9,
   "id": "3ff709da",
   "metadata": {},
   "outputs": [],
   "source": [
    "## Converting year of publication in Numbers\n",
    "book['Year-Of-Publication'] = book['Year-Of-Publication'].astype(int)"
   ]
  },
  {
   "cell_type": "code",
   "execution_count": 10,
   "id": "0f121193",
   "metadata": {},
   "outputs": [],
   "source": [
    "book.loc[book['Year-Of-Publication'] > 2021, 'Year-Of-Publication'] = 2000\n",
    "book.loc[book['Year-Of-Publication'] == 0, 'Year-Of-Publication'] = 2000"
   ]
  },
  {
   "cell_type": "code",
   "execution_count": 11,
   "id": "8320a739",
   "metadata": {},
   "outputs": [],
   "source": [
    "User=pd.read_csv(r\"C:\\Users\\kittu\\OneDrive\\Documents\\Users.csv\")"
   ]
  },
  {
   "cell_type": "code",
   "execution_count": 12,
   "id": "8d027cf5",
   "metadata": {},
   "outputs": [],
   "source": [
    "User[\"country\"]=User.Location.str.split(\",\",expand=True)[2]"
   ]
  },
  {
   "cell_type": "code",
   "execution_count": 13,
   "id": "b3570f23",
   "metadata": {},
   "outputs": [],
   "source": [
    "User=User.drop([\"Location\"],axis=1)"
   ]
  },
  {
   "cell_type": "code",
   "execution_count": 14,
   "id": "b1f5d3e7",
   "metadata": {},
   "outputs": [],
   "source": [
    "\n",
    "User.loc[User[\"Age\"]>100,\"Age\"]=np.NaN\n",
    "User.loc[User[\"Age\"]<6,\"Age\"]=np.NaN"
   ]
  },
  {
   "cell_type": "code",
   "execution_count": 15,
   "id": "c3d4bddb",
   "metadata": {},
   "outputs": [],
   "source": [
    "\n",
    "User[\"Age\"].fillna(30,inplace = True)"
   ]
  },
  {
   "cell_type": "code",
   "execution_count": 16,
   "id": "e279d01f",
   "metadata": {},
   "outputs": [],
   "source": [
    "\n",
    "User[\"Age\"]=User[\"Age\"].astype(int)"
   ]
  },
  {
   "cell_type": "code",
   "execution_count": 17,
   "id": "bd250744",
   "metadata": {},
   "outputs": [
    {
     "data": {
      "text/html": [
       "<div>\n",
       "<style scoped>\n",
       "    .dataframe tbody tr th:only-of-type {\n",
       "        vertical-align: middle;\n",
       "    }\n",
       "\n",
       "    .dataframe tbody tr th {\n",
       "        vertical-align: top;\n",
       "    }\n",
       "\n",
       "    .dataframe thead th {\n",
       "        text-align: right;\n",
       "    }\n",
       "</style>\n",
       "<table border=\"1\" class=\"dataframe\">\n",
       "  <thead>\n",
       "    <tr style=\"text-align: right;\">\n",
       "      <th></th>\n",
       "      <th>User-ID</th>\n",
       "      <th>Age</th>\n",
       "      <th>country</th>\n",
       "    </tr>\n",
       "  </thead>\n",
       "  <tbody>\n",
       "    <tr>\n",
       "      <th>0</th>\n",
       "      <td>1</td>\n",
       "      <td>30</td>\n",
       "      <td>usa</td>\n",
       "    </tr>\n",
       "    <tr>\n",
       "      <th>1</th>\n",
       "      <td>2</td>\n",
       "      <td>18</td>\n",
       "      <td>usa</td>\n",
       "    </tr>\n",
       "    <tr>\n",
       "      <th>2</th>\n",
       "      <td>3</td>\n",
       "      <td>30</td>\n",
       "      <td>russia</td>\n",
       "    </tr>\n",
       "    <tr>\n",
       "      <th>3</th>\n",
       "      <td>4</td>\n",
       "      <td>17</td>\n",
       "      <td>portugal</td>\n",
       "    </tr>\n",
       "    <tr>\n",
       "      <th>4</th>\n",
       "      <td>5</td>\n",
       "      <td>30</td>\n",
       "      <td>united kingdom</td>\n",
       "    </tr>\n",
       "    <tr>\n",
       "      <th>...</th>\n",
       "      <td>...</td>\n",
       "      <td>...</td>\n",
       "      <td>...</td>\n",
       "    </tr>\n",
       "    <tr>\n",
       "      <th>278853</th>\n",
       "      <td>278854</td>\n",
       "      <td>30</td>\n",
       "      <td>usa</td>\n",
       "    </tr>\n",
       "    <tr>\n",
       "      <th>278854</th>\n",
       "      <td>278855</td>\n",
       "      <td>50</td>\n",
       "      <td>united kingdom</td>\n",
       "    </tr>\n",
       "    <tr>\n",
       "      <th>278855</th>\n",
       "      <td>278856</td>\n",
       "      <td>30</td>\n",
       "      <td>canada</td>\n",
       "    </tr>\n",
       "    <tr>\n",
       "      <th>278856</th>\n",
       "      <td>278857</td>\n",
       "      <td>30</td>\n",
       "      <td>usa</td>\n",
       "    </tr>\n",
       "    <tr>\n",
       "      <th>278857</th>\n",
       "      <td>278858</td>\n",
       "      <td>30</td>\n",
       "      <td>ireland</td>\n",
       "    </tr>\n",
       "  </tbody>\n",
       "</table>\n",
       "<p>278856 rows × 3 columns</p>\n",
       "</div>"
      ],
      "text/plain": [
       "        User-ID  Age          country\n",
       "0       1        30    usa           \n",
       "1       2        18    usa           \n",
       "2       3        30    russia        \n",
       "3       4        17    portugal      \n",
       "4       5        30    united kingdom\n",
       "...    ..        ..               ...\n",
       "278853  278854   30    usa           \n",
       "278854  278855   50    united kingdom\n",
       "278855  278856   30    canada        \n",
       "278856  278857   30    usa           \n",
       "278857  278858   30    ireland       \n",
       "\n",
       "[278856 rows x 3 columns]"
      ]
     },
     "execution_count": 17,
     "metadata": {},
     "output_type": "execute_result"
    }
   ],
   "source": [
    "User.dropna()#there are only two null value in country therefore droping it"
   ]
  },
  {
   "cell_type": "code",
   "execution_count": 18,
   "id": "a0e9265d",
   "metadata": {},
   "outputs": [],
   "source": [
    "rating=pd.read_csv(r\"C:\\Users\\kittu\\OneDrive\\Documents\\Ratings.csv\")"
   ]
  },
  {
   "cell_type": "code",
   "execution_count": 19,
   "id": "379644c7",
   "metadata": {},
   "outputs": [],
   "source": [
    "import re\n",
    "## removing extra characters from ISBN (from ratings dataset) existing in books dataset\n",
    "bookISBN = book['ISBN'].tolist() \n",
    "reg = \"[^A-Za-z0-9]\" \n",
    "for index, row_Value in rating.iterrows():\n",
    "    z = re.search(reg, row_Value['ISBN'])    \n",
    "    if z:\n",
    "        f = re.sub(reg,\"\",row_Value['ISBN'])\n",
    "        if f in bookISBN:\n",
    "            rating.at[index , 'ISBN'] = f"
   ]
  },
  {
   "cell_type": "code",
   "execution_count": 20,
   "id": "ec8e84c5",
   "metadata": {},
   "outputs": [
    {
     "name": "stdout",
     "output_type": "stream",
     "text": [
      "<class 'pandas.core.frame.DataFrame'>\n",
      "Int64Index: 1031476 entries, 0 to 1031475\n",
      "Data columns (total 12 columns):\n",
      " #   Column               Non-Null Count    Dtype \n",
      "---  ------               --------------    ----- \n",
      " 0   ISBN                 1031476 non-null  object\n",
      " 1   Book-Title           1031476 non-null  object\n",
      " 2   Book-Author          1031475 non-null  object\n",
      " 3   Year-Of-Publication  1031476 non-null  int32 \n",
      " 4   Publisher            1031474 non-null  object\n",
      " 5   Image-URL-S          1031476 non-null  object\n",
      " 6   Image-URL-M          1031476 non-null  object\n",
      " 7   Image-URL-L          1031472 non-null  object\n",
      " 8   User-ID              1031476 non-null  int64 \n",
      " 9   Book-Rating          1031476 non-null  int64 \n",
      " 10  Age                  1031476 non-null  int32 \n",
      " 11  country              1031476 non-null  object\n",
      "dtypes: int32(2), int64(2), object(8)\n",
      "memory usage: 94.4+ MB\n"
     ]
    }
   ],
   "source": [
    "\n",
    "# merging all data sets\n",
    "dataset = pd.merge(book, rating, on='ISBN', how='inner')\n",
    "dataset = pd.merge(dataset, User, on='User-ID', how='inner')\n",
    "dataset.info()"
   ]
  },
  {
   "cell_type": "code",
   "execution_count": 21,
   "id": "af47476c",
   "metadata": {},
   "outputs": [],
   "source": [
    "p = {}\n",
    "for year in book['Year-Of-Publication']:\n",
    "    if str(year) not in p:\n",
    "        p[str(year)] = 0\n",
    "    p[str(year)] +=1\n",
    "\n",
    "p = {k:v for k, v in sorted(p.items())}"
   ]
  },
  {
   "cell_type": "code",
   "execution_count": 22,
   "id": "fcc5e1c9",
   "metadata": {},
   "outputs": [],
   "source": [
    "#popular based \n",
    "def popularity_based(dataframe, n):\n",
    "    if n >= 1 and n <= len(dataframe):\n",
    "        data = pd.DataFrame(dataframe.groupby('ISBN')['Book-Rating'].count()).sort_values('Book-Rating', ascending=False).head(n)\n",
    "        data1=pd.DataFrame(dataframe.groupby('ISBN')['Book-Rating'].unique())\n",
    "        data2=pd.merge(data,data1, on='ISBN')\n",
    "        result = pd.merge(data2, book, on='ISBN', left_index = False)\n",
    "        return result\n",
    "    return \"Invalid number of books entered!!\""
   ]
  },
  {
   "cell_type": "code",
   "execution_count": 23,
   "id": "8cfd1495",
   "metadata": {},
   "outputs": [
    {
     "name": "stdout",
     "output_type": "stream",
     "text": [
      "Enter number of books to recommend: 5\n"
     ]
    }
   ],
   "source": [
    "\n",
    "\n",
    "number = int(input(\"Enter number of books to recommend: \"))"
   ]
  },
  {
   "cell_type": "code",
   "execution_count": 24,
   "id": "05ac1e2d",
   "metadata": {},
   "outputs": [],
   "source": [
    "\n",
    "dataset1=dataset[dataset[\"Book-Rating\"]>8]"
   ]
  },
  {
   "cell_type": "code",
   "execution_count": 25,
   "id": "57a73df2",
   "metadata": {},
   "outputs": [
    {
     "name": "stdout",
     "output_type": "stream",
     "text": [
      "Top 5 Popular books are: \n"
     ]
    },
    {
     "data": {
      "text/html": [
       "<div>\n",
       "<style scoped>\n",
       "    .dataframe tbody tr th:only-of-type {\n",
       "        vertical-align: middle;\n",
       "    }\n",
       "\n",
       "    .dataframe tbody tr th {\n",
       "        vertical-align: top;\n",
       "    }\n",
       "\n",
       "    .dataframe thead th {\n",
       "        text-align: right;\n",
       "    }\n",
       "</style>\n",
       "<table border=\"1\" class=\"dataframe\">\n",
       "  <thead>\n",
       "    <tr style=\"text-align: right;\">\n",
       "      <th></th>\n",
       "      <th>ISBN</th>\n",
       "      <th>Book-Rating_x</th>\n",
       "      <th>Book-Rating_y</th>\n",
       "      <th>Book-Title</th>\n",
       "      <th>Book-Author</th>\n",
       "      <th>Year-Of-Publication</th>\n",
       "      <th>Publisher</th>\n",
       "      <th>Image-URL-S</th>\n",
       "      <th>Image-URL-M</th>\n",
       "      <th>Image-URL-L</th>\n",
       "    </tr>\n",
       "  </thead>\n",
       "  <tbody>\n",
       "    <tr>\n",
       "      <th>0</th>\n",
       "      <td>0316666343</td>\n",
       "      <td>327</td>\n",
       "      <td>[10, 9]</td>\n",
       "      <td>The Lovely Bones: A Novel</td>\n",
       "      <td>Alice Sebold</td>\n",
       "      <td>2002</td>\n",
       "      <td>Little, Brown</td>\n",
       "      <td>http://images.amazon.com/images/P/0316666343.01.THUMBZZZ.jpg</td>\n",
       "      <td>http://images.amazon.com/images/P/0316666343.01.MZZZZZZZ.jpg</td>\n",
       "      <td>http://images.amazon.com/images/P/0316666343.01.LZZZZZZZ.jpg</td>\n",
       "    </tr>\n",
       "    <tr>\n",
       "      <th>1</th>\n",
       "      <td>0385504209</td>\n",
       "      <td>286</td>\n",
       "      <td>[9, 10]</td>\n",
       "      <td>The Da Vinci Code</td>\n",
       "      <td>Dan Brown</td>\n",
       "      <td>2003</td>\n",
       "      <td>Doubleday</td>\n",
       "      <td>http://images.amazon.com/images/P/0385504209.01.THUMBZZZ.jpg</td>\n",
       "      <td>http://images.amazon.com/images/P/0385504209.01.MZZZZZZZ.jpg</td>\n",
       "      <td>http://images.amazon.com/images/P/0385504209.01.LZZZZZZZ.jpg</td>\n",
       "    </tr>\n",
       "    <tr>\n",
       "      <th>2</th>\n",
       "      <td>059035342X</td>\n",
       "      <td>217</td>\n",
       "      <td>[10, 9]</td>\n",
       "      <td>Harry Potter and the Sorcerer's Stone (Harry Potter (Paperback))</td>\n",
       "      <td>J. K. Rowling</td>\n",
       "      <td>1999</td>\n",
       "      <td>Arthur A. Levine Books</td>\n",
       "      <td>http://images.amazon.com/images/P/059035342X.01.THUMBZZZ.jpg</td>\n",
       "      <td>http://images.amazon.com/images/P/059035342X.01.MZZZZZZZ.jpg</td>\n",
       "      <td>http://images.amazon.com/images/P/059035342X.01.LZZZZZZZ.jpg</td>\n",
       "    </tr>\n",
       "    <tr>\n",
       "      <th>3</th>\n",
       "      <td>0312195516</td>\n",
       "      <td>201</td>\n",
       "      <td>[10, 9]</td>\n",
       "      <td>The Red Tent (Bestselling Backlist)</td>\n",
       "      <td>Anita Diamant</td>\n",
       "      <td>1998</td>\n",
       "      <td>Picador USA</td>\n",
       "      <td>http://images.amazon.com/images/P/0312195516.01.THUMBZZZ.jpg</td>\n",
       "      <td>http://images.amazon.com/images/P/0312195516.01.MZZZZZZZ.jpg</td>\n",
       "      <td>http://images.amazon.com/images/P/0312195516.01.LZZZZZZZ.jpg</td>\n",
       "    </tr>\n",
       "    <tr>\n",
       "      <th>4</th>\n",
       "      <td>0142001740</td>\n",
       "      <td>176</td>\n",
       "      <td>[9, 10]</td>\n",
       "      <td>The Secret Life of Bees</td>\n",
       "      <td>Sue Monk Kidd</td>\n",
       "      <td>2003</td>\n",
       "      <td>Penguin Books</td>\n",
       "      <td>http://images.amazon.com/images/P/0142001740.01.THUMBZZZ.jpg</td>\n",
       "      <td>http://images.amazon.com/images/P/0142001740.01.MZZZZZZZ.jpg</td>\n",
       "      <td>http://images.amazon.com/images/P/0142001740.01.LZZZZZZZ.jpg</td>\n",
       "    </tr>\n",
       "  </tbody>\n",
       "</table>\n",
       "</div>"
      ],
      "text/plain": [
       "         ISBN  Book-Rating_x Book-Rating_y  \\\n",
       "0  0316666343  327            [10, 9]        \n",
       "1  0385504209  286            [9, 10]        \n",
       "2  059035342X  217            [10, 9]        \n",
       "3  0312195516  201            [10, 9]        \n",
       "4  0142001740  176            [9, 10]        \n",
       "\n",
       "                                                         Book-Title  \\\n",
       "0  The Lovely Bones: A Novel                                          \n",
       "1  The Da Vinci Code                                                  \n",
       "2  Harry Potter and the Sorcerer's Stone (Harry Potter (Paperback))   \n",
       "3  The Red Tent (Bestselling Backlist)                                \n",
       "4  The Secret Life of Bees                                            \n",
       "\n",
       "     Book-Author  Year-Of-Publication               Publisher  \\\n",
       "0  Alice Sebold   2002                 Little, Brown            \n",
       "1  Dan Brown      2003                 Doubleday                \n",
       "2  J. K. Rowling  1999                 Arthur A. Levine Books   \n",
       "3  Anita Diamant  1998                 Picador USA              \n",
       "4  Sue Monk Kidd  2003                 Penguin Books            \n",
       "\n",
       "                                                    Image-URL-S  \\\n",
       "0  http://images.amazon.com/images/P/0316666343.01.THUMBZZZ.jpg   \n",
       "1  http://images.amazon.com/images/P/0385504209.01.THUMBZZZ.jpg   \n",
       "2  http://images.amazon.com/images/P/059035342X.01.THUMBZZZ.jpg   \n",
       "3  http://images.amazon.com/images/P/0312195516.01.THUMBZZZ.jpg   \n",
       "4  http://images.amazon.com/images/P/0142001740.01.THUMBZZZ.jpg   \n",
       "\n",
       "                                                    Image-URL-M  \\\n",
       "0  http://images.amazon.com/images/P/0316666343.01.MZZZZZZZ.jpg   \n",
       "1  http://images.amazon.com/images/P/0385504209.01.MZZZZZZZ.jpg   \n",
       "2  http://images.amazon.com/images/P/059035342X.01.MZZZZZZZ.jpg   \n",
       "3  http://images.amazon.com/images/P/0312195516.01.MZZZZZZZ.jpg   \n",
       "4  http://images.amazon.com/images/P/0142001740.01.MZZZZZZZ.jpg   \n",
       "\n",
       "                                                    Image-URL-L  \n",
       "0  http://images.amazon.com/images/P/0316666343.01.LZZZZZZZ.jpg  \n",
       "1  http://images.amazon.com/images/P/0385504209.01.LZZZZZZZ.jpg  \n",
       "2  http://images.amazon.com/images/P/059035342X.01.LZZZZZZZ.jpg  \n",
       "3  http://images.amazon.com/images/P/0312195516.01.LZZZZZZZ.jpg  \n",
       "4  http://images.amazon.com/images/P/0142001740.01.LZZZZZZZ.jpg  "
      ]
     },
     "execution_count": 25,
     "metadata": {},
     "output_type": "execute_result"
    }
   ],
   "source": [
    "print(\"Top\", number, \"Popular books are: \")\n",
    "popularity_based(dataset1,5)"
   ]
  },
  {
   "cell_type": "code",
   "execution_count": 26,
   "id": "f6b1c705",
   "metadata": {},
   "outputs": [
    {
     "name": "stdout",
     "output_type": "stream",
     "text": [
      "Requirement already satisfied: scipy in c:\\users\\kittu\\appdata\\local\\programs\\python\\python38\\lib\\site-packages (1.9.1)\n",
      "Requirement already satisfied: numpy<1.25.0,>=1.18.5 in c:\\users\\kittu\\appdata\\local\\programs\\python\\python38\\lib\\site-packages (from scipy) (1.23.2)\n"
     ]
    },
    {
     "name": "stderr",
     "output_type": "stream",
     "text": [
      "WARNING: You are using pip version 21.1.1; however, version 22.2.2 is available.\n",
      "You should consider upgrading via the 'c:\\users\\kittu\\appdata\\local\\programs\\python\\python38\\python.exe -m pip install --upgrade pip' command.\n",
      "WARNING: You are using pip version 21.1.1; however, version 22.2.2 is available.\n",
      "You should consider upgrading via the 'c:\\users\\kittu\\appdata\\local\\programs\\python\\python38\\python.exe -m pip install --upgrade pip' command.\n"
     ]
    },
    {
     "name": "stdout",
     "output_type": "stream",
     "text": [
      "Requirement already satisfied: sklearn in c:\\users\\kittu\\appdata\\local\\programs\\python\\python38\\lib\\site-packages (0.0)\n",
      "Requirement already satisfied: scikit-learn in c:\\users\\kittu\\appdata\\local\\programs\\python\\python38\\lib\\site-packages (from sklearn) (1.1.2)\n",
      "Requirement already satisfied: scipy>=1.3.2 in c:\\users\\kittu\\appdata\\local\\programs\\python\\python38\\lib\\site-packages (from scikit-learn->sklearn) (1.9.1)\n",
      "Requirement already satisfied: numpy>=1.17.3 in c:\\users\\kittu\\appdata\\local\\programs\\python\\python38\\lib\\site-packages (from scikit-learn->sklearn) (1.23.2)\n",
      "Requirement already satisfied: joblib>=1.0.0 in c:\\users\\kittu\\appdata\\local\\programs\\python\\python38\\lib\\site-packages (from scikit-learn->sklearn) (1.1.0)\n",
      "Requirement already satisfied: threadpoolctl>=2.0.0 in c:\\users\\kittu\\appdata\\local\\programs\\python\\python38\\lib\\site-packages (from scikit-learn->sklearn) (3.1.0)\n"
     ]
    }
   ],
   "source": [
    "popularity_threshold = 50\n",
    "!pip install scipy\n",
    "!pip install sklearn\n",
    "from scipy.sparse import csr_matrix\n",
    "from sklearn.neighbors import NearestNeighbors\n",
    "data = (dataset.groupby(by = ['Book-Title'])['Book-Rating'].count().reset_index().\n",
    "        rename(columns = {'Book-Rating': 'Total-Rating'}))\n",
    "\n",
    "result = pd.merge(data, dataset, on='Book-Title', left_index = False)\n",
    "result = result[result['Total-Rating'] >= popularity_threshold]\n",
    "result = result.reset_index(drop = True)\n",
    "\n",
    "matrix = result.pivot_table(index = 'Book-Title', columns = 'User-ID', values = 'Book-Rating').fillna(0)\n",
    "up_matrix = csr_matrix(matrix)"
   ]
  },
  {
   "cell_type": "code",
   "execution_count": 27,
   "id": "0b602cb9",
   "metadata": {},
   "outputs": [
    {
     "name": "stdout",
     "output_type": "stream",
     "text": [
      "Enter a book name: Harry Potter and the Prisoner of Azkaban (Book 3)\n",
      "\n",
      "Recommended books:\n",
      "\n",
      "Harry Potter and the Goblet of Fire (Book 4)\n",
      "Harry Potter and the Chamber of Secrets (Book 2)\n",
      "Harry Potter and the Sorcerer's Stone (Book 1)\n",
      "Harry Potter and the Order of the Phoenix (Book 5)\n",
      "Harry Potter and the Sorcerer's Stone (Harry Potter (Paperback))\n",
      "The Fellowship of the Ring (The Lord of the Rings, Part 1)\n",
      "The Two Towers (The Lord of the Rings, Part 2)\n",
      "Charlie and the Chocolate Factory\n",
      "The Return of the King (The Lord of the Rings, Part 3)\n"
     ]
    }
   ],
   "source": [
    "bookName = input(\"Enter a book name: \")\n",
    "model = NearestNeighbors(metric = 'cosine', algorithm = 'brute')\n",
    "model.fit(up_matrix)\n",
    "\n",
    "distances, indices = model.kneighbors(matrix.loc[bookName].values.reshape(1, -1), n_neighbors =10)\n",
    "print(\"\\nRecommended books:\\n\")\n",
    "for i in range(0, len(distances.flatten())):\n",
    "    if i > 0:\n",
    "        print(matrix.index[indices.flatten()[i]]) "
   ]
  },
  {
   "cell_type": "code",
   "execution_count": 28,
   "id": "8ec8408e",
   "metadata": {},
   "outputs": [],
   "source": [
    "import pickle\n",
    "pickle.dump(matrix,open(\"books.pk1\",\"wb\"))\n",
    "pickle.dump(model,open(\"model.pk1\",\"wb\"))\n",
    "pickle.dump(result,open(\"result.pk1\",\"wb\"))"
   ]
  },
  {
   "cell_type": "code",
   "execution_count": null,
   "id": "b60d7018",
   "metadata": {},
   "outputs": [],
   "source": []
  },
  {
   "cell_type": "code",
   "execution_count": null,
   "id": "08b90509",
   "metadata": {},
   "outputs": [],
   "source": []
  }
 ],
 "metadata": {
  "kernelspec": {
   "display_name": "Python 3 (ipykernel)",
   "language": "python",
   "name": "python3"
  },
  "language_info": {
   "codemirror_mode": {
    "name": "ipython",
    "version": 3
   },
   "file_extension": ".py",
   "mimetype": "text/x-python",
   "name": "python",
   "nbconvert_exporter": "python",
   "pygments_lexer": "ipython3",
   "version": "3.8.10"
  }
 },
 "nbformat": 4,
 "nbformat_minor": 5
}
