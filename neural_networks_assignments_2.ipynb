{
  "nbformat": 4,
  "nbformat_minor": 0,
  "metadata": {
    "colab": {
      "name": "neural networks assignments 2.ipynb",
      "provenance": [],
      "collapsed_sections": []
    },
    "kernelspec": {
      "name": "python3",
      "display_name": "Python 3"
    },
    "language_info": {
      "name": "python"
    }
  },
  "cells": [
    {
      "cell_type": "code",
      "execution_count": null,
      "metadata": {
        "id": "U8metx0VtEfF"
      },
      "outputs": [],
      "source": [
        "import pandas as pd\n",
        "import numpy as np\n",
        "import keras\n",
        "from sklearn.preprocessing import StandardScaler"
      ]
    },
    {
      "cell_type": "code",
      "source": [
        "data=pd.read_csv(\"forestfires.csv\")"
      ],
      "metadata": {
        "id": "o7BvBUX_tXle"
      },
      "execution_count": null,
      "outputs": []
    },
    {
      "cell_type": "code",
      "source": [
        "data.head()"
      ],
      "metadata": {
        "id": "oIBpiYjctpOf"
      },
      "execution_count": null,
      "outputs": []
    },
    {
      "cell_type": "code",
      "source": [
        "data.columns"
      ],
      "metadata": {
        "id": "Qq7SswyLtplu"
      },
      "execution_count": null,
      "outputs": []
    },
    {
      "cell_type": "code",
      "source": [
        "data.shape"
      ],
      "metadata": {
        "id": "V_P1X1F-PS9P"
      },
      "execution_count": null,
      "outputs": []
    },
    {
      "cell_type": "code",
      "source": [
        "data.info()"
      ],
      "metadata": {
        "id": "iGPefnR6PS5q"
      },
      "execution_count": null,
      "outputs": []
    },
    {
      "cell_type": "code",
      "source": [
        "data.isna().sum()#there are no null values."
      ],
      "metadata": {
        "id": "oXryTg3rPS3b"
      },
      "execution_count": null,
      "outputs": []
    },
    {
      "cell_type": "code",
      "source": [
        "data.corr()"
      ],
      "metadata": {
        "id": "sHPKf2hdPSxf"
      },
      "execution_count": null,
      "outputs": []
    },
    {
      "cell_type": "code",
      "source": [
        "data.describe()"
      ],
      "metadata": {
        "id": "pgfNUOOnPSt6"
      },
      "execution_count": null,
      "outputs": []
    },
    {
      "cell_type": "code",
      "source": [
        "import seaborn as sns\n",
        "import matplotlib.pyplot as plt"
      ],
      "metadata": {
        "id": "aX5DaDz2Ql9y"
      },
      "execution_count": null,
      "outputs": []
    },
    {
      "cell_type": "code",
      "source": [
        "plt.figure(figsize=(10,6))#in the month of augest and september there is fire in forest for small and large areas.\n",
        "sns.countplot(x = 'month', hue = 'size_category', data = data)"
      ],
      "metadata": {
        "id": "VhcoMzQIP2V2"
      },
      "execution_count": null,
      "outputs": []
    },
    {
      "cell_type": "code",
      "source": [
        "sns.histplot(x=\"FFMC\",bins=50,hue=\"size_category\",data=data)#wecan see that at higher FFMC we have small and large area fire burned."
      ],
      "metadata": {
        "id": "vnxHu5p8P2Sd"
      },
      "execution_count": null,
      "outputs": []
    },
    {
      "cell_type": "code",
      "source": [
        "sns.scatterplot(x ='temp',hue ='size_category', data = data)"
      ],
      "metadata": {
        "id": "24KmnT_bP1sO"
      },
      "execution_count": null,
      "outputs": []
    },
    {
      "cell_type": "code",
      "source": [
        "\n",
        "sns.countplot(x=\"rain\",hue=\"size_category\",data=data)#shows that if rain properly fire will catch less."
      ],
      "metadata": {
        "id": "7NVZT7xuQLzb"
      },
      "execution_count": null,
      "outputs": []
    },
    {
      "cell_type": "code",
      "source": [
        "sns.scatterplot(x=\"wind\",y=\"size_category\",data=data)# show that winds is less effect to catch fire."
      ],
      "metadata": {
        "id": "-zJBRQrIQLvy"
      },
      "execution_count": null,
      "outputs": []
    },
    {
      "cell_type": "code",
      "source": [
        "sns.scatterplot(x=\"area\",y=\"size_category\",data=data)# if forest is large that change of catching fire for large area is higher."
      ],
      "metadata": {
        "id": "zZji8TFgQLtl"
      },
      "execution_count": null,
      "outputs": []
    },
    {
      "cell_type": "code",
      "source": [
        "sns.histplot(x=\"DMC\",bins=50,hue=\"size_category\",data=data)"
      ],
      "metadata": {
        "id": "ComrvWd0QLrR"
      },
      "execution_count": null,
      "outputs": []
    },
    {
      "cell_type": "code",
      "source": [
        "\n",
        "sns.histplot(x=\"ISI\",bins=50,hue=\"size_category\",data=data)#If ISI content is less than there is large of proposition of catching the fire"
      ],
      "metadata": {
        "id": "n4vCZsm0Qd0v"
      },
      "execution_count": null,
      "outputs": []
    },
    {
      "cell_type": "code",
      "source": [
        "data1=data.iloc[:,0:11]"
      ],
      "metadata": {
        "id": "b2T7UpVjt7LG"
      },
      "execution_count": null,
      "outputs": []
    },
    {
      "cell_type": "code",
      "source": [
        "data1"
      ],
      "metadata": {
        "id": "Y8JqZE7-uMfk"
      },
      "execution_count": null,
      "outputs": []
    },
    {
      "cell_type": "code",
      "source": [
        "data_nam=data1[\"month\"]\n",
        "data_num1=data1[\"day\"]"
      ],
      "metadata": {
        "id": "59f27ahN2tU7"
      },
      "execution_count": null,
      "outputs": []
    },
    {
      "cell_type": "code",
      "source": [
        "standard_data=StandardScaler()\n",
        "data2=standard_data.fit_transform(data1.iloc[:,2:11])\n",
        "Standard=pd.DataFrame(data2)\n"
      ],
      "metadata": {
        "id": "WP-xiZoAz_ol"
      },
      "execution_count": null,
      "outputs": []
    },
    {
      "cell_type": "code",
      "source": [
        "Standard[\"month\"]=data_nam\n",
        "Standard[\"day\"]=data_num1"
      ],
      "metadata": {
        "id": "gsp7Y38X13fF"
      },
      "execution_count": null,
      "outputs": []
    },
    {
      "cell_type": "code",
      "source": [
        "Standard"
      ],
      "metadata": {
        "id": "pQhNxHO53B71"
      },
      "execution_count": null,
      "outputs": []
    },
    {
      "cell_type": "code",
      "source": [
        "from sklearn.preprocessing import LabelEncoder\n",
        "label_encoder=LabelEncoder()"
      ],
      "metadata": {
        "id": "T_mpZdt_uM8g"
      },
      "execution_count": null,
      "outputs": []
    },
    {
      "cell_type": "code",
      "source": [
        "Standard['month']=label_encoder.fit_transform(data1['month'])\n",
        "Standard['day']=label_encoder.fit_transform(data1['day'])"
      ],
      "metadata": {
        "id": "uiEeEBuYuz9z"
      },
      "execution_count": null,
      "outputs": []
    },
    {
      "cell_type": "code",
      "source": [
        "Standard"
      ],
      "metadata": {
        "id": "FDJR4E-EzsKG"
      },
      "execution_count": null,
      "outputs": []
    },
    {
      "cell_type": "code",
      "source": [
        "Y_=data['size_category']"
      ],
      "metadata": {
        "id": "kpCfFS9e3bes"
      },
      "execution_count": null,
      "outputs": []
    },
    {
      "cell_type": "code",
      "source": [
        "Y=LabelEncoder().fit_transform(Y_) # 1 is assigned to small,0 is assigned to large\n",
        "X=Standard\n"
      ],
      "metadata": {
        "id": "3tpK5Nks3nkl"
      },
      "execution_count": null,
      "outputs": []
    },
    {
      "cell_type": "code",
      "source": [
        "#spliting into test and train\n",
        "from sklearn.model_selection import train_test_split\n",
        "xtrain,xtest,ytrain,ytest=train_test_split(X,Y,test_size=0.3,random_state=40)"
      ],
      "metadata": {
        "id": "qR_KQOa64NHN"
      },
      "execution_count": null,
      "outputs": []
    },
    {
      "cell_type": "code",
      "source": [
        "from keras.models import Sequential\n",
        "from keras.layers import Dense\n",
        "from tensorflow.keras.optimizers import Adam\n",
        "from keras.wrappers.scikit_learn import KerasClassifier\n",
        "from sklearn.model_selection import GridSearchCV,KFold"
      ],
      "metadata": {
        "id": "P9ODsTow7I5Y"
      },
      "execution_count": null,
      "outputs": []
    },
    {
      "cell_type": "code",
      "source": [
        "\n",
        "def create_model():\n",
        "  model =Sequential()\n",
        "  model.add(Dense(10,input_dim=11,activation=\"relu\"))\n",
        "  model.add(Dense(8,activation=\"relu\"))\n",
        "  model.add(Dense(8,activation=\"relu\"))\n",
        "\n",
        "  adam=Adam(lr=0.1)\n",
        "  model.compile(loss='binary_crossentropy',metrics=['accuracy'],optimizer=adam)\n",
        "  return model"
      ],
      "metadata": {
        "id": "AJ1AUOco4izN"
      },
      "execution_count": null,
      "outputs": []
    },
    {
      "cell_type": "code",
      "source": [
        "model=KerasClassifier(build_fn=create_model)\n",
        "batch_size=[40,60]\n",
        "epochs=[50,100]\n",
        "param_grids=dict(batch_size=batch_size,epochs=epochs)\n",
        "grid=GridSearchCV(estimator=model,param_grid=param_grids,cv=KFold(),verbose=10)\n",
        "grid_result=grid.fit(xtrain,ytrain)\n",
        "\n"
      ],
      "metadata": {
        "id": "YR2KyMLG8ikT"
      },
      "execution_count": null,
      "outputs": []
    },
    {
      "cell_type": "code",
      "source": [
        "print('best:{},using:{}'.format(grid_result.best_score_,grid_result.best_params_))\n",
        "mean=grid_result.cv_results_[\"mean_test_score\"]\n",
        "std=grid_result.cv_results_[\"std_test_score\"]\n",
        "params=grid_result.cv_results_[\"params\"]\n",
        "for mean,stdev,param in zip(mean,std,params):\n",
        "  print('{},{},with: {}'.format(mean, stdev, param))"
      ],
      "metadata": {
        "id": "3w7IEfCC92vf"
      },
      "execution_count": null,
      "outputs": []
    },
    {
      "cell_type": "code",
      "source": [
        "#tunning hyperparameter:learning_rate and dropout"
      ],
      "metadata": {
        "id": "bqoTHH9WoA7I"
      },
      "execution_count": null,
      "outputs": []
    },
    {
      "cell_type": "code",
      "source": [
        "def create_model1(learning_rate,dropout_rate):\n",
        "  model=Sequential()\n",
        "  model.add(Dense(10,input_dim=11,activation='relu'))\n",
        "  model.add(Dropout(dropout_rate))\n",
        "  model.add(Dense(8,activation='relu'))\n",
        "  model.add(Dropout(dropout_rate))\n",
        "  model.add(Dense(1,activation='relu'))\n",
        "\n",
        "  adam=Adam(lr=learning_rate)\n",
        "  model.compile(loss='binary_crossentropy',metrics=['accuracy'],optimizer=adam)\n",
        "  return model"
      ],
      "metadata": {
        "id": "06RRcbNHldVt"
      },
      "execution_count": null,
      "outputs": []
    },
    {
      "cell_type": "code",
      "source": [
        "from keras.layers import Dropout\n",
        "model=KerasClassifier(build_fn=create_model1,batch_size=40,epochs=100)\n",
        "learning_rate=[0.1,0.2,0.01]\n",
        "dropout_rate=[0.1,0.2,0.15]\n",
        "param_grids=dict(learning_rate=learning_rate,dropout_rate=dropout_rate)\n",
        "grid=GridSearchCV(estimator=model,param_grid=param_grids,cv=KFold(),verbose=10)\n",
        "grid.results=grid.fit(xtrain,ytrain)\n"
      ],
      "metadata": {
        "id": "kpSPAzpAoQ8f"
      },
      "execution_count": null,
      "outputs": []
    },
    {
      "cell_type": "code",
      "source": [
        "print('best:{},using:{}'.format(grid.results.best_score_,grid.results.best_params_))\n",
        "mean=grid.results.cv_results_[\"mean_test_score\"]\n",
        "std=grid.results.cv_results_[\"std_test_score\"]\n",
        "params=grid.results.cv_results_[\"params\"]\n",
        "for mean,stdev,param in zip(mean,std,params):\n",
        "  print('{},{},with: {}'.format(mean, stdev, param))"
      ],
      "metadata": {
        "id": "U9aCo_5mqMRt"
      },
      "execution_count": null,
      "outputs": []
    },
    {
      "cell_type": "code",
      "source": [
        "#tunning Kernel Initializer,activation_function"
      ],
      "metadata": {
        "id": "mmbvgzKkuTJj"
      },
      "execution_count": null,
      "outputs": []
    },
    {
      "cell_type": "code",
      "source": [
        "def create_model(init,activation_function):\n",
        "  model=Sequential()\n",
        "  model.add(Dense(10,input_dim=11,kernel_initializer=init,activation=activation_function))\n",
        "  model.add(Dropout(0.1))\n",
        "  model.add(Dense(8,kernel_initializer=init,activation=activation_function))\n",
        "  model.add(Dropout(0.2))\n",
        "  model.add(Dense(1,activation=activation_function))\n",
        "\n",
        "  adam=Adam(lr=0.2)\n",
        "  model.compile(loss='binary_crossentropy',metrics=['accuracy'],optimizer=adam)\n",
        "  return model\n"
      ],
      "metadata": {
        "id": "fs8lK8twDHRU"
      },
      "execution_count": null,
      "outputs": []
    },
    {
      "cell_type": "code",
      "source": [
        "model=KerasClassifier(build_fn=create_model,batch_size=40,epochs=100)\n",
        "\n",
        "activation_function = ['softmax','relu','tanh','linear']\n",
        "init = ['uniform','normal','zero']\n",
        "\n",
        "param_grids = dict(activation_function = activation_function,init=init)\n",
        "\n",
        "grid = GridSearchCV(estimator = model,param_grid =param_grids,cv = KFold(),verbose = 10)\n",
        "grid_result = grid.fit(xtrain,ytrain)"
      ],
      "metadata": {
        "id": "deke6WhmDeE2"
      },
      "execution_count": null,
      "outputs": []
    },
    {
      "cell_type": "code",
      "source": [
        "print('best:{},using:{}'.format(grid.result.best_score_,grid.result.best_params_))\n",
        "mean=grid.result.cv_results_[\"mean_test_score\"]\n",
        "std=grid.result.cv_results_[\"std_test_score\"]\n",
        "params=grid.result.cv_results_[\"params\"]\n",
        "for mean,stdev,param in zip(mean,std,params):\n",
        "  print('{},{},with: {}'.format(mean, stdev, param))"
      ],
      "metadata": {
        "id": "VnHEDKYiGy1U"
      },
      "execution_count": null,
      "outputs": []
    },
    {
      "cell_type": "code",
      "source": [
        "#Tuning of Hyperparameter :-Number of Neurons in activation layer"
      ],
      "metadata": {
        "id": "FyP9LZCXHxpv"
      },
      "execution_count": null,
      "outputs": []
    },
    {
      "cell_type": "code",
      "source": [
        "\n",
        "def create_model(neuron1,neuron2):\n",
        "    model = Sequential()\n",
        "    model.add(Dense(neuron1,input_dim = 11,kernel_initializer = 'uniform',activation = 'tanh'))\n",
        "    model.add(Dropout(0.1))\n",
        "    model.add(Dense(neuron2,input_dim = neuron1,kernel_initializer = 'uniform',activation = 'tanh'))\n",
        "    model.add(Dropout(0.1))\n",
        "    model.add(Dense(1,activation = 'sigmoid'))\n",
        "    \n",
        "    adam = Adam(lr = 0.001)\n",
        "    model.compile(loss = 'binary_crossentropy',optimizer = adam,metrics = ['accuracy'])\n",
        "    return model\n",
        "\n",
        "# Create the model\n",
        "\n",
        "model = KerasClassifier(build_fn = create_model,verbose = 0,batch_size = 40,epochs = 10)\n",
        "\n",
        "neuron1 = [4,8,16]\n",
        "neuron2 = [2,4,8]\n",
        "\n",
        "param_grids = dict(neuron1 = neuron1,neuron2 = neuron2)\n",
        "grid = GridSearchCV(estimator = model,param_grid = param_grids,cv = KFold(),verbose = 10)\n",
        "grid_result = grid.fit(xtrain,ytrain)"
      ],
      "metadata": {
        "id": "GL9lqyKjHxmM"
      },
      "execution_count": null,
      "outputs": []
    },
    {
      "cell_type": "code",
      "source": [
        "\n",
        "print('Best : {}, using {}'.format(grid_result.best_score_,grid_result.best_params_))\n",
        "means = grid_result.cv_results_['mean_test_score']\n",
        "stds = grid_result.cv_results_['std_test_score']\n",
        "params = grid_result.cv_results_['params']\n",
        "for mean, stdev, param in zip(means, stds, params):\n",
        "  print('{},{} with: {}'.format(mean, stdev, param))"
      ],
      "metadata": {
        "id": "ef_1VuKYKjF-"
      },
      "execution_count": null,
      "outputs": []
    },
    {
      "cell_type": "code",
      "source": [
        "#finding the accuacy score by best hyperparamater.\n",
        "from sklearn.metrics import classification_report, accuracy_score\n",
        "\n",
        "\n",
        "def create_model():\n",
        "    model = Sequential()\n",
        "    model.add(Dense(16,input_dim =11 ,kernel_initializer = 'uniform',activation = 'tanh'))\n",
        "    model.add(Dropout(0.1))\n",
        "    model.add(Dense(4,kernel_initializer = 'uniform',activation = 'tanh'))\n",
        "    model.add(Dropout(0.1))\n",
        "    model.add(Dense(1,activation = 'sigmoid'))\n",
        "    \n",
        "    adam = Adam(lr = 0.001) \n",
        "    model.compile(loss = 'binary_crossentropy',optimizer = adam,metrics = ['accuracy'])\n",
        "    return model\n",
        "\n",
        "\n",
        "model = KerasClassifier(build_fn = create_model,verbose = 0,batch_size = 40,epochs = 10)\n",
        "\n",
        "\n",
        "\n",
        "model.fit(xtrain,ytrain)\n",
        "\n",
        "\n",
        "\n",
        "y_predict = model.predict(xtest)\n",
        "\n",
        "# Printing the metrics\n",
        "print(accuracy_score(ytest,y_predict))"
      ],
      "metadata": {
        "id": "8TwtmovmIw_X"
      },
      "execution_count": null,
      "outputs": []
    },
    {
      "cell_type": "code",
      "source": [
        "#accuracy is 77.5"
      ],
      "metadata": {
        "id": "VIz08pbxLEdI"
      },
      "execution_count": null,
      "outputs": []
    },
    {
      "cell_type": "code",
      "source": [
        ""
      ],
      "metadata": {
        "id": "5v1d6RysO3oR"
      },
      "execution_count": null,
      "outputs": []
    }
  ]
}