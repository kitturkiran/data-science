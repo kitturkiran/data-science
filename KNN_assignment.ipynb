{
  "nbformat": 4,
  "nbformat_minor": 0,
  "metadata": {
    "colab": {
      "name": "KNN assignment.ipynb",
      "provenance": [],
      "collapsed_sections": []
    },
    "kernelspec": {
      "name": "python3",
      "display_name": "Python 3"
    },
    "language_info": {
      "name": "python"
    }
  },
  "cells": [
    {
      "cell_type": "code",
      "execution_count": null,
      "metadata": {
        "id": "rT5K96Tcw8pj"
      },
      "outputs": [],
      "source": [
        "import pandas as pd\n",
        "import numpy as np\n",
        "from sklearn.neighbors import KNeighborsClassifier\n",
        "from sklearn.model_selection import GridSearchCV,KFold,train_test_split,cross_val_score,class\n"
      ]
    },
    {
      "cell_type": "code",
      "source": [
        "data=pd.read_csv(\"glass.csv\")"
      ],
      "metadata": {
        "id": "narh8_ErycTT"
      },
      "execution_count": null,
      "outputs": []
    },
    {
      "cell_type": "code",
      "source": [
        "data"
      ],
      "metadata": {
        "id": "vaPlFdG4yiiC"
      },
      "execution_count": null,
      "outputs": []
    },
    {
      "cell_type": "code",
      "source": [
        "#the target variable is type of glass-Type\n",
        "data.Type.value_counts()# we have 6 types of glass and corresponding number is given(4th type of glass label is not given)"
      ],
      "metadata": {
        "id": "3vDkF9XHykEo"
      },
      "execution_count": null,
      "outputs": []
    },
    {
      "cell_type": "code",
      "source": [
        "data.info()"
      ],
      "metadata": {
        "id": "gOrbH72Ey8IW"
      },
      "execution_count": null,
      "outputs": []
    },
    {
      "cell_type": "code",
      "source": [
        "data.isna().sum()#there is null values."
      ],
      "metadata": {
        "id": "RU6wqdHc1El0"
      },
      "execution_count": null,
      "outputs": []
    },
    {
      "cell_type": "code",
      "source": [
        "data.describe()"
      ],
      "metadata": {
        "id": "qy9fVf5k1Mm_"
      },
      "execution_count": null,
      "outputs": []
    },
    {
      "cell_type": "code",
      "source": [
        "# in problem we have given the full of all the features names-\n",
        "#RI : refractive index\n",
        "#Na: Sodium (unit measurement: weight percent in corresponding oxide, as are attributes 4-10)\n",
        "#Mg: Magnesium\n",
        "#AI: Aluminum\n",
        "#Si: Silicon\n",
        "#K:Potassium\n",
        "#Ca: Calcium\n",
        "#Ba: Barium\n",
        "#Fe: Iron\n",
        "#we will edit the columns of features names\n",
        "data=data.rename({\"RI\":\"refractive_index\",\"Na\":\"Sodium\",\"Mg\":\"Magnesium\",\"Al\":\"Aluminum\",\"Si\":\"Silicon\",\"K\":\"Potassium\",\"Ca\":\"Calcium\",\n",
        "\"Ba\":\"Barium\",\"Fe\":\"Iron\"},axis=1)\n"
      ],
      "metadata": {
        "id": "hmPsWEnR1bxu"
      },
      "execution_count": null,
      "outputs": []
    },
    {
      "cell_type": "code",
      "source": [
        "data"
      ],
      "metadata": {
        "id": "GaJ9veTA2dBA"
      },
      "execution_count": null,
      "outputs": []
    },
    {
      "cell_type": "code",
      "source": [
        "import seaborn as sns\n",
        "sns.pairplot(data,hue=\"Type\")"
      ],
      "metadata": {
        "id": "WOx3WLuW2eRm"
      },
      "execution_count": null,
      "outputs": []
    },
    {
      "cell_type": "code",
      "source": [
        "sns.scatterplot(data['Aluminum'],data[\"Type\"])# we can predict that aluminum is maximum in Type 7 class."
      ],
      "metadata": {
        "id": "AJeT8peb3ukY"
      },
      "execution_count": null,
      "outputs": []
    },
    {
      "cell_type": "code",
      "source": [
        "import matplotlib.pyplot as plt\n",
        "sns.swarmplot(data['Sodium'],data[\"Type\"])"
      ],
      "metadata": {
        "id": "8-3r4SWz5BjB"
      },
      "execution_count": null,
      "outputs": []
    },
    {
      "cell_type": "code",
      "source": [
        "sns.scatterplot(data['Magnesium'],data[\"Type\"])#magnesium is slightly opposite to magnesium ,comparing type class."
      ],
      "metadata": {
        "id": "TwhmRqe75iNQ"
      },
      "execution_count": null,
      "outputs": []
    },
    {
      "cell_type": "code",
      "source": [
        "sns.scatterplot(data['Barium'],data[\"Type\"])# type 7 has a higher barium values"
      ],
      "metadata": {
        "id": "ylVFqhRa7Fmr"
      },
      "execution_count": null,
      "outputs": []
    },
    {
      "cell_type": "code",
      "source": [
        "sns.scatterplot(data['Iron'],data[\"Type\"])# type 1 and type 2 has maximum iron values,"
      ],
      "metadata": {
        "id": "q01gII559Dg3"
      },
      "execution_count": null,
      "outputs": []
    },
    {
      "cell_type": "code",
      "source": [
        "sns.scatterplot(data['Calcium'],data[\"Type\"])# we can see that calcium values is not effecting the type catergory."
      ],
      "metadata": {
        "id": "p5fH7tDdCuB9"
      },
      "execution_count": null,
      "outputs": []
    },
    {
      "cell_type": "code",
      "source": [
        "sns.scatterplot(data['Potassium'],data[\"Type\"])# we can see that potassium values is not effecting the type catergory."
      ],
      "metadata": {
        "id": "0xXkOkcoDT-r"
      },
      "execution_count": null,
      "outputs": []
    },
    {
      "cell_type": "code",
      "source": [
        "data1=data.drop(columns=\"Type\")\n",
        "data1"
      ],
      "metadata": {
        "id": "yNvEwmrmDt6b"
      },
      "execution_count": null,
      "outputs": []
    },
    {
      "cell_type": "code",
      "source": [
        "from sklearn.preprocessing import StandardScaler\n",
        "sf=StandardScaler()\n",
        "data_standard=sf.fit_transform(data1)"
      ],
      "metadata": {
        "id": "UTJolAJREBwB"
      },
      "execution_count": null,
      "outputs": []
    },
    {
      "cell_type": "code",
      "source": [
        "df_feat = pd.DataFrame(data_standard,columns=data.columns[:-1])\n",
        "df_feat.head()"
      ],
      "metadata": {
        "id": "fcqqEMgeGduF"
      },
      "execution_count": null,
      "outputs": []
    },
    {
      "cell_type": "code",
      "source": [
        "df_feat=df_feat.drop([\"Calcium\",\"Potassium\"],axis=1)#as from the graph the both features are not useful."
      ],
      "metadata": {
        "id": "864db67SG8hX"
      },
      "execution_count": null,
      "outputs": []
    },
    {
      "cell_type": "code",
      "source": [
        "#spliting the data in Train and test\n",
        "X=df_feat\n",
        "Y=data.iloc[:,9]\n",
        "xtrain,xtest,ytrain,ytest=train_test_split(X,Y,test_size=0.3,random_state=20)\n"
      ],
      "metadata": {
        "id": "aXNoRs5c9Okj"
      },
      "execution_count": null,
      "outputs": []
    },
    {
      "cell_type": "code",
      "source": [
        "X"
      ],
      "metadata": {
        "id": "oM5XBxNwGPsz"
      },
      "execution_count": null,
      "outputs": []
    },
    {
      "cell_type": "code",
      "source": [
        "\n",
        "ytest"
      ],
      "metadata": {
        "id": "Dy_GCQg2FVmh"
      },
      "execution_count": null,
      "outputs": []
    },
    {
      "cell_type": "code",
      "source": [
        "#creating the model\n",
        "kfold=KFold(n_splits=10)\n",
        "knn=KNeighborsClassifier( metric='manhattan',\n",
        "                    n_neighbors=4,\n",
        "                     )\n",
        "model=knn.fit(xtrain,ytrain)\n",
        "\n"
      ],
      "metadata": {
        "id": "gMM6Hf8iC_Zf"
      },
      "execution_count": null,
      "outputs": []
    },
    {
      "cell_type": "code",
      "source": [
        "ypred=model.predict(xtest)"
      ],
      "metadata": {
        "id": "sqwOzx-RKp0x"
      },
      "execution_count": null,
      "outputs": []
    },
    {
      "cell_type": "code",
      "source": [
        "print(classification_report(ytest,ypred))"
      ],
      "metadata": {
        "id": "zYu3zq4wPTsF"
      },
      "execution_count": null,
      "outputs": []
    },
    {
      "cell_type": "code",
      "source": [
        "from sklearn.metrics import classification_report, accuracy_score\n",
        "accuracy_score(ytest,ypred)"
      ],
      "metadata": {
        "id": "_n0CMMUfGbqP"
      },
      "execution_count": null,
      "outputs": []
    },
    {
      "cell_type": "code",
      "source": [
        "#Grid Search for Algorithm Tuning"
      ],
      "metadata": {
        "id": "nfrU27JBGbS7"
      },
      "execution_count": null,
      "outputs": []
    },
    {
      "cell_type": "code",
      "source": [
        "n_neighbors = np.array(range(1,40))\n",
        "param_grid = dict(n_neighbors=n_neighbors)"
      ],
      "metadata": {
        "id": "o_FDj0lTH1yt"
      },
      "execution_count": null,
      "outputs": []
    },
    {
      "cell_type": "code",
      "source": [
        "gd=GridSearchCV(estimator=KNeighborsClassifier(),param_grid=param_grid)\n",
        "gd.fit(X,Y)"
      ],
      "metadata": {
        "id": "iBKJpOBeG1tQ"
      },
      "execution_count": null,
      "outputs": []
    },
    {
      "cell_type": "code",
      "source": [
        "model1=KNeighborsClassifier(n_neighbors=4)\n",
        "result1=cross_val_score(model1,X,Y,cv=kfold)"
      ],
      "metadata": {
        "id": "DRwjqC-mHWaE"
      },
      "execution_count": null,
      "outputs": []
    },
    {
      "cell_type": "code",
      "source": [
        "result1.mean()"
      ],
      "metadata": {
        "id": "foNNLx93IGb8"
      },
      "execution_count": null,
      "outputs": []
    },
    {
      "cell_type": "code",
      "source": [
        "import matplotlib.pyplot as plt \n",
        "%matplotlib inline\n",
        "# choose k between 1 to 41\n",
        "k_range = range(1, 41)\n",
        "k_scores = []\n",
        "# use iteration to caclulator different k in models, then return the average accuracy based on the cross validation\n",
        "for k in k_range:\n",
        "    knn = KNeighborsClassifier(n_neighbors=k)\n",
        "    scores = cross_val_score(knn, X, Y, cv=5)\n",
        "    k_scores.append(scores.mean())\n",
        "# plot to see clearly\n",
        "plt.plot(k_range, k_scores)\n",
        "plt.xlabel('Value of K for KNN')\n",
        "plt.ylabel('Cross-Validated Accuracy')\n",
        "plt.show()"
      ],
      "metadata": {
        "id": "2bmudqqkLRXW"
      },
      "execution_count": null,
      "outputs": []
    },
    {
      "cell_type": "code",
      "source": [
        "#best k value is 4"
      ],
      "metadata": {
        "id": "xBMOX3hZL4VW"
      },
      "execution_count": null,
      "outputs": []
    },
    {
      "cell_type": "code",
      "source": [
        "#we will see the accuracy by bagging\n",
        "from sklearn.ensemble import BaggingClassifier\n",
        "from sklearn.ensemble import AdaBoostClassifier\n",
        "ac=AdaBoostClassifier(base_estimator=KNeighborsClassifier,n_estimators=10,random_state=40)\n",
        "results = cross_val_score(ac, X, Y, cv=kfold)\n",
        "results\n"
      ],
      "metadata": {
        "id": "QRi-W_8HP1rU"
      },
      "execution_count": null,
      "outputs": []
    },
    {
      "cell_type": "code",
      "source": [
        "\n",
        "from sklearn.linear_model import LogisticRegression\n",
        "from sklearn.tree import DecisionTreeClassifier\n",
        "from sklearn.svm import SVC\n",
        "from sklearn.ensemble import VotingClassifier\n",
        "estimators = []\n",
        "model1 = LogisticRegression(max_iter=500)\n",
        "estimators.append(('logistic', model1))\n",
        "model2 = DecisionTreeClassifier()\n",
        "estimators.append(('cart', model2))\n",
        "model3 = SVC()\n",
        "estimators.append(('svm', model3))\n",
        "\n",
        "# create the ensemble model\n",
        "ensemble = VotingClassifier(estimators)\n",
        "results = cross_val_score(ensemble, X, Y, cv=kfold)\n",
        "print(results.mean())"
      ],
      "metadata": {
        "id": "l6x8kSIf41_f"
      },
      "execution_count": null,
      "outputs": []
    },
    {
      "cell_type": "code",
      "source": [
        ""
      ],
      "metadata": {
        "id": "JzQ76e-c7J-r"
      },
      "execution_count": null,
      "outputs": []
    }
  ]
}