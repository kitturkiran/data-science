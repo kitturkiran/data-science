{
  "nbformat": 4,
  "nbformat_minor": 0,
  "metadata": {
    "colab": {
      "name": "multilinearity regression assignment.ipynb",
      "provenance": [],
      "collapsed_sections": []
    },
    "kernelspec": {
      "name": "python3",
      "display_name": "Python 3"
    },
    "language_info": {
      "name": "python"
    }
  },
  "cells": [
    {
      "cell_type": "code",
      "execution_count": null,
      "metadata": {
        "id": "WrthcpoeyqrM"
      },
      "outputs": [],
      "source": [
        ""
      ]
    },
    {
      "cell_type": "code",
      "source": [
        "import pandas as pd\n",
        "import seaborn as sns\n",
        "import matplotlib.pyplot as plt\n",
        "import statsmodels.formula.api as smf\n",
        "from statsmodels.graphics.regressionplots import influence_plot\n",
        "import numpy as np\n",
        "\n"
      ],
      "metadata": {
        "id": "EE5HIxfUTgks"
      },
      "execution_count": null,
      "outputs": []
    },
    {
      "cell_type": "code",
      "source": [
        "data=pd.read_csv(\"50_Startups.csv\")"
      ],
      "metadata": {
        "id": "LABuos4rdFG_"
      },
      "execution_count": null,
      "outputs": []
    },
    {
      "cell_type": "code",
      "source": [
        "data"
      ],
      "metadata": {
        "id": "64YMgHQpd0Xu"
      },
      "execution_count": null,
      "outputs": []
    },
    {
      "cell_type": "code",
      "source": [
        "data.info()"
      ],
      "metadata": {
        "id": "bhcG645xeBQP"
      },
      "execution_count": null,
      "outputs": []
    },
    {
      "cell_type": "code",
      "source": [
        "data.corr()"
      ],
      "metadata": {
        "id": "gwhVW0ZneJnQ"
      },
      "execution_count": null,
      "outputs": []
    },
    {
      "cell_type": "code",
      "source": [
        "sns.pairplot(data=data)"
      ],
      "metadata": {
        "id": "xYVGuUcBeP4Z"
      },
      "execution_count": null,
      "outputs": []
    },
    {
      "cell_type": "code",
      "source": [
        "model=smf.ols(\"Profit~R&D_Spend+Administration+Marketing_Spend+Profit\",data=data).fit()"
      ],
      "metadata": {
        "id": "0VrxDGAWeaDY"
      },
      "execution_count": null,
      "outputs": []
    },
    {
      "cell_type": "code",
      "source": [
        "data=data.rename({'R&D Spend':\"R&D_Spend\"},axis=1)"
      ],
      "metadata": {
        "id": "DBLk97zfe-1_"
      },
      "execution_count": null,
      "outputs": []
    },
    {
      "cell_type": "code",
      "source": [
        "data"
      ],
      "metadata": {
        "id": "7BNVBsLzfjoL"
      },
      "execution_count": null,
      "outputs": []
    },
    {
      "cell_type": "code",
      "source": [
        "model=smf.ols(\"Profit~R&D_Spend+Administration+Marketing Spend+Profit\",data=data).fit()"
      ],
      "metadata": {
        "id": "qePJRZy6gU6j"
      },
      "execution_count": null,
      "outputs": []
    },
    {
      "cell_type": "code",
      "source": [
        "data=data.rename({'Marketing Spend':\"Marketing_Spend\"},axis=1)"
      ],
      "metadata": {
        "id": "b6HOGuqogoub"
      },
      "execution_count": null,
      "outputs": []
    },
    {
      "cell_type": "code",
      "source": [
        "data"
      ],
      "metadata": {
        "id": "6NuWTeqZg6mj"
      },
      "execution_count": null,
      "outputs": []
    },
    {
      "cell_type": "code",
      "source": [
        "model=smf.ols(\"Profit~R&D_Spend+Administration+Marketing_Spend\",data=data).fit()"
      ],
      "metadata": {
        "id": "uw_GOVRGg7HR"
      },
      "execution_count": null,
      "outputs": []
    },
    {
      "cell_type": "code",
      "source": [
        "data1=pd.read_csv(\"50_Startups.csv\")"
      ],
      "metadata": {
        "id": "zdzjTsLIhDpn"
      },
      "execution_count": null,
      "outputs": []
    },
    {
      "cell_type": "code",
      "source": [
        "model=smf.ols(\"Profit~R&D_Spend\",data=data).fit()"
      ],
      "metadata": {
        "id": "Q1pxF67bhprz"
      },
      "execution_count": null,
      "outputs": []
    },
    {
      "cell_type": "code",
      "source": [
        "model.tvalues,model.pvalues"
      ],
      "metadata": {
        "id": "ZydQKXxQhym0"
      },
      "execution_count": null,
      "outputs": []
    },
    {
      "cell_type": "code",
      "source": [
        "model.params"
      ],
      "metadata": {
        "id": "zqZEZEaMjODW"
      },
      "execution_count": null,
      "outputs": []
    },
    {
      "cell_type": "code",
      "source": [
        "model=smf.ols(\"Profit~Administration\",data=data).fit()"
      ],
      "metadata": {
        "id": "htRU0Hj5jz9j"
      },
      "execution_count": null,
      "outputs": []
    },
    {
      "cell_type": "code",
      "source": [
        "data"
      ],
      "metadata": {
        "id": "2KFlHTb3kdAK"
      },
      "execution_count": null,
      "outputs": []
    },
    {
      "cell_type": "code",
      "source": [
        "data1=data.rename({\"R&D_Spend\":\"Rspend\"},axis=1)"
      ],
      "metadata": {
        "id": "B0p90Fi9kdgq"
      },
      "execution_count": null,
      "outputs": []
    },
    {
      "cell_type": "code",
      "source": [
        "data1"
      ],
      "metadata": {
        "id": "ijgLsY3tkxgO"
      },
      "execution_count": null,
      "outputs": []
    },
    {
      "cell_type": "code",
      "source": [
        "model=smf.ols(\"Profit~RSpend\",data=data).fit()"
      ],
      "metadata": {
        "id": "cbDpHswHky5t"
      },
      "execution_count": null,
      "outputs": []
    },
    {
      "cell_type": "code",
      "source": [
        "data=pd.read_csv(\"50_Startups.csv\")\n",
        "data=data.rename({'Marketing Spend':\"Marketing_Spend\"},axis=1)\n",
        "data=data.rename({'R&D Spend':\"R_&_D_Spend\"},axis=1)"
      ],
      "metadata": {
        "id": "g58ua6qWlv0i"
      },
      "execution_count": null,
      "outputs": []
    },
    {
      "cell_type": "code",
      "source": [
        "model=smf.ols(\"Profit~R_&_D_Spend\",data=data).fit()"
      ],
      "metadata": {
        "id": "puG2FCXXncgz"
      },
      "execution_count": null,
      "outputs": []
    },
    {
      "cell_type": "code",
      "source": [
        "data=data.rename({'Marketing Spend':\"Marketing_Spend\"},axis=1)"
      ],
      "metadata": {
        "id": "kiokkkOEngP9"
      },
      "execution_count": null,
      "outputs": []
    },
    {
      "cell_type": "code",
      "source": [
        "data=pd.read_csv(\"50_Startups.csv\")"
      ],
      "metadata": {
        "id": "MPQNWa02rnXa"
      },
      "execution_count": null,
      "outputs": []
    },
    {
      "cell_type": "code",
      "source": [
        "data"
      ],
      "metadata": {
        "id": "sslzuK_zru8l"
      },
      "execution_count": null,
      "outputs": []
    },
    {
      "cell_type": "code",
      "source": [
        "data.info()"
      ],
      "metadata": {
        "id": "8mxMr53Rr02R"
      },
      "execution_count": null,
      "outputs": []
    },
    {
      "cell_type": "code",
      "source": [
        "data.corr()"
      ],
      "metadata": {
        "id": "LMOUnuRlsvE3"
      },
      "execution_count": null,
      "outputs": []
    },
    {
      "cell_type": "code",
      "source": [
        "sns.pairplot(data)"
      ],
      "metadata": {
        "id": "xPOGk-nsswTv"
      },
      "execution_count": null,
      "outputs": []
    },
    {
      "cell_type": "code",
      "source": [
        "data=data.rename({'Marketing Spend':\"Marketing_Spend\"},axis=1)\n",
        "data=data.rename({'R&D Spend':\"R_and_D_Spend\"},axis=1)\n"
      ],
      "metadata": {
        "id": "yaeiep0Bs4mc"
      },
      "execution_count": null,
      "outputs": []
    },
    {
      "cell_type": "code",
      "source": [
        "\n",
        "data"
      ],
      "metadata": {
        "id": "mCzoxK_0tbhm"
      },
      "execution_count": null,
      "outputs": []
    },
    {
      "cell_type": "code",
      "source": [
        "model=smf.ols(\"Profit~R_and_D_Spend+Administration+Marketing_Spend\",data=data).fit()"
      ],
      "metadata": {
        "id": "ad0Q5SaBt4m5"
      },
      "execution_count": null,
      "outputs": []
    },
    {
      "cell_type": "code",
      "source": [
        "model.params"
      ],
      "metadata": {
        "id": "dZInbuF6uXfj"
      },
      "execution_count": null,
      "outputs": []
    },
    {
      "cell_type": "code",
      "source": [
        "model.pvalues"
      ],
      "metadata": {
        "id": "2Ab_4dcRudLR"
      },
      "execution_count": null,
      "outputs": []
    },
    {
      "cell_type": "code",
      "source": [
        "m1=smf.ols(\"Profit~Administration\",data=data).fit().pvalues"
      ],
      "metadata": {
        "id": "BNiGrLWXuydX"
      },
      "execution_count": null,
      "outputs": []
    },
    {
      "cell_type": "code",
      "source": [
        "m1"
      ],
      "metadata": {
        "id": "5T4DEQPawr26"
      },
      "execution_count": null,
      "outputs": []
    },
    {
      "cell_type": "code",
      "source": [
        "m2=smf.ols(\"Profit~Marketing_Spend\",data=data).fit().pvalues"
      ],
      "metadata": {
        "id": "_txW9xJqwtYF"
      },
      "execution_count": null,
      "outputs": []
    },
    {
      "cell_type": "code",
      "source": [
        "m2"
      ],
      "metadata": {
        "id": "meckG6HZxD_k"
      },
      "execution_count": null,
      "outputs": []
    },
    {
      "cell_type": "code",
      "source": [
        "m3=smf.ols(\"Profit~Marketing_Spend+Administration\",data=data).fit().pvalues"
      ],
      "metadata": {
        "id": "pVf9DFkFxFIu"
      },
      "execution_count": null,
      "outputs": []
    },
    {
      "cell_type": "code",
      "source": [
        "m3"
      ],
      "metadata": {
        "id": "ND78N4V0xMXK"
      },
      "execution_count": null,
      "outputs": []
    },
    {
      "cell_type": "code",
      "source": [
        "#Model Validation\n",
        "m_R_and_D=smf.ols(\"R_and_D_Spend~Marketing_Spend+Administration\",data=data).fit().rsquared\n",
        "RDS=1/1-m_R_and_D"
      ],
      "metadata": {
        "id": "Y9CD5CE0xP33"
      },
      "execution_count": null,
      "outputs": []
    },
    {
      "cell_type": "code",
      "source": [
        "Marketing_v=smf.ols(\"Marketing_Spend~R_and_D_Spend+Administration\",data=data).fit().rsquared\n",
        "MS=1/1-Marketing_v"
      ],
      "metadata": {
        "id": "UqgLbdoUxWRR"
      },
      "execution_count": null,
      "outputs": []
    },
    {
      "cell_type": "code",
      "source": [
        "Administration_v=smf.ols(\"Administration~Marketing_Spend+R_and_D_Spend\",data=data).fit().rsquared\n",
        "ADMS=1/1-Administration_v"
      ],
      "metadata": {
        "id": "U692PKrBxXK4"
      },
      "execution_count": null,
      "outputs": []
    },
    {
      "cell_type": "code",
      "source": [
        "Df={\"variable_name\":[\"R_and_D_Spend\",\"Marketing_Spend\",\"Admistion\"],\"VIF values\":[RDS,MS,ADMS]}\n",
        "pd.DataFrame(Df)"
      ],
      "metadata": {
        "id": "EqedIKqyxghy"
      },
      "execution_count": null,
      "outputs": []
    },
    {
      "cell_type": "code",
      "source": [
        "#test for nomility residues \n",
        "sm.qqplot(model.resid,line=\"q\")\n",
        "plt.title(\"Normal Q-Q plot resid plot\")\n",
        "plt.show()"
      ],
      "metadata": {
        "id": "bHsAdTF2xoYn"
      },
      "execution_count": null,
      "outputs": []
    },
    {
      "cell_type": "code",
      "source": [
        "list(np.where(model.resid<-30000))"
      ],
      "metadata": {
        "id": "QrCSgbtMx2oR"
      },
      "execution_count": null,
      "outputs": []
    },
    {
      "cell_type": "code",
      "source": [
        "def standard_values(vals):\n",
        "  return (vals-vals.mean()/vals.std())\n",
        "\n"
      ],
      "metadata": {
        "id": "NC2L_lx2yP8P"
      },
      "execution_count": null,
      "outputs": []
    },
    {
      "cell_type": "code",
      "source": [
        "plt.scatter(standard_values(model.fittedvalues),standard_values(model.resid))"
      ],
      "metadata": {
        "id": "Ajv8cUe3Mr7P"
      },
      "execution_count": null,
      "outputs": []
    },
    {
      "cell_type": "code",
      "source": [
        "fig=plt.figure(figsize=(15,8))\n",
        "sm.graphics.plot_regress_exog(model,'Administration',fig=fig)\n",
        "plt.show()"
      ],
      "metadata": {
        "id": "FuRiee6BNIke"
      },
      "execution_count": null,
      "outputs": []
    },
    {
      "cell_type": "code",
      "source": [
        "fig=plt.figure(figsize=(15,8))\n",
        "sm.graphics.plot_regress_exog(model,'R_and_D_Spend',fig=fig)\n",
        "plt.show()"
      ],
      "metadata": {
        "id": "XvvPjw_vNixZ"
      },
      "execution_count": null,
      "outputs": []
    },
    {
      "cell_type": "code",
      "source": [
        "fig=plt.figure(figsize=(15,8))\n",
        "sm.graphics.plot_regress_exog(model,'Marketing_Spend',fig=fig)\n",
        "plt.show()"
      ],
      "metadata": {
        "id": "2Wh10Y1pNxea"
      },
      "execution_count": null,
      "outputs": []
    },
    {
      "cell_type": "code",
      "source": [
        "#model delation diagonis\n",
        "(c,_)=model.get_influence().cooks_distance"
      ],
      "metadata": {
        "id": "XtJkBSWhPKmp"
      },
      "execution_count": null,
      "outputs": []
    },
    {
      "cell_type": "code",
      "source": [
        "fig=plt.figure(figsize=(20,7))\n",
        "plt.stem(np.arange(len(data)),np.round(c,5))\n",
        "plt.xlabel('Row Index')\n",
        "plt.ylabel('Cooks Distance')\n",
        "plt.show()"
      ],
      "metadata": {
        "id": "EO3yz8gkPqDh"
      },
      "execution_count": null,
      "outputs": []
    },
    {
      "cell_type": "code",
      "source": [
        "np.argmax(c),np.max(c)"
      ],
      "metadata": {
        "id": "9J12HAboPvXS"
      },
      "execution_count": null,
      "outputs": []
    },
    {
      "cell_type": "code",
      "source": [
        "influence_plot(model)"
      ],
      "metadata": {
        "id": "pjO-5JtIP-Pv"
      },
      "execution_count": null,
      "outputs": []
    },
    {
      "cell_type": "code",
      "source": [
        "k=data.shape[1]\n",
        "n=data.shape[0]\n",
        "leverage_cutoff = (3*(k+1))/n\n",
        "leverage_cutoff"
      ],
      "metadata": {
        "id": "-o_WsboXQKwf"
      },
      "execution_count": null,
      "outputs": []
    },
    {
      "cell_type": "code",
      "source": [
        "\n",
        "data[data.index.isin([49])] "
      ],
      "metadata": {
        "id": "T_98IK8SQaoh"
      },
      "execution_count": null,
      "outputs": []
    },
    {
      "cell_type": "code",
      "source": [
        "data=data.drop(data.index[[49]],axis=0)"
      ],
      "metadata": {
        "id": "c6R89noIRnAS"
      },
      "execution_count": null,
      "outputs": []
    },
    {
      "cell_type": "code",
      "source": [
        "while np.max(c)>0.5:\n",
        "  model=smf.ols(\"Profit~R_and_D_Spend+Marketing_Spend+Administration\",data=data).fit()\n",
        "  (c,_)=model.get_influence().cooks_distance\n",
        "  c\n",
        "  np.argmax(c),max(c)\n",
        "  data=data.drop(data.index[[np.argmax(c)]],axis=0).reset_index\n",
        "  data\n",
        "else:\n",
        "  final_model=smf.ols(\"Profit~R_and_D_Spend+Marketing_Spend+Administration\",data=data).fit()\n",
        "  final_model.rsquared , final_model.aic\n",
        "  print(\"Thus model accuracy is improved to\",final_model.rsquared)"
      ],
      "metadata": {
        "id": "rwh15mIcSJ6D"
      },
      "execution_count": null,
      "outputs": []
    },
    {
      "cell_type": "code",
      "source": [
        "final_model.rsquared"
      ],
      "metadata": {
        "id": "tHZSZUteUZ47"
      },
      "execution_count": null,
      "outputs": []
    },
    {
      "cell_type": "code",
      "source": [
        "pred_y=model.predict(data)"
      ],
      "metadata": {
        "id": "oiXNh1V2Ukw9"
      },
      "execution_count": null,
      "outputs": []
    },
    {
      "cell_type": "code",
      "source": [
        "pred_y"
      ],
      "metadata": {
        "id": "kx1LP-0SU4vf"
      },
      "execution_count": null,
      "outputs": []
    },
    {
      "cell_type": "code",
      "source": [
        "new_data=pd.DataFrame({\"R_and_D_Spend\":70000,\"Administration\":90000,\"Marketing_Spend\":140000},index=[0])"
      ],
      "metadata": {
        "id": "iJZlcPBgU8PS"
      },
      "execution_count": null,
      "outputs": []
    },
    {
      "cell_type": "code",
      "source": [
        "new_data"
      ],
      "metadata": {
        "id": "H80yxs8OWVVT"
      },
      "execution_count": null,
      "outputs": []
    },
    {
      "cell_type": "code",
      "source": [
        "model.predict(new_data)"
      ],
      "metadata": {
        "id": "sJVWRpalWZil"
      },
      "execution_count": null,
      "outputs": []
    },
    {
      "cell_type": "code",
      "source": [
        "d2={'Prep_Models':['Model','Final_Model'],'Rsquared':[model.rsquared,final_model.rsquared]}\n",
        "table=pd.DataFrame(d2)\n",
        "table"
      ],
      "metadata": {
        "id": "2zSm7uocYyDN"
      },
      "execution_count": null,
      "outputs": []
    },
    {
      "cell_type": "code",
      "source": [
        "# Import Libraries\n",
        "import pandas as pd\n",
        "import numpy as np\n",
        "import matplotlib.pyplot as plt\n",
        "import seaborn as sns\n",
        "import statsmodels.formula.api as smf\n",
        "import statsmodels.api as sm\n",
        "from statsmodels.graphics.regressionplots import influence_plot"
      ],
      "metadata": {
        "id": "IG49XOSFaQU_"
      },
      "execution_count": null,
      "outputs": []
    },
    {
      "cell_type": "code",
      "source": [
        "# import dataset\n",
        "toyo=pd.read_csv('ToyotaCorolla.csv',encoding='latin1')\n",
        "toyo"
      ],
      "metadata": {
        "id": "cgduSLCdeKne"
      },
      "execution_count": null,
      "outputs": []
    },
    {
      "cell_type": "code",
      "source": [
        "toyo.info()"
      ],
      "metadata": {
        "id": "QVGH9-WNfDlq"
      },
      "execution_count": null,
      "outputs": []
    },
    {
      "cell_type": "code",
      "source": [
        "toyo.isna().sum()"
      ],
      "metadata": {
        "id": "rB-_Oo5meLDE"
      },
      "execution_count": null,
      "outputs": []
    },
    {
      "cell_type": "code",
      "source": [
        "toyo.corr()"
      ],
      "metadata": {
        "id": "rBIm4yIniRBp"
      },
      "execution_count": null,
      "outputs": []
    },
    {
      "cell_type": "code",
      "source": [
        "toyo.info()\n"
      ],
      "metadata": {
        "id": "ktMbWhbqihXS"
      },
      "execution_count": null,
      "outputs": []
    },
    {
      "cell_type": "code",
      "source": [
        "toyo2=pd.concat([toyo.iloc[:,2:4],toyo.iloc[:,6],toyo.iloc[:,8],toyo.iloc[:,12:14],toyo.iloc[:,15:18]],axis=1)"
      ],
      "metadata": {
        "id": "AvuVAvR1lKQt"
      },
      "execution_count": null,
      "outputs": []
    },
    {
      "cell_type": "code",
      "source": [
        "toyo2"
      ],
      "metadata": {
        "id": "gWQOtIuTmBID"
      },
      "execution_count": null,
      "outputs": []
    },
    {
      "cell_type": "code",
      "source": [
        "\n",
        "toyo2.info()"
      ],
      "metadata": {
        "id": "8fivjiNRmCSM"
      },
      "execution_count": null,
      "outputs": []
    },
    {
      "cell_type": "code",
      "source": [
        "toyo2[toyo2.duplicated()]"
      ],
      "metadata": {
        "id": "0I0N4ApAqksl"
      },
      "execution_count": null,
      "outputs": []
    },
    {
      "cell_type": "code",
      "source": [
        "\n",
        "toyo2=toyo2.drop_duplicates().reset_index(drop=True)\n",
        "toyo2"
      ],
      "metadata": {
        "id": "alHIVNtaqkjD"
      },
      "execution_count": null,
      "outputs": []
    },
    {
      "cell_type": "code",
      "source": [
        "toyo2.corr()"
      ],
      "metadata": {
        "id": "AOsBbtjyog8q"
      },
      "execution_count": null,
      "outputs": []
    },
    {
      "cell_type": "code",
      "source": [
        "model=smf.ols(\"Price~Age_08_04+KM+HP+cc+Doors+Gears+Quarterly_Tax+Weight\",data=toyo2).fit()"
      ],
      "metadata": {
        "id": "k1FUFOwmolU4"
      },
      "execution_count": null,
      "outputs": []
    },
    {
      "cell_type": "code",
      "source": [
        "\n",
        "model.params"
      ],
      "metadata": {
        "id": "9Agj3p4upbgx"
      },
      "execution_count": null,
      "outputs": []
    },
    {
      "cell_type": "code",
      "source": [
        "\n",
        "model.pvalues"
      ],
      "metadata": {
        "id": "U5sRZL6xptiO"
      },
      "execution_count": null,
      "outputs": []
    },
    {
      "cell_type": "code",
      "source": [
        "model.rsquared "
      ],
      "metadata": {
        "id": "SJR0ABUKqIlB"
      },
      "execution_count": null,
      "outputs": []
    },
    {
      "cell_type": "code",
      "source": [
        "#build SLR and MLR for insignificant variable CC and doors\n",
        "# also find there p values\n",
        "m1=smf.ols(\"Price~cc\",data=toyo2).fit()"
      ],
      "metadata": {
        "id": "4ngdwSJaqPCt"
      },
      "execution_count": null,
      "outputs": []
    },
    {
      "cell_type": "code",
      "source": [
        "m1.pvalues"
      ],
      "metadata": {
        "id": "RuS5QuGju2HF"
      },
      "execution_count": null,
      "outputs": []
    },
    {
      "cell_type": "code",
      "source": [
        "m2=smf.ols(\"Price~Doors\",data=toyo2).fit()"
      ],
      "metadata": {
        "id": "rGD9sVh0u3XC"
      },
      "execution_count": null,
      "outputs": []
    },
    {
      "cell_type": "code",
      "source": [
        "m2.pvalues"
      ],
      "metadata": {
        "id": "27U3CoA2u9pq"
      },
      "execution_count": null,
      "outputs": []
    },
    {
      "cell_type": "code",
      "source": [
        "m3=smf.ols(\"Price~Doors+cc\",data=toyo2).fit()"
      ],
      "metadata": {
        "id": "MH5on56qvAni"
      },
      "execution_count": null,
      "outputs": []
    },
    {
      "cell_type": "code",
      "source": [
        "m3.pvalues"
      ],
      "metadata": {
        "id": "ZTcJDMMfvEi1"
      },
      "execution_count": null,
      "outputs": []
    },
    {
      "cell_type": "code",
      "source": [
        "#model validation tech.,VIF method\n",
        "model_age=smf.ols(\"Age_08_04~KM+HP+cc+Doors+Gears+Quarterly_Tax+Weight\",data=toyo2).fit().rsquared\n",
        "model_km=smf.ols(\"KM~Age_08_04+HP+cc+Doors+Gears+Quarterly_Tax+Weight\",data=toyo2).fit().rsquared\n",
        "model_hp=smf.ols(\"HP~Age_08_04+KM+cc+Doors+Gears+Quarterly_Tax+Weight\",data=toyo2).fit().rsquared\n",
        "model_cc=smf.ols(\"cc~Age_08_04+KM+HP+Doors+Gears+Quarterly_Tax+Weight\",data=toyo2).fit().rsquared\n",
        "model_doors=smf.ols(\"Doors~Age_08_04+KM+HP+cc+Gears+Quarterly_Tax+Weight\",data=toyo2).fit().rsquared\n",
        "model_gears=smf.ols(\"Gears~Age_08_04+KM+HP+cc+Doors+Quarterly_Tax+Weight\",data=toyo2).fit().rsquared\n",
        "model_Quarterly_tax=smf.ols(\"Quarterly_Tax~Weight+Age_08_04+KM+HP+cc+Doors+Gears\",data=toyo2).fit().rsquared\n",
        "model_weight=smf.ols(\"Weight~Age_08_04+KM+HP+cc+Doors+Gears+Quarterly_Tax\",data=toyo2).fit().rsquared\n",
        "age=(1/1-model_age)\n",
        "km=(1/1-model_km)\n",
        "hp=(1/1-model_hp)\n",
        "cc=(1/1-model_cc)\n",
        "doors=(1/1-model_doors)\n",
        "gears=(1/1-model_gears)\n",
        "quaterly_weight=(1/1-model_Quarterly_tax)\n",
        "weight=(1/1-model_weight)\n"
      ],
      "metadata": {
        "id": "Tw_2X-qcvGJp"
      },
      "execution_count": null,
      "outputs": []
    },
    {
      "cell_type": "code",
      "source": [
        "data2=pd.DataFrame({\"names of variable\":[\"age\",\"km\",\"hp\",\"cc\",\"doors\",\"gears\",\"quaterly_weight\",\"weight\"],\"values\":[age,km,hp,cc,doors,gears,quaterly_weight,weight]})"
      ],
      "metadata": {
        "id": "a2nOEVpPw_DB"
      },
      "execution_count": null,
      "outputs": []
    },
    {
      "cell_type": "code",
      "source": [
        "data2"
      ],
      "metadata": {
        "id": "KM2FdE_wxZ0r"
      },
      "execution_count": null,
      "outputs": []
    },
    {
      "cell_type": "code",
      "source": [
        "# none of the variable values is greater than 20 ,therefore each variable has no collinearity.\n"
      ],
      "metadata": {
        "id": "sGOSykaz0UI8"
      },
      "execution_count": null,
      "outputs": []
    },
    {
      "cell_type": "code",
      "source": [
        "#To find by resid method\n",
        "sm.qqplot(model.resid,line=\"q\")\n"
      ],
      "metadata": {
        "id": "8bY_pa26alR6"
      },
      "execution_count": null,
      "outputs": []
    },
    {
      "cell_type": "code",
      "source": [
        "list(np.where(model.resid>6000))"
      ],
      "metadata": {
        "id": "y-BLJBjZcIMk"
      },
      "execution_count": null,
      "outputs": []
    },
    {
      "cell_type": "code",
      "source": [
        "list(np.where(model.resid<-6000))"
      ],
      "metadata": {
        "id": "go-BOUtlcrGk"
      },
      "execution_count": null,
      "outputs": []
    },
    {
      "cell_type": "code",
      "source": [
        "#test for homoscedasticity and heteroscedasticity\n",
        "def standard_values(i):\n",
        "  z=i-i.mean()/i.std()\n",
        "  return z\n"
      ],
      "metadata": {
        "id": "fW6iQT7ScwnJ"
      },
      "execution_count": null,
      "outputs": []
    },
    {
      "cell_type": "code",
      "source": [
        "plt.scatter(standard_values(model.resid),standard_values(model.fittedvalues))\n",
        "plt.title('Residual Plot')\n",
        "plt.xlabel('standardized fitted values')\n",
        "plt.ylabel('standardized residual values')\n",
        "plt.show() "
      ],
      "metadata": {
        "id": "XLMkEqmddYdW"
      },
      "execution_count": null,
      "outputs": []
    },
    {
      "cell_type": "code",
      "source": [
        "#test for resid vs regression values\n",
        "sm.graphics.plot_regress_exog(model,\"Age_08_04\")"
      ],
      "metadata": {
        "id": "mJLkNkqkdpE7"
      },
      "execution_count": null,
      "outputs": []
    },
    {
      "cell_type": "code",
      "source": [
        "sm.graphics.plot_regress_exog(model,\"KM\")"
      ],
      "metadata": {
        "id": "nDuoYbrPeQvF"
      },
      "execution_count": null,
      "outputs": []
    },
    {
      "cell_type": "code",
      "source": [
        "sm.graphics.plot_regress_exog(model,\"HP\")"
      ],
      "metadata": {
        "id": "fv7YBTiTeYD6"
      },
      "execution_count": null,
      "outputs": []
    },
    {
      "cell_type": "code",
      "source": [
        "sm.graphics.plot_regress_exog(model,\"Doors\")"
      ],
      "metadata": {
        "id": "oq9UC0KxeYjB"
      },
      "execution_count": null,
      "outputs": []
    },
    {
      "cell_type": "code",
      "source": [
        "sm.graphics.plot_regress_exog(model,\"Quarterly_Tax\")"
      ],
      "metadata": {
        "id": "mY_0NrA2eZMT"
      },
      "execution_count": null,
      "outputs": []
    },
    {
      "cell_type": "code",
      "source": [
        "sm.graphics.plot_regress_exog(model,\"Gears\")"
      ],
      "metadata": {
        "id": "P9x_794Reqqu"
      },
      "execution_count": null,
      "outputs": []
    },
    {
      "cell_type": "code",
      "source": [
        "sm.graphics.plot_regress_exog(model,\"Weight\")"
      ],
      "metadata": {
        "id": "_g_NXmq6erLa"
      },
      "execution_count": null,
      "outputs": []
    },
    {
      "cell_type": "code",
      "source": [
        "#model deletion tech.\n",
        "(c,_)=model.get_influence().cooks_distance"
      ],
      "metadata": {
        "id": "02FOVwgde4lP"
      },
      "execution_count": null,
      "outputs": []
    },
    {
      "cell_type": "code",
      "source": [
        "fig=plt.figure(figsize=(20,7))\n",
        "plt.stem(c)"
      ],
      "metadata": {
        "id": "Flou5aBBgWI8"
      },
      "execution_count": null,
      "outputs": []
    },
    {
      "cell_type": "code",
      "source": [
        "np.max(c),np.argmax(c)"
      ],
      "metadata": {
        "id": "jEfuSwSPghUo"
      },
      "execution_count": null,
      "outputs": []
    },
    {
      "cell_type": "code",
      "source": [
        "fig=plt.subplots(figsize=(20,20))\n",
        "fig=influence_plot(model)"
      ],
      "metadata": {
        "id": "m3qCSWHDg051"
      },
      "execution_count": null,
      "outputs": []
    },
    {
      "cell_type": "code",
      "source": [
        "k=toyo2.shape[1]\n",
        "n=toyo2.shape[0]\n",
        "leverage_cutoff = (3*(k+1))/n\n",
        "leverage_cutoff"
      ],
      "metadata": {
        "id": "LrNXcdm0hObW"
      },
      "execution_count": null,
      "outputs": []
    },
    {
      "cell_type": "code",
      "source": [
        "\n",
        "toyo2[toyo2.index.isin([80])] "
      ],
      "metadata": {
        "id": "8gjHvsoRib22"
      },
      "execution_count": null,
      "outputs": []
    },
    {
      "cell_type": "code",
      "source": [
        "toyo3=toyo2.drop(toyo2.index[[80]],axis=0).reset_index"
      ],
      "metadata": {
        "id": "dbbvx_GJijqy"
      },
      "execution_count": null,
      "outputs": []
    },
    {
      "cell_type": "code",
      "source": [
        "toyo3"
      ],
      "metadata": {
        "id": "2vFUmXS1i3EU"
      },
      "execution_count": null,
      "outputs": []
    },
    {
      "cell_type": "code",
      "source": [
        " while np.max(c)>0.5 :\n",
        "    model=smf.ols('Price~Age_08_04+KM+HP+cc+Doors+Gears+Quarterly_Tax+Weight',data=toyo2).fit()\n",
        "    (c,_)=model.get_influence().cooks_distance\n",
        "    c\n",
        "    np.argmax(c) , np.max(c)\n",
        "    toyo2=toyo2.drop(toyo2.index[[np.argmax(c)]],axis=0).reset_index(drop=True)\n",
        "    toyo2\n",
        "else:\n",
        "    final_model=smf.ols('Price~Age_08_04+KM+HP+cc+Doors+Gears+Quarterly_Tax+Weight',data=toyo2).fit()\n",
        "    final_model.rsquared , final_model.aic\n",
        "    print(\"Thus model accuracy is improved to\",final_model.rsquared)\n"
      ],
      "metadata": {
        "id": "JpGPqHGZjMAg"
      },
      "execution_count": null,
      "outputs": []
    },
    {
      "cell_type": "code",
      "source": [
        "#model prediction\n",
        "new_data=pd.DataFrame({'Age_08_04':12,\"KM\":40000,\"HP\":80,\"cc\":1300,\"Doors\":4,\"Gears\":5,\"Quarterly_Tax\":69,\"Weight\":1012},index=[0])\n",
        "new_data"
      ],
      "metadata": {
        "id": "zqj8EnjDjaKc"
      },
      "execution_count": null,
      "outputs": []
    },
    {
      "cell_type": "code",
      "source": [
        " #Manual Prediction of Price\n",
        "final_model.predict(new_data)"
      ],
      "metadata": {
        "id": "hIN9P-LAv5cH"
      },
      "execution_count": null,
      "outputs": []
    },
    {
      "cell_type": "code",
      "source": [
        "pred_y=final_model.predict(toyo2)\n",
        "pred_y"
      ],
      "metadata": {
        "id": "immVeeJawBrJ"
      },
      "execution_count": null,
      "outputs": []
    }
  ]
}