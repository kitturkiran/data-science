{
  "nbformat": 4,
  "nbformat_minor": 0,
  "metadata": {
    "colab": {
      "name": "Logistical regresion assignment",
      "provenance": [],
      "collapsed_sections": []
    },
    "kernelspec": {
      "name": "python3",
      "display_name": "Python 3"
    },
    "language_info": {
      "name": "python"
    }
  },
  "cells": [
    {
      "cell_type": "code",
      "execution_count": null,
      "metadata": {
        "id": "DU3zm-VH95BP"
      },
      "outputs": [],
      "source": [
        ""
      ]
    },
    {
      "cell_type": "code",
      "source": [
        "# Load dataset\n",
        "import pandas as pd\n",
        "from sklearn.linear_model import LogisticRegression\n",
        "data = pd.read_csv('https://raw.githubusercontent.com/rafiag/DTI2020/main/data/bank.csv')\n",
        "from sklearn.preprocessing import StandardScaler\n",
        "import seaborn as sns\n",
        "import matplotlib.pyplot as plt\n",
        "\n",
        "\n"
      ],
      "metadata": {
        "id": "VqQ5koAI28pq"
      },
      "execution_count": null,
      "outputs": []
    },
    {
      "cell_type": "code",
      "source": [
        "data"
      ],
      "metadata": {
        "id": "cyxquu954psR"
      },
      "execution_count": null,
      "outputs": []
    },
    {
      "cell_type": "code",
      "source": [
        "pd.crosstab(data[\"age\"],data[\"deposit\"]).plot(kind=\"line\")"
      ],
      "metadata": {
        "id": "XhnRf2HTi_Xm"
      },
      "execution_count": null,
      "outputs": []
    },
    {
      "cell_type": "code",
      "source": [
        "fig = plt.figure(figsize=(15,3))\n",
        "sns.boxplot(data=data)\n"
      ],
      "metadata": {
        "id": "Rr25soX-l8l7"
      },
      "execution_count": null,
      "outputs": []
    },
    {
      "cell_type": "markdown",
      "source": [
        ""
      ],
      "metadata": {
        "id": "Lfcm5BUqkUlw"
      }
    },
    {
      "cell_type": "code",
      "source": [
        "from sklearn.feature_selection import SelectKBest\n",
        "from sklearn.feature_selection import chi2"
      ],
      "metadata": {
        "id": "O0NSchr2AZFB"
      },
      "execution_count": null,
      "outputs": []
    },
    {
      "cell_type": "code",
      "source": [
        "data=data.rename({\"deposit\":\"Y\"},axis=1)"
      ],
      "metadata": {
        "id": "3Rv5wsEJpUuj"
      },
      "execution_count": null,
      "outputs": []
    },
    {
      "cell_type": "code",
      "source": [
        "data[['job','marital','education','default','housing','loan','contact','poutcome',\n",
        "       'month','Y']] = data[['job','marital','education','default','housing','loan','contact','poutcome',\n",
        "        'month','Y']].astype('category')\n",
        "data1= data"
      ],
      "metadata": {
        "id": "K2_Jwt__CRGZ"
      },
      "execution_count": null,
      "outputs": []
    },
    {
      "cell_type": "code",
      "source": [
        "data1.info()"
      ],
      "metadata": {
        "id": "ma1sdOUgCxlx"
      },
      "execution_count": null,
      "outputs": []
    },
    {
      "cell_type": "code",
      "source": [
        "\n",
        "#Label Encoding\n",
        "\n",
        "data1['job'] = data1['job'].cat.codes\n",
        "data1['marital'] = data1['marital'].cat.codes\n",
        "data1['education'] = data1['education'].cat.codes\n",
        "data1['default'] = data1['default'].cat.codes\n",
        "data1['housing'] = data1['housing'].cat.codes\n",
        "data1['loan'] = data1['loan'].cat.codes\n",
        "data1['contact'] = data1['contact'].cat.codes\n",
        "data1['poutcome'] = data1['poutcome'].cat.codes\n",
        "data1['Y'] = data1['Y'].cat.codes\n",
        "data1['month'] = data1['month'].cat.codes\n",
        "\n"
      ],
      "metadata": {
        "id": "9vB8dP6qAZBD"
      },
      "execution_count": null,
      "outputs": []
    },
    {
      "cell_type": "code",
      "source": [
        "x = data1.iloc[:,:-1]\n",
        "y = data1.iloc[:,16]\n",
        "\n",
        "\n",
        "X1 = x.clip(lower=0)  "
      ],
      "metadata": {
        "id": "OFqFGE6J58BL"
      },
      "execution_count": null,
      "outputs": []
    },
    {
      "cell_type": "code",
      "source": [
        "\n",
        "data_x = X1\n",
        "data_x.head(5)"
      ],
      "metadata": {
        "id": "nEqHonDmK7Pd"
      },
      "execution_count": null,
      "outputs": []
    },
    {
      "cell_type": "code",
      "source": [
        "#as jobs is not a binomial caterical variable,education feature will not help in determing the term depodit as it contain more than\n",
        "#2 variable,contact is also not useful in determining,As duration is given we can ignore day column,,we will drop campaign,pdays\n",
        "#previous,poutcomes comlumns \n",
        "#drop-jobs,education,contact,day,campaign,pdays,previous,poutcomes comlumns \n",
        "data_x=data_x.drop([\"job\",\"education\",\"contact\",\"day\",\"campaign\",\"pdays\",\"previous\",\"poutcome\"],axis=1)"
      ],
      "metadata": {
        "id": "SDweST8fug9L"
      },
      "execution_count": null,
      "outputs": []
    },
    {
      "cell_type": "code",
      "source": [
        "data_x"
      ],
      "metadata": {
        "id": "s8KhYWHCxjO7"
      },
      "execution_count": null,
      "outputs": []
    },
    {
      "cell_type": "code",
      "source": [
        "y"
      ],
      "metadata": {
        "id": "sAVAWMEasmvr"
      },
      "execution_count": null,
      "outputs": []
    },
    {
      "cell_type": "code",
      "source": [
        "scaler=StandardScaler()\n",
        "X2=scaler.fit_transform(data_x)"
      ],
      "metadata": {
        "id": "ysAJwiIRvRGO"
      },
      "execution_count": null,
      "outputs": []
    },
    {
      "cell_type": "code",
      "source": [
        "classifier = LogisticRegression()\n",
        "classifier.fit(X2,y)"
      ],
      "metadata": {
        "id": "BRrRwljB7E6_"
      },
      "execution_count": null,
      "outputs": []
    },
    {
      "cell_type": "code",
      "source": [
        "y_pred = classifier.predict(X2)"
      ],
      "metadata": {
        "id": "kRDAMupt7kE9"
      },
      "execution_count": null,
      "outputs": []
    },
    {
      "cell_type": "code",
      "source": [
        "y_pred_df= pd.DataFrame({'actual': y,\n",
        "                         'predicted_prob': classifier.predict(X2)})"
      ],
      "metadata": {
        "id": "tqOuEAHL74Bl"
      },
      "execution_count": null,
      "outputs": []
    },
    {
      "cell_type": "code",
      "source": [
        "\n",
        "y_pred_df"
      ],
      "metadata": {
        "id": "Z3v6rpAZ76zl"
      },
      "execution_count": null,
      "outputs": []
    },
    {
      "cell_type": "code",
      "source": [
        "from sklearn.metrics import confusion_matrix\n",
        "confusion_matrix = confusion_matrix(y,y_pred)\n",
        "print (confusion_matrix)"
      ],
      "metadata": {
        "id": "cegc8ipR79Mn"
      },
      "execution_count": null,
      "outputs": []
    },
    {
      "cell_type": "code",
      "source": [
        "accuracy = sum(y==y_pred)/data1.shape[0]           #data.shape[0] : All rows\n",
        "accuracy"
      ],
      "metadata": {
        "id": "td1e-P7gs3s1"
      },
      "execution_count": null,
      "outputs": []
    },
    {
      "cell_type": "code",
      "source": [
        "from sklearn.metrics import classification_report\n",
        "print(classification_report(y,y_pred))"
      ],
      "metadata": {
        "id": "g85yy7658EEh"
      },
      "execution_count": null,
      "outputs": []
    },
    {
      "cell_type": "code",
      "source": [
        "from sklearn.metrics import roc_curve\n",
        "from sklearn.metrics import roc_auc_score\n",
        "\n",
        "fpr, tpr, thresholds = roc_curve(y, classifier.predict_proba (X2)[:,1])\n",
        "\n",
        "auc = roc_auc_score(y, y_pred)\n",
        "\n",
        "import matplotlib.pyplot as plt\n",
        "plt.plot(fpr, tpr, color='red', label='logit model ( area  = %0.2f)'%auc)\n",
        "plt.plot([0, 1], [0, 1], 'k--')\n",
        "plt.xlabel('False Positive Rate or [1 - True Negative Rate]')\n",
        "plt.ylabel('True Positive Rate')\n"
      ],
      "metadata": {
        "id": "bcJTUYEJ8GAq"
      },
      "execution_count": null,
      "outputs": []
    },
    {
      "cell_type": "code",
      "source": [
        "auc"
      ],
      "metadata": {
        "id": "i_dWVwUv8Lgf"
      },
      "execution_count": null,
      "outputs": []
    },
    {
      "cell_type": "code",
      "source": [
        "sns.heatmap(confusion_matrix, annot=True)\n",
        "plt.ylabel('Actual Label')\n",
        "plt.xlabel('Predicted Label')"
      ],
      "metadata": {
        "id": "NHuFIemn22WS"
      },
      "execution_count": null,
      "outputs": []
    },
    {
      "cell_type": "code",
      "source": [
        ""
      ],
      "metadata": {
        "id": "DYEKxX46sYsG"
      },
      "execution_count": null,
      "outputs": []
    }
  ]
}