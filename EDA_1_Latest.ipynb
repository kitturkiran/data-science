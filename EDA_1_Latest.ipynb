{
  "cells": [
    {
      "cell_type": "markdown",
      "metadata": {
        "id": "view-in-github",
        "colab_type": "text"
      },
      "source": [
        "<a href=\"https://colab.research.google.com/github/kitturkiran/data-science/blob/main/EDA_1_Latest.ipynb\" target=\"_parent\"><img src=\"https://colab.research.google.com/assets/colab-badge.svg\" alt=\"Open In Colab\"/></a>"
      ]
    },
    {
      "cell_type": "markdown",
      "metadata": {
        "id": "BKNwJETvAXje"
      },
      "source": [
        "# Exploratory Data Analysis"
      ]
    },
    {
      "cell_type": "code",
      "execution_count": null,
      "metadata": {
        "id": "7kkrcVumAXjl"
      },
      "outputs": [],
      "source": [
        "!pip install pandas_profiling\n",
        "!pip install sweetviz"
      ]
    },
    {
      "cell_type": "code",
      "execution_count": null,
      "metadata": {
        "id": "sRO54jThAXjo"
      },
      "outputs": [],
      "source": [
        "#load the libraries\n",
        "import pandas as pd\n",
        "import numpy as np\n",
        "import pandas_profiling as pp\n",
        "import sweetviz as sv"
      ]
    },
    {
      "cell_type": "code",
      "source": [
        ""
      ],
      "metadata": {
        "id": "PcrfPoZ6fPwL"
      },
      "execution_count": null,
      "outputs": []
    },
    {
      "cell_type": "code",
      "execution_count": null,
      "metadata": {
        "id": "JzDPbZNOAXjp"
      },
      "outputs": [],
      "source": [
        "data1 = pd.read_csv(\"data_clean.csv\")"
      ]
    },
    {
      "cell_type": "markdown",
      "source": [
        ""
      ],
      "metadata": {
        "id": "xB3MbMGNe6lm"
      }
    },
    {
      "cell_type": "code",
      "execution_count": null,
      "metadata": {
        "id": "2C-4q5jQAXjq"
      },
      "outputs": [],
      "source": [
        "data1"
      ]
    },
    {
      "cell_type": "code",
      "execution_count": null,
      "metadata": {
        "id": "9paSSYoPAXjr"
      },
      "outputs": [],
      "source": [
        "data1.tail(10)"
      ]
    },
    {
      "cell_type": "code",
      "execution_count": null,
      "metadata": {
        "id": "G5gcp_REAXjs"
      },
      "outputs": [],
      "source": [
        "\n",
        "data1"
      ]
    },
    {
      "cell_type": "code",
      "execution_count": null,
      "metadata": {
        "id": "xz0ov7OrAXjt"
      },
      "outputs": [],
      "source": [
        "#Data Structure \n",
        "type(data1)\n",
        "data1.shape"
      ]
    },
    {
      "cell_type": "code",
      "execution_count": null,
      "metadata": {
        "id": "2B0Qf0ilAXjv"
      },
      "outputs": [],
      "source": [
        "#data types\n",
        "data1.dtypes"
      ]
    },
    {
      "cell_type": "markdown",
      "metadata": {
        "id": "mTrKbrNEAXjw"
      },
      "source": [
        "# Data type conversion"
      ]
    },
    {
      "cell_type": "code",
      "execution_count": null,
      "metadata": {
        "id": "etftPyk1AXjx"
      },
      "outputs": [],
      "source": [
        "data1.info()"
      ]
    },
    {
      "cell_type": "code",
      "execution_count": null,
      "metadata": {
        "id": "tYSLrpaiAXjy"
      },
      "outputs": [],
      "source": [
        "data1"
      ]
    },
    {
      "cell_type": "code",
      "execution_count": null,
      "metadata": {
        "id": "StsB2epzAXjy"
      },
      "outputs": [],
      "source": [
        "data2=data1.iloc[:,1:]"
      ]
    },
    {
      "cell_type": "code",
      "execution_count": null,
      "metadata": {
        "id": "Hj_G6-ThAXjz"
      },
      "outputs": [],
      "source": [
        "data2"
      ]
    },
    {
      "cell_type": "code",
      "execution_count": null,
      "metadata": {
        "id": "wBX9oEmNAXj0"
      },
      "outputs": [],
      "source": [
        "#The method .copy() is used here so that any changes made in new DataFrame don't get reflected in the original one\n",
        "data=data2.copy()"
      ]
    },
    {
      "cell_type": "code",
      "execution_count": null,
      "metadata": {
        "id": "yvcPuJieAXj0"
      },
      "outputs": [],
      "source": [
        "data['Month']=pd.to_numeric(data['Month'],errors='coerce')\n",
        "data['Temp C']=pd.to_numeric(data['Temp C'],errors='coerce')# coerce will introduce NA values for non numeric data in the columns\n",
        "data['Weather']=data['Weather'].astype('category')           #data['Wind']=data['Wind'].astype('int64')"
      ]
    },
    {
      "cell_type": "code",
      "execution_count": null,
      "metadata": {
        "id": "SP_6SVVGAXj1"
      },
      "outputs": [],
      "source": [
        "data.info()"
      ]
    },
    {
      "cell_type": "markdown",
      "metadata": {
        "id": "s1pKchkSAXj1"
      },
      "source": [
        "# Duplicates"
      ]
    },
    {
      "cell_type": "code",
      "execution_count": null,
      "metadata": {
        "id": "fbKRT3HtAXj2"
      },
      "outputs": [],
      "source": [
        "#Count of duplicated rows\n",
        "data[data.duplicated()].shape"
      ]
    },
    {
      "cell_type": "code",
      "execution_count": null,
      "metadata": {
        "id": "ogduUa_SAXj2"
      },
      "outputs": [],
      "source": [
        "data"
      ]
    },
    {
      "cell_type": "code",
      "execution_count": null,
      "metadata": {
        "id": "Hzxi978LAXj3"
      },
      "outputs": [],
      "source": [
        "#Print the duplicated rows\n",
        "data[data.duplicated()]"
      ]
    },
    {
      "cell_type": "code",
      "execution_count": null,
      "metadata": {
        "id": "wv5rc61JAXj3"
      },
      "outputs": [],
      "source": [
        "data_cleaned1=data.drop_duplicates()"
      ]
    },
    {
      "cell_type": "code",
      "execution_count": null,
      "metadata": {
        "id": "ps3arNiYAXj5"
      },
      "outputs": [],
      "source": [
        "data_cleaned1.shape"
      ]
    },
    {
      "cell_type": "markdown",
      "metadata": {
        "id": "BfGkeZgyAXj7"
      },
      "source": [
        "# Drop columns"
      ]
    },
    {
      "cell_type": "code",
      "execution_count": null,
      "metadata": {
        "id": "imgyBSwMAXj9"
      },
      "outputs": [],
      "source": [
        "data_cleaned2=data_cleaned1.drop('Temp C',axis=1)"
      ]
    },
    {
      "cell_type": "code",
      "execution_count": null,
      "metadata": {
        "id": "u8SLynF1AXj-"
      },
      "outputs": [],
      "source": [
        "data_cleaned2"
      ]
    },
    {
      "cell_type": "markdown",
      "metadata": {
        "id": "-C9A2m8qAXj_"
      },
      "source": [
        "# Rename the columns"
      ]
    },
    {
      "cell_type": "code",
      "execution_count": null,
      "metadata": {
        "id": "jh5nLYN5AXkA"
      },
      "outputs": [],
      "source": [
        "#rename the Solar column\n",
        "data_cleaned3 = data_cleaned2.rename({'Solar.R': 'Solar'}, axis=1)"
      ]
    },
    {
      "cell_type": "code",
      "execution_count": null,
      "metadata": {
        "id": "-D7MsvDXAXkB"
      },
      "outputs": [],
      "source": [
        "data_cleaned3"
      ]
    },
    {
      "cell_type": "markdown",
      "metadata": {
        "id": "KGRrfVE2AXkC"
      },
      "source": [
        "# Outlier Detection"
      ]
    },
    {
      "cell_type": "code",
      "execution_count": null,
      "metadata": {
        "id": "902xXZvZAXkC"
      },
      "outputs": [],
      "source": [
        "# histogram of Ozone\n",
        "data_cleaned3['Ozone'].hist()"
      ]
    },
    {
      "cell_type": "code",
      "execution_count": null,
      "metadata": {
        "id": "oGPkLa-bAXkD"
      },
      "outputs": [],
      "source": [
        "#Box plot\n",
        "data_cleaned3.boxplot(column=['Ozone'])"
      ]
    },
    {
      "cell_type": "code",
      "execution_count": null,
      "metadata": {
        "id": "2-xcNR5zAXkF"
      },
      "outputs": [],
      "source": [
        "#Descriptive stat\n",
        "data_cleaned3['Ozone'].describe()"
      ]
    },
    {
      "cell_type": "code",
      "execution_count": null,
      "metadata": {
        "id": "ALoibaMvAXkF"
      },
      "outputs": [],
      "source": [
        "data_cleaned3"
      ]
    },
    {
      "cell_type": "code",
      "execution_count": null,
      "metadata": {
        "id": "4qLE3C-ZAXkG"
      },
      "outputs": [],
      "source": [
        "#Bar plot\n",
        "data['Weather'].value_counts().plot.bar()"
      ]
    },
    {
      "cell_type": "markdown",
      "metadata": {
        "id": "xx3iABnYAXkH"
      },
      "source": [
        "# Missing Values and Imputation"
      ]
    },
    {
      "cell_type": "code",
      "execution_count": null,
      "metadata": {
        "id": "ivnn_uUpAXkK"
      },
      "outputs": [],
      "source": [
        "import seaborn as sns\n",
        "cols = data_cleaned3.columns \n",
        "colours = ['#000099', '#ffff00'] # specify the colours - yellow is missing. blue is not missing.\n",
        "sns.heatmap(data_cleaned3[cols].isnull(),\n",
        "            cmap=sns.color_palette(colours))"
      ]
    },
    {
      "cell_type": "code",
      "execution_count": null,
      "metadata": {
        "id": "vkJmwFW3AXkK"
      },
      "outputs": [],
      "source": [
        "data_cleaned3[data_cleaned3.isnull().any(axis=1)].head()"
      ]
    },
    {
      "cell_type": "code",
      "execution_count": null,
      "metadata": {
        "id": "LgSEYjYcAXkK"
      },
      "outputs": [],
      "source": [
        "data_cleaned3.isnull().sum()"
      ]
    },
    {
      "cell_type": "code",
      "execution_count": null,
      "metadata": {
        "id": "JdRywAhLAXkL"
      },
      "outputs": [],
      "source": [
        "#Mean Imputation\n",
        "mean = data_cleaned3['Ozone'].mean()\n",
        "print(mean)"
      ]
    },
    {
      "cell_type": "code",
      "execution_count": null,
      "metadata": {
        "id": "va43vWfNAXkL"
      },
      "outputs": [],
      "source": [
        "data_cleaned3['Ozone'] = data_cleaned3['Ozone'].fillna(mean)"
      ]
    },
    {
      "cell_type": "code",
      "execution_count": null,
      "metadata": {
        "id": "ufEnRRRhAXkL"
      },
      "outputs": [],
      "source": [
        "data_cleaned3"
      ]
    },
    {
      "cell_type": "code",
      "execution_count": null,
      "metadata": {
        "id": "bV_yPJv2AXkL"
      },
      "outputs": [],
      "source": [
        "#Missing value imputation for categorical vlaue\n",
        "#Get the object columns\n",
        "obj_columns=data_cleaned3[['Weather']]"
      ]
    },
    {
      "cell_type": "code",
      "execution_count": null,
      "metadata": {
        "id": "Fzx9-0EHAXkM"
      },
      "outputs": [],
      "source": [
        "obj_columns.isnull().sum()"
      ]
    },
    {
      "cell_type": "code",
      "execution_count": null,
      "metadata": {
        "id": "XFKkqVdoAXkM"
      },
      "outputs": [],
      "source": [
        "#Missing value imputation for categorical vlaue\n",
        "obj_columns=obj_columns.fillna(obj_columns.mode().iloc[0])"
      ]
    },
    {
      "cell_type": "code",
      "execution_count": null,
      "metadata": {
        "id": "rXD9TD3sAXkM"
      },
      "outputs": [],
      "source": [
        "obj_columns.isnull().sum()"
      ]
    },
    {
      "cell_type": "code",
      "execution_count": null,
      "metadata": {
        "id": "2eMm1EyWAXkN"
      },
      "outputs": [],
      "source": [
        "data_cleaned3.shape"
      ]
    },
    {
      "cell_type": "code",
      "execution_count": null,
      "metadata": {
        "id": "BdFT9mzUAXkN"
      },
      "outputs": [],
      "source": [
        "obj_columns.shape"
      ]
    },
    {
      "cell_type": "code",
      "execution_count": null,
      "metadata": {
        "id": "G4QS9N7QAXkO"
      },
      "outputs": [],
      "source": [
        "#Join the data set with imputed object dataset\n",
        "data_cleaned4=pd.concat([data_cleaned3,obj_columns],axis=1)"
      ]
    },
    {
      "cell_type": "code",
      "execution_count": null,
      "metadata": {
        "id": "IoYiS6cjAXkO"
      },
      "outputs": [],
      "source": [
        "data_cleaned4.isnull().sum()"
      ]
    },
    {
      "cell_type": "markdown",
      "metadata": {
        "id": "H-fIliHFAXkO"
      },
      "source": [
        "# Scatter plot and Correlation analysis"
      ]
    },
    {
      "cell_type": "code",
      "execution_count": null,
      "metadata": {
        "id": "1edJml2BAXkP"
      },
      "outputs": [],
      "source": [
        "# Seaborn visualization library\n",
        "import seaborn as sns\n",
        "# Create the default pairplot\n",
        "sns.pairplot(data_cleaned3)"
      ]
    },
    {
      "cell_type": "code",
      "execution_count": null,
      "metadata": {
        "id": "ecTk5R9DAXkP"
      },
      "outputs": [],
      "source": [
        "#Correlation\n",
        "data_cleaned3.corr()"
      ]
    },
    {
      "cell_type": "markdown",
      "metadata": {
        "id": "5c571NKiAXkP"
      },
      "source": [
        "# Transformations"
      ]
    },
    {
      "cell_type": "markdown",
      "metadata": {
        "id": "-Q2ANbCXAXkQ"
      },
      "source": [
        "#### Dummy Variable"
      ]
    },
    {
      "cell_type": "code",
      "execution_count": null,
      "metadata": {
        "id": "SOgH4rzYAXkQ"
      },
      "outputs": [],
      "source": [
        "#Creating dummy variable for Weather column\n",
        "data_cleaned4=pd.get_dummies(data,columns=['Weather'])"
      ]
    },
    {
      "cell_type": "code",
      "execution_count": null,
      "metadata": {
        "id": "qB2AOOWJAXkR"
      },
      "outputs": [],
      "source": [
        "data_cleaned4"
      ]
    },
    {
      "cell_type": "code",
      "execution_count": null,
      "metadata": {
        "id": "GXn_VDkOAXkR"
      },
      "outputs": [],
      "source": [
        "data_cleaned4=data_cleaned4.dropna()"
      ]
    },
    {
      "cell_type": "markdown",
      "metadata": {
        "id": "pk1miIQRAXkR"
      },
      "source": [
        "#### Normalization of the data"
      ]
    },
    {
      "cell_type": "code",
      "execution_count": null,
      "metadata": {
        "id": "1Y2NDKqEAXkS"
      },
      "outputs": [],
      "source": [
        "#Normalization of the data\n",
        "from numpy import set_printoptions\n",
        "from sklearn.preprocessing import MinMaxScaler"
      ]
    },
    {
      "cell_type": "code",
      "execution_count": null,
      "metadata": {
        "id": "DTTFXrbHAXkS"
      },
      "outputs": [],
      "source": [
        "data_cleaned4.values"
      ]
    },
    {
      "cell_type": "code",
      "execution_count": null,
      "metadata": {
        "id": "e5h-eT40AXkS"
      },
      "outputs": [],
      "source": [
        "array = data_cleaned3.values\n",
        "\n",
        "scaler = MinMaxScaler(feature_range=(0,1))\n",
        "rescaledX = scaler.fit_transform(array[:,0:5])\n",
        "\n",
        "#transformed data\n",
        "set_printoptions(precision=2)\n",
        "print(rescaledX[0:5,:])\n"
      ]
    },
    {
      "cell_type": "code",
      "execution_count": null,
      "metadata": {
        "id": "nf8kHda4AXkT"
      },
      "outputs": [],
      "source": [
        "# Standardize data (0 mean, 1 stdev)\n",
        "from sklearn.preprocessing import StandardScaler"
      ]
    },
    {
      "cell_type": "code",
      "execution_count": null,
      "metadata": {
        "id": "sG8fhzhnAXkT"
      },
      "outputs": [],
      "source": [
        "array = data_cleaned4.values\n",
        "scaler = StandardScaler().fit(array)\n",
        "rescaledX = scaler.transform(array)\n",
        "\n",
        "# summarize transformed data\n",
        "set_printoptions(precision=2)\n",
        "print(rescaledX[0:5,:])"
      ]
    },
    {
      "cell_type": "markdown",
      "metadata": {
        "id": "chaCsO25AXkU"
      },
      "source": [
        "# Speed up the EDA process"
      ]
    },
    {
      "cell_type": "code",
      "execution_count": null,
      "metadata": {
        "id": "-rWNpr6fAXkU"
      },
      "outputs": [],
      "source": [
        "EDA_report= pp.ProfileReport(data)\n",
        "EDA_report.to_file(output_file='report.html')"
      ]
    },
    {
      "cell_type": "code",
      "execution_count": null,
      "metadata": {
        "id": "ZBIYWb_HAXkU"
      },
      "outputs": [],
      "source": [
        "sweet_report = sv.analyze(data)\n",
        "sweet_report.show_html('weather_report.html')"
      ]
    }
  ],
  "metadata": {
    "kernelspec": {
      "display_name": "Python 3",
      "language": "python",
      "name": "python3"
    },
    "language_info": {
      "codemirror_mode": {
        "name": "ipython",
        "version": 3
      },
      "file_extension": ".py",
      "mimetype": "text/x-python",
      "name": "python",
      "nbconvert_exporter": "python",
      "pygments_lexer": "ipython3",
      "version": "3.7.4"
    },
    "colab": {
      "name": "EDA_1_Latest.ipynb",
      "provenance": [],
      "collapsed_sections": [
        "-Q2ANbCXAXkQ",
        "pk1miIQRAXkR",
        "chaCsO25AXkU"
      ],
      "include_colab_link": true
    }
  },
  "nbformat": 4,
  "nbformat_minor": 0
}